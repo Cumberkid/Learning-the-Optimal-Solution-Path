{
 "cells": [
  {
   "cell_type": "markdown",
   "metadata": {
    "id": "ZrpyuxcPuBMC",
    "jp-MarkdownHeadingCollapsed": true
   },
   "source": [
    "# 01 Import libraries"
   ]
  },
  {
   "cell_type": "code",
   "execution_count": 1,
   "metadata": {
    "colab": {
     "base_uri": "https://localhost:8080/"
    },
    "executionInfo": {
     "elapsed": 9992,
     "status": "ok",
     "timestamp": 1726524152873,
     "user": {
      "displayName": "Qiran Dong",
      "userId": "17293459686455441476"
     },
     "user_tz": 420
    },
    "id": "c69qsdzouBMK",
    "outputId": "53ac8f0d-4e7d-4cfd-8aff-c3b54c98c9c2"
   },
   "outputs": [
    {
     "name": "stdout",
     "output_type": "stream",
     "text": [
      "Using device: cpu\n"
     ]
    }
   ],
   "source": [
    "import numpy as np\n",
    "import torch\n",
    "\n",
    "device = (\n",
    "    \"cuda\"\n",
    "    if torch.cuda.is_available()\n",
    "    else \"mps\"\n",
    "    if torch.backends.mps.is_available()\n",
    "    else \"cpu\"\n",
    ")\n",
    "print(f\"Using device: {device}\")"
   ]
  },
  {
   "cell_type": "code",
   "execution_count": 2,
   "metadata": {
    "executionInfo": {
     "elapsed": 667,
     "status": "ok",
     "timestamp": 1726524153536,
     "user": {
      "displayName": "Qiran Dong",
      "userId": "17293459686455441476"
     },
     "user_tz": 420
    },
    "id": "nKiZrvI3uBMK"
   },
   "outputs": [],
   "source": [
    "import pandas as pd"
   ]
  },
  {
   "cell_type": "code",
   "execution_count": 3,
   "metadata": {
    "executionInfo": {
     "elapsed": 5,
     "status": "ok",
     "timestamp": 1726524153537,
     "user": {
      "displayName": "Qiran Dong",
      "userId": "17293459686455441476"
     },
     "user_tz": 420
    },
    "id": "n5rQ2Zl4tpi9"
   },
   "outputs": [],
   "source": [
    "import importlib"
   ]
  },
  {
   "cell_type": "code",
   "execution_count": 4,
   "metadata": {},
   "outputs": [],
   "source": [
    "%reload_ext autoreload\n",
    "%autoreload 2"
   ]
  },
  {
   "cell_type": "code",
   "execution_count": 5,
   "metadata": {
    "colab": {
     "base_uri": "https://localhost:8080/"
    },
    "executionInfo": {
     "elapsed": 5,
     "status": "ok",
     "timestamp": 1726524156659,
     "user": {
      "displayName": "Qiran Dong",
      "userId": "17293459686455441476"
     },
     "user_tz": 420
    },
    "id": "vZuer2csD23g",
    "outputId": "547c634f-ac0d-4dbe-9d81-039a12d99c7d"
   },
   "outputs": [
    {
     "data": {
      "text/plain": [
       "<module 'lib' from 'c:\\\\Users\\\\dongq\\\\OneDrive\\\\Desktop\\\\New results\\\\Learning-the-Optimal-Solution-Path\\\\lib\\\\__init__.py'>"
      ]
     },
     "execution_count": 5,
     "metadata": {},
     "output_type": "execute_result"
    }
   ],
   "source": [
    "import lib\n",
    "importlib.reload(lib)"
   ]
  },
  {
   "cell_type": "code",
   "execution_count": 6,
   "metadata": {
    "executionInfo": {
     "elapsed": 880,
     "status": "ok",
     "timestamp": 1726524157535,
     "user": {
      "displayName": "Qiran Dong",
      "userId": "17293459686455441476"
     },
     "user_tz": 420
    },
    "id": "i1wokCiguBMK"
   },
   "outputs": [],
   "source": [
    "from lib.lsp.basis_generator import customized_jacobi\n",
    "from lib.lsp.basis_tf_module import Basis_TF_SGD\n",
    "from lib.lsp.learn_solution_path import adaptive_lsp\n",
    "from lib.lsp.loss_fn_lsp import reg_unif_weighted_logit\n",
    "from lib.fast_tensor_data_loader import FastTensorDataLoader"
   ]
  },
  {
   "cell_type": "markdown",
   "metadata": {
    "id": "kgFudN6y47h_"
   },
   "source": [
    "# 02 Load data"
   ]
  },
  {
   "cell_type": "code",
   "execution_count": 7,
   "metadata": {
    "executionInfo": {
     "elapsed": 7,
     "status": "ok",
     "timestamp": 1726524157536,
     "user": {
      "displayName": "Qiran Dong",
      "userId": "17293459686455441476"
     },
     "user_tz": 420
    },
    "id": "HWq6R8dR47iA"
   },
   "outputs": [],
   "source": [
    "# file path for Colab. May need to change this\n",
    "X_df = pd.read_csv('X_processed.csv')\n",
    "y_df = pd.read_csv('y_processed.csv')"
   ]
  },
  {
   "cell_type": "code",
   "execution_count": 8,
   "metadata": {
    "executionInfo": {
     "elapsed": 6,
     "status": "ok",
     "timestamp": 1726524157536,
     "user": {
      "displayName": "Qiran Dong",
      "userId": "17293459686455441476"
     },
     "user_tz": 420
    },
    "id": "-E9UrfMd47iA"
   },
   "outputs": [],
   "source": [
    "X = np.array(X_df)\n",
    "y = np.array(y_df).squeeze()"
   ]
  },
  {
   "cell_type": "code",
   "execution_count": 9,
   "metadata": {
    "executionInfo": {
     "elapsed": 5,
     "status": "ok",
     "timestamp": 1726524157536,
     "user": {
      "displayName": "Qiran Dong",
      "userId": "17293459686455441476"
     },
     "user_tz": 420
    },
    "id": "9k93cwrA47iA"
   },
   "outputs": [],
   "source": [
    "train_X = torch.tensor(X, dtype=torch.float32)\n",
    "train_y = torch.tensor(y, dtype=torch.float32)"
   ]
  },
  {
   "cell_type": "code",
   "execution_count": 10,
   "metadata": {
    "executionInfo": {
     "elapsed": 337,
     "status": "ok",
     "timestamp": 1726524157868,
     "user": {
      "displayName": "Qiran Dong",
      "userId": "17293459686455441476"
     },
     "user_tz": 420
    },
    "id": "Pym_yGJl47iA"
   },
   "outputs": [],
   "source": [
    "# full gradient descent uses all data points\n",
    "GD_data_loader = FastTensorDataLoader(train_X, train_y, batch_size=1000, shuffle=True, )\n",
    "# test data\n",
    "test_data_loader = FastTensorDataLoader(train_X, train_y, batch_size=1000, shuffle=False, )"
   ]
  },
  {
   "cell_type": "code",
   "execution_count": 11,
   "metadata": {
    "executionInfo": {
     "elapsed": 7,
     "status": "ok",
     "timestamp": 1726524157868,
     "user": {
      "displayName": "Qiran Dong",
      "userId": "17293459686455441476"
     },
     "user_tz": 420
    },
    "id": "SV7-rl5z47iA"
   },
   "outputs": [],
   "source": [
    "lam_max = [1]\n",
    "lam_min = [0]\n",
    "input_dim = X.shape[1]\n",
    "loss_fn = reg_unif_weighted_logit"
   ]
  },
  {
   "cell_type": "code",
   "execution_count": 12,
   "metadata": {
    "colab": {
     "base_uri": "https://localhost:8080/",
     "height": 0
    },
    "executionInfo": {
     "elapsed": 8,
     "status": "ok",
     "timestamp": 1726524157869,
     "user": {
      "displayName": "Qiran Dong",
      "userId": "17293459686455441476"
     },
     "user_tz": 420
    },
    "id": "beo_WBCx47iA",
    "outputId": "f03938bc-1a14-4c8f-c1e0-d07275bdfcd6"
   },
   "outputs": [
    {
     "data": {
      "text/html": [
       "<div>\n",
       "<style scoped>\n",
       "    .dataframe tbody tr th:only-of-type {\n",
       "        vertical-align: middle;\n",
       "    }\n",
       "\n",
       "    .dataframe tbody tr th {\n",
       "        vertical-align: top;\n",
       "    }\n",
       "\n",
       "    .dataframe thead th {\n",
       "        text-align: right;\n",
       "    }\n",
       "</style>\n",
       "<table border=\"1\" class=\"dataframe\">\n",
       "  <thead>\n",
       "    <tr style=\"text-align: right;\">\n",
       "      <th></th>\n",
       "      <th>losses</th>\n",
       "      <th>theta_0</th>\n",
       "      <th>theta_1</th>\n",
       "      <th>theta_2</th>\n",
       "      <th>theta_3</th>\n",
       "      <th>theta_4</th>\n",
       "      <th>theta_5</th>\n",
       "      <th>theta_6</th>\n",
       "      <th>theta_7</th>\n",
       "      <th>theta_8</th>\n",
       "      <th>...</th>\n",
       "      <th>theta_36</th>\n",
       "      <th>theta_37</th>\n",
       "      <th>theta_38</th>\n",
       "      <th>theta_39</th>\n",
       "      <th>theta_40</th>\n",
       "      <th>theta_41</th>\n",
       "      <th>theta_42</th>\n",
       "      <th>theta_43</th>\n",
       "      <th>theta_44</th>\n",
       "      <th>theta_45</th>\n",
       "    </tr>\n",
       "  </thead>\n",
       "  <tbody>\n",
       "    <tr>\n",
       "      <th>0</th>\n",
       "      <td>0.190793</td>\n",
       "      <td>-0.373029</td>\n",
       "      <td>0.186622</td>\n",
       "      <td>0.227443</td>\n",
       "      <td>-0.023583</td>\n",
       "      <td>0.164822</td>\n",
       "      <td>0.142992</td>\n",
       "      <td>0.168018</td>\n",
       "      <td>0.026305</td>\n",
       "      <td>0.142661</td>\n",
       "      <td>...</td>\n",
       "      <td>-0.018010</td>\n",
       "      <td>0.054908</td>\n",
       "      <td>-0.005629</td>\n",
       "      <td>0.000000</td>\n",
       "      <td>0.000000</td>\n",
       "      <td>-0.031270</td>\n",
       "      <td>-0.018010</td>\n",
       "      <td>-0.139608</td>\n",
       "      <td>-0.116840</td>\n",
       "      <td>-0.061673</td>\n",
       "    </tr>\n",
       "    <tr>\n",
       "      <th>1</th>\n",
       "      <td>0.192130</td>\n",
       "      <td>-0.371212</td>\n",
       "      <td>0.186634</td>\n",
       "      <td>0.227586</td>\n",
       "      <td>-0.023679</td>\n",
       "      <td>0.164875</td>\n",
       "      <td>0.142262</td>\n",
       "      <td>0.167428</td>\n",
       "      <td>0.025960</td>\n",
       "      <td>0.142993</td>\n",
       "      <td>...</td>\n",
       "      <td>-0.017600</td>\n",
       "      <td>0.054199</td>\n",
       "      <td>-0.005657</td>\n",
       "      <td>0.000069</td>\n",
       "      <td>0.000098</td>\n",
       "      <td>-0.031115</td>\n",
       "      <td>-0.017600</td>\n",
       "      <td>-0.139385</td>\n",
       "      <td>-0.116402</td>\n",
       "      <td>-0.061226</td>\n",
       "    </tr>\n",
       "    <tr>\n",
       "      <th>2</th>\n",
       "      <td>0.193463</td>\n",
       "      <td>-0.369401</td>\n",
       "      <td>0.186645</td>\n",
       "      <td>0.227729</td>\n",
       "      <td>-0.023775</td>\n",
       "      <td>0.164927</td>\n",
       "      <td>0.141535</td>\n",
       "      <td>0.166842</td>\n",
       "      <td>0.025615</td>\n",
       "      <td>0.143323</td>\n",
       "      <td>...</td>\n",
       "      <td>-0.017191</td>\n",
       "      <td>0.053493</td>\n",
       "      <td>-0.005685</td>\n",
       "      <td>0.000137</td>\n",
       "      <td>0.000195</td>\n",
       "      <td>-0.030961</td>\n",
       "      <td>-0.017191</td>\n",
       "      <td>-0.139162</td>\n",
       "      <td>-0.115965</td>\n",
       "      <td>-0.060781</td>\n",
       "    </tr>\n",
       "    <tr>\n",
       "      <th>3</th>\n",
       "      <td>0.194792</td>\n",
       "      <td>-0.367595</td>\n",
       "      <td>0.186656</td>\n",
       "      <td>0.227870</td>\n",
       "      <td>-0.023870</td>\n",
       "      <td>0.164977</td>\n",
       "      <td>0.140811</td>\n",
       "      <td>0.166258</td>\n",
       "      <td>0.025271</td>\n",
       "      <td>0.143653</td>\n",
       "      <td>...</td>\n",
       "      <td>-0.016784</td>\n",
       "      <td>0.052790</td>\n",
       "      <td>-0.005713</td>\n",
       "      <td>0.000205</td>\n",
       "      <td>0.000293</td>\n",
       "      <td>-0.030808</td>\n",
       "      <td>-0.016784</td>\n",
       "      <td>-0.138939</td>\n",
       "      <td>-0.115529</td>\n",
       "      <td>-0.060337</td>\n",
       "    </tr>\n",
       "    <tr>\n",
       "      <th>4</th>\n",
       "      <td>0.196117</td>\n",
       "      <td>-0.365794</td>\n",
       "      <td>0.186665</td>\n",
       "      <td>0.228009</td>\n",
       "      <td>-0.023964</td>\n",
       "      <td>0.165027</td>\n",
       "      <td>0.140089</td>\n",
       "      <td>0.165677</td>\n",
       "      <td>0.024927</td>\n",
       "      <td>0.143982</td>\n",
       "      <td>...</td>\n",
       "      <td>-0.016378</td>\n",
       "      <td>0.052089</td>\n",
       "      <td>-0.005741</td>\n",
       "      <td>0.000273</td>\n",
       "      <td>0.000390</td>\n",
       "      <td>-0.030655</td>\n",
       "      <td>-0.016378</td>\n",
       "      <td>-0.138717</td>\n",
       "      <td>-0.115094</td>\n",
       "      <td>-0.059894</td>\n",
       "    </tr>\n",
       "    <tr>\n",
       "      <th>...</th>\n",
       "      <td>...</td>\n",
       "      <td>...</td>\n",
       "      <td>...</td>\n",
       "      <td>...</td>\n",
       "      <td>...</td>\n",
       "      <td>...</td>\n",
       "      <td>...</td>\n",
       "      <td>...</td>\n",
       "      <td>...</td>\n",
       "      <td>...</td>\n",
       "      <td>...</td>\n",
       "      <td>...</td>\n",
       "      <td>...</td>\n",
       "      <td>...</td>\n",
       "      <td>...</td>\n",
       "      <td>...</td>\n",
       "      <td>...</td>\n",
       "      <td>...</td>\n",
       "      <td>...</td>\n",
       "      <td>...</td>\n",
       "      <td>...</td>\n",
       "    </tr>\n",
       "    <tr>\n",
       "      <th>1019</th>\n",
       "      <td>0.327684</td>\n",
       "      <td>0.692472</td>\n",
       "      <td>-0.029101</td>\n",
       "      <td>-0.033382</td>\n",
       "      <td>-0.017462</td>\n",
       "      <td>-0.005831</td>\n",
       "      <td>-0.225541</td>\n",
       "      <td>-0.146453</td>\n",
       "      <td>-0.051680</td>\n",
       "      <td>0.070009</td>\n",
       "      <td>...</td>\n",
       "      <td>0.105324</td>\n",
       "      <td>-0.201982</td>\n",
       "      <td>0.000913</td>\n",
       "      <td>0.013100</td>\n",
       "      <td>0.018598</td>\n",
       "      <td>0.063129</td>\n",
       "      <td>0.105324</td>\n",
       "      <td>0.157442</td>\n",
       "      <td>0.161747</td>\n",
       "      <td>0.171301</td>\n",
       "    </tr>\n",
       "    <tr>\n",
       "      <th>1020</th>\n",
       "      <td>0.325866</td>\n",
       "      <td>0.693930</td>\n",
       "      <td>-0.029932</td>\n",
       "      <td>-0.034521</td>\n",
       "      <td>-0.017548</td>\n",
       "      <td>-0.006565</td>\n",
       "      <td>-0.226194</td>\n",
       "      <td>-0.148351</td>\n",
       "      <td>-0.051246</td>\n",
       "      <td>0.068693</td>\n",
       "      <td>...</td>\n",
       "      <td>0.105340</td>\n",
       "      <td>-0.202186</td>\n",
       "      <td>0.000990</td>\n",
       "      <td>0.013040</td>\n",
       "      <td>0.018537</td>\n",
       "      <td>0.063366</td>\n",
       "      <td>0.105340</td>\n",
       "      <td>0.158131</td>\n",
       "      <td>0.162149</td>\n",
       "      <td>0.171464</td>\n",
       "    </tr>\n",
       "    <tr>\n",
       "      <th>1021</th>\n",
       "      <td>0.324032</td>\n",
       "      <td>0.695399</td>\n",
       "      <td>-0.030769</td>\n",
       "      <td>-0.035668</td>\n",
       "      <td>-0.017634</td>\n",
       "      <td>-0.007304</td>\n",
       "      <td>-0.226853</td>\n",
       "      <td>-0.150274</td>\n",
       "      <td>-0.050809</td>\n",
       "      <td>0.067366</td>\n",
       "      <td>...</td>\n",
       "      <td>0.105357</td>\n",
       "      <td>-0.202393</td>\n",
       "      <td>0.001066</td>\n",
       "      <td>0.012980</td>\n",
       "      <td>0.018475</td>\n",
       "      <td>0.063604</td>\n",
       "      <td>0.105357</td>\n",
       "      <td>0.158825</td>\n",
       "      <td>0.162554</td>\n",
       "      <td>0.171627</td>\n",
       "    </tr>\n",
       "    <tr>\n",
       "      <th>1022</th>\n",
       "      <td>0.322184</td>\n",
       "      <td>0.696878</td>\n",
       "      <td>-0.031613</td>\n",
       "      <td>-0.036822</td>\n",
       "      <td>-0.017720</td>\n",
       "      <td>-0.008050</td>\n",
       "      <td>-0.227517</td>\n",
       "      <td>-0.152223</td>\n",
       "      <td>-0.050369</td>\n",
       "      <td>0.066028</td>\n",
       "      <td>...</td>\n",
       "      <td>0.105374</td>\n",
       "      <td>-0.202601</td>\n",
       "      <td>0.001143</td>\n",
       "      <td>0.012919</td>\n",
       "      <td>0.018415</td>\n",
       "      <td>0.063843</td>\n",
       "      <td>0.105374</td>\n",
       "      <td>0.159523</td>\n",
       "      <td>0.162962</td>\n",
       "      <td>0.171792</td>\n",
       "    </tr>\n",
       "    <tr>\n",
       "      <th>1023</th>\n",
       "      <td>0.320320</td>\n",
       "      <td>0.698369</td>\n",
       "      <td>-0.032464</td>\n",
       "      <td>-0.037983</td>\n",
       "      <td>-0.017807</td>\n",
       "      <td>-0.008802</td>\n",
       "      <td>-0.228186</td>\n",
       "      <td>-0.154196</td>\n",
       "      <td>-0.049927</td>\n",
       "      <td>0.064680</td>\n",
       "      <td>...</td>\n",
       "      <td>0.105391</td>\n",
       "      <td>-0.202811</td>\n",
       "      <td>0.001220</td>\n",
       "      <td>0.012859</td>\n",
       "      <td>0.018354</td>\n",
       "      <td>0.064084</td>\n",
       "      <td>0.105391</td>\n",
       "      <td>0.160226</td>\n",
       "      <td>0.163374</td>\n",
       "      <td>0.171958</td>\n",
       "    </tr>\n",
       "  </tbody>\n",
       "</table>\n",
       "<p>1024 rows × 47 columns</p>\n",
       "</div>"
      ],
      "text/plain": [
       "        losses   theta_0   theta_1   theta_2   theta_3   theta_4   theta_5  \\\n",
       "0     0.190793 -0.373029  0.186622  0.227443 -0.023583  0.164822  0.142992   \n",
       "1     0.192130 -0.371212  0.186634  0.227586 -0.023679  0.164875  0.142262   \n",
       "2     0.193463 -0.369401  0.186645  0.227729 -0.023775  0.164927  0.141535   \n",
       "3     0.194792 -0.367595  0.186656  0.227870 -0.023870  0.164977  0.140811   \n",
       "4     0.196117 -0.365794  0.186665  0.228009 -0.023964  0.165027  0.140089   \n",
       "...        ...       ...       ...       ...       ...       ...       ...   \n",
       "1019  0.327684  0.692472 -0.029101 -0.033382 -0.017462 -0.005831 -0.225541   \n",
       "1020  0.325866  0.693930 -0.029932 -0.034521 -0.017548 -0.006565 -0.226194   \n",
       "1021  0.324032  0.695399 -0.030769 -0.035668 -0.017634 -0.007304 -0.226853   \n",
       "1022  0.322184  0.696878 -0.031613 -0.036822 -0.017720 -0.008050 -0.227517   \n",
       "1023  0.320320  0.698369 -0.032464 -0.037983 -0.017807 -0.008802 -0.228186   \n",
       "\n",
       "       theta_6   theta_7   theta_8  ...  theta_36  theta_37  theta_38  \\\n",
       "0     0.168018  0.026305  0.142661  ... -0.018010  0.054908 -0.005629   \n",
       "1     0.167428  0.025960  0.142993  ... -0.017600  0.054199 -0.005657   \n",
       "2     0.166842  0.025615  0.143323  ... -0.017191  0.053493 -0.005685   \n",
       "3     0.166258  0.025271  0.143653  ... -0.016784  0.052790 -0.005713   \n",
       "4     0.165677  0.024927  0.143982  ... -0.016378  0.052089 -0.005741   \n",
       "...        ...       ...       ...  ...       ...       ...       ...   \n",
       "1019 -0.146453 -0.051680  0.070009  ...  0.105324 -0.201982  0.000913   \n",
       "1020 -0.148351 -0.051246  0.068693  ...  0.105340 -0.202186  0.000990   \n",
       "1021 -0.150274 -0.050809  0.067366  ...  0.105357 -0.202393  0.001066   \n",
       "1022 -0.152223 -0.050369  0.066028  ...  0.105374 -0.202601  0.001143   \n",
       "1023 -0.154196 -0.049927  0.064680  ...  0.105391 -0.202811  0.001220   \n",
       "\n",
       "      theta_39  theta_40  theta_41  theta_42  theta_43  theta_44  theta_45  \n",
       "0     0.000000  0.000000 -0.031270 -0.018010 -0.139608 -0.116840 -0.061673  \n",
       "1     0.000069  0.000098 -0.031115 -0.017600 -0.139385 -0.116402 -0.061226  \n",
       "2     0.000137  0.000195 -0.030961 -0.017191 -0.139162 -0.115965 -0.060781  \n",
       "3     0.000205  0.000293 -0.030808 -0.016784 -0.138939 -0.115529 -0.060337  \n",
       "4     0.000273  0.000390 -0.030655 -0.016378 -0.138717 -0.115094 -0.059894  \n",
       "...        ...       ...       ...       ...       ...       ...       ...  \n",
       "1019  0.013100  0.018598  0.063129  0.105324  0.157442  0.161747  0.171301  \n",
       "1020  0.013040  0.018537  0.063366  0.105340  0.158131  0.162149  0.171464  \n",
       "1021  0.012980  0.018475  0.063604  0.105357  0.158825  0.162554  0.171627  \n",
       "1022  0.012919  0.018415  0.063843  0.105374  0.159523  0.162962  0.171792  \n",
       "1023  0.012859  0.018354  0.064084  0.105391  0.160226  0.163374  0.171958  \n",
       "\n",
       "[1024 rows x 47 columns]"
      ]
     },
     "execution_count": 12,
     "metadata": {},
     "output_type": "execute_result"
    }
   ],
   "source": [
    "# Read the CSV file into a DataFrame\n",
    "truth = pd.read_csv('exact_soln_list_jacobi.csv')\n",
    "\n",
    "# Display the DataFrame\n",
    "truth"
   ]
  },
  {
   "cell_type": "code",
   "execution_count": 13,
   "metadata": {
    "executionInfo": {
     "elapsed": 6,
     "status": "ok",
     "timestamp": 1726524157869,
     "user": {
      "displayName": "Qiran Dong",
      "userId": "17293459686455441476"
     },
     "user_tz": 420
    },
    "id": "zhHVxunr47iB"
   },
   "outputs": [],
   "source": [
    "selected_columns = ['theta_0', 'theta_1', 'theta_2', 'theta_3', 'theta_4',\n",
    "                    'theta_5', 'theta_6', 'theta_7', 'theta_8', 'theta_9',\n",
    "                    'theta_10', 'theta_11', 'theta_12', 'theta_13', 'theta_14',\n",
    "                    'theta_15', 'theta_16', 'theta_17', 'theta_18', 'theta_19',\n",
    "                    'theta_20', 'theta_21', 'theta_22', 'theta_23', 'theta_24',\n",
    "                    'theta_25', 'theta_26', 'theta_27', 'theta_28', 'theta_29',\n",
    "                    'theta_30', 'theta_31', 'theta_32', 'theta_33', 'theta_34',\n",
    "                    'theta_35', 'theta_36', 'theta_37', 'theta_38', 'theta_39',\n",
    "                    'theta_40', 'theta_41', 'theta_42', 'theta_43', 'theta_44',\n",
    "                    'theta_45']\n",
    "true_thetas = truth[selected_columns].to_numpy()\n",
    "true_losses = truth['losses'].to_numpy()"
   ]
  },
  {
   "cell_type": "markdown",
   "metadata": {
    "id": "EllA0am6xvwL"
   },
   "source": [
    "# 03 SGD"
   ]
  },
  {
   "cell_type": "code",
   "execution_count": 14,
   "metadata": {
    "executionInfo": {
     "elapsed": 7,
     "status": "ok",
     "timestamp": 1726524158391,
     "user": {
      "displayName": "Qiran Dong",
      "userId": "17293459686455441476"
     },
     "user_tz": 420
    },
    "id": "R-2Vgf3hIHIy"
   },
   "outputs": [],
   "source": [
    "max_epochs = 300"
   ]
  },
  {
   "cell_type": "code",
   "execution_count": 15,
   "metadata": {},
   "outputs": [],
   "source": [
    "alpha_beta=[-.3, -.7]"
   ]
  },
  {
   "cell_type": "code",
   "execution_count": 16,
   "metadata": {},
   "outputs": [],
   "source": [
    "phi_lam = customized_jacobi(alpha_beta)"
   ]
  },
  {
   "cell_type": "code",
   "execution_count": 17,
   "metadata": {
    "executionInfo": {
     "elapsed": 5,
     "status": "ok",
     "timestamp": 1726524158391,
     "user": {
      "displayName": "Qiran Dong",
      "userId": "17293459686455441476"
     },
     "user_tz": 420
    },
    "id": "G47SBajxYstR"
   },
   "outputs": [],
   "source": [
    "start_basis_dim = 5\n",
    "end_basis_dim = 13\n",
    "init_lr = 1"
   ]
  },
  {
   "cell_type": "code",
   "execution_count": null,
   "metadata": {
    "executionInfo": {
     "elapsed": 263,
     "status": "ok",
     "timestamp": 1726532031674,
     "user": {
      "displayName": "Qiran Dong",
      "userId": "17293459686455441476"
     },
     "user_tz": 420
    },
    "id": "0tvD4bR0W5kP"
   },
   "outputs": [],
   "source": [
    "def thresh_basis(basis_dim):\n",
    "    return 0.1**(basis_dim/1.25 + 1)"
   ]
  },
  {
   "cell_type": "code",
   "execution_count": 36,
   "metadata": {
    "colab": {
     "base_uri": "https://localhost:8080/"
    },
    "executionInfo": {
     "elapsed": 79998,
     "status": "ok",
     "timestamp": 1726532192148,
     "user": {
      "displayName": "Qiran Dong",
      "userId": "17293459686455441476"
     },
     "user_tz": 420
    },
    "id": "UDL6HLB32z8W",
    "outputId": "7b0952ec-0700-4978-ae27-4bd6ff99a8d4"
   },
   "outputs": [
    {
     "name": "stdout",
     "output_type": "stream",
     "text": [
      "********** now running lsp with #basis dimension = 5 ***********\n",
      "lr = 1\n",
      "--------approximate solution path for # itr = 10 complete--------\n",
      "# epoch: 10\t sup error: 0.5590937435626984\n",
      "--------approximate solution path for # itr = 20 complete--------\n",
      "# epoch: 20\t sup error: 0.04536403715610504\n",
      "--------approximate solution path for # itr = 30 complete--------\n",
      "# epoch: 30\t sup error: 0.035643696784973145\n",
      "--------approximate solution path for # itr = 40 complete--------\n",
      "# epoch: 40\t sup error: 0.011603817343711853\n",
      "--------approximate solution path for # itr = 50 complete--------\n",
      "# epoch: 50\t sup error: 0.019799157977104187\n",
      "********** now running lsp with #basis dimension = 6 ***********\n",
      "lr = 0.8337477621301497\n",
      "--------approximate solution path for # itr = 10 complete--------\n",
      "# epoch: 10\t sup error: 0.013180166482925415\n",
      "--------approximate solution path for # itr = 20 complete--------\n",
      "# epoch: 20\t sup error: 0.00519832968711853\n",
      "--------approximate solution path for # itr = 30 complete--------\n",
      "# epoch: 30\t sup error: 0.0018198788166046143\n",
      "********** now running lsp with #basis dimension = 7 ***********\n",
      "lr = 0.7847167237347998\n",
      "--------approximate solution path for # itr = 10 complete--------\n",
      "# epoch: 10\t sup error: 0.0014429986476898193\n",
      "--------approximate solution path for # itr = 20 complete--------\n",
      "# epoch: 20\t sup error: 0.001395195722579956\n",
      "--------approximate solution path for # itr = 30 complete--------\n",
      "# epoch: 30\t sup error: 0.001416623592376709\n",
      "--------approximate solution path for # itr = 40 complete--------\n",
      "# epoch: 40\t sup error: 0.0014365613460540771\n",
      "********** now running lsp with #basis dimension = 8 ***********\n",
      "lr = 0.6951353308570327\n",
      "--------approximate solution path for # itr = 10 complete--------\n",
      "# epoch: 10\t sup error: 0.0012440979480743408\n",
      "--------approximate solution path for # itr = 20 complete--------\n",
      "# epoch: 20\t sup error: 0.0012400448322296143\n",
      "--------approximate solution path for # itr = 30 complete--------\n",
      "# epoch: 30\t sup error: 0.0013317465782165527\n",
      "--------approximate solution path for # itr = 40 complete--------\n",
      "# epoch: 40\t sup error: 0.0012659430503845215\n",
      "--------approximate solution path for # itr = 50 complete--------\n",
      "# epoch: 50\t sup error: 0.000523298978805542\n",
      "--------approximate solution path for # itr = 60 complete--------\n",
      "# epoch: 60\t sup error: 0.0006547272205352783\n",
      "--------approximate solution path for # itr = 70 complete--------\n",
      "# epoch: 70\t sup error: 0.0005440711975097656\n",
      "--------approximate solution path for # itr = 80 complete--------\n",
      "# epoch: 80\t sup error: 0.0003825724124908447\n",
      "--------approximate solution path for # itr = 90 complete--------\n",
      "# epoch: 90\t sup error: 0.0003994554281234741\n",
      "--------approximate solution path for # itr = 100 complete--------\n",
      "# epoch: 100\t sup error: 0.0002291947603225708\n",
      "--------approximate solution path for # itr = 110 complete--------\n",
      "# epoch: 110\t sup error: 0.0002872943878173828\n",
      "--------approximate solution path for # itr = 120 complete--------\n",
      "# epoch: 120\t sup error: 0.00014442205429077148\n",
      "--------approximate solution path for # itr = 130 complete--------\n",
      "# epoch: 130\t sup error: 0.00018107891082763672\n",
      "********** now running lsp with #basis dimension = 9 ***********\n",
      "lr = 0.6157803365090782\n",
      "--------approximate solution path for # itr = 10 complete--------\n",
      "# epoch: 10\t sup error: 0.00014819204807281494\n",
      "--------approximate solution path for # itr = 20 complete--------\n",
      "# epoch: 20\t sup error: 0.00011679530143737793\n",
      "--------approximate solution path for # itr = 30 complete--------\n",
      "# epoch: 30\t sup error: 0.00011077523231506348\n",
      "--------approximate solution path for # itr = 40 complete--------\n",
      "# epoch: 40\t sup error: 0.00012195110321044922\n",
      "--------approximate solution path for # itr = 50 complete--------\n",
      "# epoch: 50\t sup error: 0.00012701749801635742\n",
      "--------approximate solution path for # itr = 60 complete--------\n",
      "# epoch: 60\t sup error: 0.00012612342834472656\n",
      "--------approximate solution path for # itr = 70 complete--------\n",
      "# epoch: 70\t sup error: 0.0001316070556640625\n",
      "--------approximate solution path for # itr = 80 complete--------\n",
      "# epoch: 80\t sup error: 3.8564205169677734e-05\n",
      "--------approximate solution path for # itr = 90 complete--------\n",
      "# epoch: 90\t sup error: 2.053380012512207e-05\n",
      "--------approximate solution path for # itr = 100 complete--------\n",
      "# epoch: 100\t sup error: 2.6702880859375e-05\n",
      "--------approximate solution path for # itr = 110 complete--------\n",
      "# epoch: 110\t sup error: 2.7492642402648926e-05\n",
      "--------approximate solution path for # itr = 120 complete--------\n",
      "# epoch: 120\t sup error: 3.24249267578125e-05\n",
      "--------approximate solution path for # itr = 130 complete--------\n",
      "# epoch: 130\t sup error: 3.1620264053344727e-05\n",
      "--------approximate solution path for # itr = 140 complete--------\n",
      "# epoch: 140\t sup error: 3.097951412200928e-05\n",
      "--------approximate solution path for # itr = 150 complete--------\n",
      "# epoch: 150\t sup error: 3.075599670410156e-05\n",
      "--------approximate solution path for # itr = 160 complete--------\n",
      "# epoch: 160\t sup error: 3.154575824737549e-05\n",
      "--------approximate solution path for # itr = 170 complete--------\n",
      "# epoch: 170\t sup error: 3.390014171600342e-05\n",
      "--------approximate solution path for # itr = 180 complete--------\n",
      "# epoch: 180\t sup error: 3.160536289215088e-05\n",
      "--------approximate solution path for # itr = 190 complete--------\n",
      "# epoch: 190\t sup error: 3.11732292175293e-05\n",
      "--------approximate solution path for # itr = 200 complete--------\n",
      "# epoch: 200\t sup error: 3.1560659408569336e-05\n",
      "--------approximate solution path for # itr = 210 complete--------\n",
      "# epoch: 210\t sup error: 3.3214688301086426e-05\n",
      "--------approximate solution path for # itr = 220 complete--------\n",
      "# epoch: 220\t sup error: 2.5823712348937988e-05\n",
      "--------approximate solution path for # itr = 230 complete--------\n",
      "# epoch: 230\t sup error: 9.864568710327148e-06\n",
      "--------approximate solution path for # itr = 240 complete--------\n",
      "# epoch: 240\t sup error: 1.4379620552062988e-05\n",
      "--------approximate solution path for # itr = 250 complete--------\n",
      "# epoch: 250\t sup error: 1.519918441772461e-05\n",
      "--------approximate solution path for # itr = 260 complete--------\n",
      "# epoch: 260\t sup error: 1.5407800674438477e-05\n",
      "--------approximate solution path for # itr = 270 complete--------\n",
      "# epoch: 270\t sup error: 8.448958396911621e-06\n",
      "--------approximate solution path for # itr = 280 complete--------\n",
      "# epoch: 280\t sup error: 8.761882781982422e-06\n",
      "--------approximate solution path for # itr = 290 complete--------\n",
      "# epoch: 290\t sup error: 8.657574653625488e-06\n",
      "--------approximate solution path for # itr = 300 complete--------\n",
      "# epoch: 300\t sup error: 6.109476089477539e-06\n",
      "********** now running lsp with #basis dimension = 10 ***********\n",
      "lr = 0.5238831403348924\n",
      "--------approximate solution path for # itr = 10 complete--------\n",
      "# epoch: 10\t sup error: 7.703900337219238e-06\n",
      "--------approximate solution path for # itr = 20 complete--------\n",
      "# epoch: 20\t sup error: 6.9141387939453125e-06\n",
      "--------approximate solution path for # itr = 30 complete--------\n",
      "# epoch: 30\t sup error: 8.13603401184082e-06\n",
      "--------approximate solution path for # itr = 40 complete--------\n",
      "# epoch: 40\t sup error: 8.106231689453125e-06\n",
      "--------approximate solution path for # itr = 50 complete--------\n",
      "# epoch: 50\t sup error: 8.255243301391602e-06\n",
      "--------approximate solution path for # itr = 60 complete--------\n",
      "# epoch: 60\t sup error: 8.13603401184082e-06\n",
      "--------approximate solution path for # itr = 70 complete--------\n",
      "# epoch: 70\t sup error: 7.599592208862305e-06\n",
      "--------approximate solution path for # itr = 80 complete--------\n",
      "# epoch: 80\t sup error: 8.374452590942383e-06\n",
      "--------approximate solution path for # itr = 90 complete--------\n",
      "# epoch: 90\t sup error: 7.838010787963867e-06\n",
      "********** now running lsp with #basis dimension = 11 ***********\n",
      "lr = 0.48321312820571644\n",
      "--------approximate solution path for # itr = 10 complete--------\n",
      "# epoch: 10\t sup error: 7.838010787963867e-06\n",
      "--------approximate solution path for # itr = 20 complete--------\n",
      "# epoch: 20\t sup error: 7.808208465576172e-06\n",
      "--------approximate solution path for # itr = 30 complete--------\n",
      "# epoch: 30\t sup error: 8.255243301391602e-06\n",
      "--------approximate solution path for # itr = 40 complete--------\n",
      "# epoch: 40\t sup error: 8.374452590942383e-06\n",
      "--------approximate solution path for # itr = 50 complete--------\n",
      "# epoch: 50\t sup error: 6.854534149169922e-06\n",
      "--------approximate solution path for # itr = 60 complete--------\n",
      "# epoch: 60\t sup error: 5.0961971282958984e-06\n",
      "--------approximate solution path for # itr = 70 complete--------\n",
      "# epoch: 70\t sup error: 4.976987838745117e-06\n",
      "--------approximate solution path for # itr = 80 complete--------\n",
      "# epoch: 80\t sup error: 5.036592483520508e-06\n",
      "--------approximate solution path for # itr = 90 complete--------\n",
      "# epoch: 90\t sup error: 4.976987838745117e-06\n",
      "--------approximate solution path for # itr = 100 complete--------\n",
      "# epoch: 100\t sup error: 4.976987838745117e-06\n",
      "--------approximate solution path for # itr = 110 complete--------\n",
      "# epoch: 110\t sup error: 5.200505256652832e-06\n",
      "--------approximate solution path for # itr = 120 complete--------\n",
      "# epoch: 120\t sup error: 5.230307579040527e-06\n",
      "--------approximate solution path for # itr = 130 complete--------\n",
      "# epoch: 130\t sup error: 5.125999450683594e-06\n",
      "--------approximate solution path for # itr = 140 complete--------\n",
      "# epoch: 140\t sup error: 5.0514936447143555e-06\n",
      "--------approximate solution path for # itr = 150 complete--------\n",
      "# epoch: 150\t sup error: 5.260109901428223e-06\n",
      "--------approximate solution path for # itr = 160 complete--------\n",
      "# epoch: 160\t sup error: 5.185604095458984e-06\n",
      "--------approximate solution path for # itr = 170 complete--------\n",
      "# epoch: 170\t sup error: 5.066394805908203e-06\n",
      "--------approximate solution path for # itr = 180 complete--------\n",
      "# epoch: 180\t sup error: 5.319714546203613e-06\n",
      "--------approximate solution path for # itr = 190 complete--------\n",
      "# epoch: 190\t sup error: 5.424022674560547e-06\n",
      "--------approximate solution path for # itr = 200 complete--------\n",
      "# epoch: 200\t sup error: 4.351139068603516e-06\n",
      "--------approximate solution path for # itr = 210 complete--------\n",
      "# epoch: 210\t sup error: 4.500150680541992e-06\n",
      "--------approximate solution path for # itr = 220 complete--------\n",
      "# epoch: 220\t sup error: 4.5746564865112305e-06\n",
      "--------approximate solution path for # itr = 230 complete--------\n",
      "# epoch: 230\t sup error: 2.7120113372802734e-06\n",
      "--------approximate solution path for # itr = 240 complete--------\n",
      "# epoch: 240\t sup error: 3.0994415283203125e-06\n",
      "--------approximate solution path for # itr = 250 complete--------\n",
      "# epoch: 250\t sup error: 1.1324882507324219e-06\n",
      "--------approximate solution path for # itr = 260 complete--------\n",
      "# epoch: 260\t sup error: 9.238719940185547e-07\n",
      "--------approximate solution path for # itr = 270 complete--------\n",
      "# epoch: 270\t sup error: 5.513429641723633e-07\n",
      "--------approximate solution path for # itr = 280 complete--------\n",
      "# epoch: 280\t sup error: 5.960464477539062e-07\n",
      "--------approximate solution path for # itr = 290 complete--------\n",
      "# epoch: 290\t sup error: 3.8743019104003906e-07\n",
      "--------approximate solution path for # itr = 300 complete--------\n",
      "# epoch: 300\t sup error: 4.470348358154297e-07\n",
      "********** now running lsp with #basis dimension = 12 ***********\n",
      "lr = 0.44570040395095073\n",
      "--------approximate solution path for # itr = 10 complete--------\n",
      "# epoch: 10\t sup error: 5.364418029785156e-07\n",
      "--------approximate solution path for # itr = 20 complete--------\n",
      "# epoch: 20\t sup error: 4.76837158203125e-07\n",
      "--------approximate solution path for # itr = 30 complete--------\n",
      "# epoch: 30\t sup error: 4.76837158203125e-07\n",
      "--------approximate solution path for # itr = 40 complete--------\n",
      "# epoch: 40\t sup error: 5.364418029785156e-07\n",
      "--------approximate solution path for # itr = 50 complete--------\n",
      "# epoch: 50\t sup error: 4.917383193969727e-07\n",
      "--------approximate solution path for # itr = 60 complete--------\n",
      "# epoch: 60\t sup error: 5.662441253662109e-07\n",
      "--------approximate solution path for # itr = 70 complete--------\n",
      "# epoch: 70\t sup error: 5.364418029785156e-07\n",
      "--------approximate solution path for # itr = 80 complete--------\n",
      "# epoch: 80\t sup error: 3.8743019104003906e-07\n",
      "--------approximate solution path for # itr = 90 complete--------\n",
      "# epoch: 90\t sup error: 3.8743019104003906e-07\n",
      "--------approximate solution path for # itr = 100 complete--------\n",
      "# epoch: 100\t sup error: 3.8743019104003906e-07\n",
      "--------approximate solution path for # itr = 110 complete--------\n",
      "# epoch: 110\t sup error: 3.8743019104003906e-07\n",
      "--------approximate solution path for # itr = 120 complete--------\n",
      "# epoch: 120\t sup error: 4.172325134277344e-07\n",
      "--------approximate solution path for # itr = 130 complete--------\n",
      "# epoch: 130\t sup error: 3.2782554626464844e-07\n",
      "--------approximate solution path for # itr = 140 complete--------\n",
      "# epoch: 140\t sup error: 3.2782554626464844e-07\n",
      "--------approximate solution path for # itr = 150 complete--------\n",
      "# epoch: 150\t sup error: 3.725290298461914e-07\n",
      "--------approximate solution path for # itr = 160 complete--------\n",
      "# epoch: 160\t sup error: 3.427267074584961e-07\n",
      "--------approximate solution path for # itr = 170 complete--------\n",
      "# epoch: 170\t sup error: 3.5762786865234375e-07\n"
     ]
    }
   ],
   "source": [
    "np.random.seed(8675309)\n",
    "torch.manual_seed(8675309)\n",
    "\n",
    "num_itr_history, sup_err_history, breaks = adaptive_lsp(input_dim, start_basis_dim, end_basis_dim,\n",
    "                                        phi_lam, max_epochs, GD_data_loader, test_data_loader,\n",
    "                                        loss_fn, lam_min, lam_max, true_losses, init_lr=init_lr,\n",
    "                                        q=1.3, k_0=5, gamma=0.98,\n",
    "                                        thresh_basis=thresh_basis, record_frequency=10,\n",
    "                                        distribution='beta', alpha_beta=alpha_beta, \n",
    "                                        device=device, trace_frequency=10)"
   ]
  },
  {
   "cell_type": "code",
   "execution_count": 37,
   "metadata": {
    "executionInfo": {
     "elapsed": 295,
     "status": "ok",
     "timestamp": 1726532214264,
     "user": {
      "displayName": "Qiran Dong",
      "userId": "17293459686455441476"
     },
     "user_tz": 420
    },
    "id": "AJ6Lq4JNo5l1"
   },
   "outputs": [],
   "source": [
    "pd.DataFrame(np.array(breaks), columns=['breaks']).to_csv(f'LSP_results_exact_boosted_breaksjacobi_{alpha_beta[0]}_{alpha_beta[1]}.csv', index=False)"
   ]
  },
  {
   "cell_type": "code",
   "execution_count": 38,
   "metadata": {
    "colab": {
     "base_uri": "https://localhost:8080/",
     "height": 424
    },
    "executionInfo": {
     "elapsed": 5,
     "status": "ok",
     "timestamp": 1726532215593,
     "user": {
      "displayName": "Qiran Dong",
      "userId": "17293459686455441476"
     },
     "user_tz": 420
    },
    "id": "C98LPlG8ofme",
    "outputId": "cb0c5922-440c-4bfa-d183-fcb4af633b93"
   },
   "outputs": [
    {
     "data": {
      "text/html": [
       "<div>\n",
       "<style scoped>\n",
       "    .dataframe tbody tr th:only-of-type {\n",
       "        vertical-align: middle;\n",
       "    }\n",
       "\n",
       "    .dataframe tbody tr th {\n",
       "        vertical-align: top;\n",
       "    }\n",
       "\n",
       "    .dataframe thead th {\n",
       "        text-align: right;\n",
       "    }\n",
       "</style>\n",
       "<table border=\"1\" class=\"dataframe\">\n",
       "  <thead>\n",
       "    <tr style=\"text-align: right;\">\n",
       "      <th></th>\n",
       "      <th>num_itr</th>\n",
       "      <th>sup_err</th>\n",
       "    </tr>\n",
       "  </thead>\n",
       "  <tbody>\n",
       "    <tr>\n",
       "      <th>0</th>\n",
       "      <td>10.0</td>\n",
       "      <td>5.590937e-01</td>\n",
       "    </tr>\n",
       "    <tr>\n",
       "      <th>1</th>\n",
       "      <td>20.0</td>\n",
       "      <td>4.536404e-02</td>\n",
       "    </tr>\n",
       "    <tr>\n",
       "      <th>2</th>\n",
       "      <td>30.0</td>\n",
       "      <td>3.564370e-02</td>\n",
       "    </tr>\n",
       "    <tr>\n",
       "      <th>3</th>\n",
       "      <td>40.0</td>\n",
       "      <td>1.160382e-02</td>\n",
       "    </tr>\n",
       "    <tr>\n",
       "      <th>4</th>\n",
       "      <td>50.0</td>\n",
       "      <td>1.979916e-02</td>\n",
       "    </tr>\n",
       "    <tr>\n",
       "      <th>...</th>\n",
       "      <td>...</td>\n",
       "      <td>...</td>\n",
       "    </tr>\n",
       "    <tr>\n",
       "      <th>106</th>\n",
       "      <td>1070.0</td>\n",
       "      <td>3.278255e-07</td>\n",
       "    </tr>\n",
       "    <tr>\n",
       "      <th>107</th>\n",
       "      <td>1080.0</td>\n",
       "      <td>3.278255e-07</td>\n",
       "    </tr>\n",
       "    <tr>\n",
       "      <th>108</th>\n",
       "      <td>1090.0</td>\n",
       "      <td>3.725290e-07</td>\n",
       "    </tr>\n",
       "    <tr>\n",
       "      <th>109</th>\n",
       "      <td>1100.0</td>\n",
       "      <td>3.427267e-07</td>\n",
       "    </tr>\n",
       "    <tr>\n",
       "      <th>110</th>\n",
       "      <td>1110.0</td>\n",
       "      <td>3.576279e-07</td>\n",
       "    </tr>\n",
       "  </tbody>\n",
       "</table>\n",
       "<p>111 rows × 2 columns</p>\n",
       "</div>"
      ],
      "text/plain": [
       "     num_itr       sup_err\n",
       "0       10.0  5.590937e-01\n",
       "1       20.0  4.536404e-02\n",
       "2       30.0  3.564370e-02\n",
       "3       40.0  1.160382e-02\n",
       "4       50.0  1.979916e-02\n",
       "..       ...           ...\n",
       "106   1070.0  3.278255e-07\n",
       "107   1080.0  3.278255e-07\n",
       "108   1090.0  3.725290e-07\n",
       "109   1100.0  3.427267e-07\n",
       "110   1110.0  3.576279e-07\n",
       "\n",
       "[111 rows x 2 columns]"
      ]
     },
     "execution_count": 38,
     "metadata": {},
     "output_type": "execute_result"
    }
   ],
   "source": [
    "file_path = f'LSP_results_exact_boosted_jacobi_{alpha_beta[0]}_{alpha_beta[1]}.csv'\n",
    "\n",
    "LSP_results_exact = pd.DataFrame(np.column_stack((num_itr_history, sup_err_history)), columns=['num_itr', 'sup_err'])\n",
    "\n",
    "# Save the DataFrame to a CSV file\n",
    "LSP_results_exact.to_csv(file_path, index=False)\n",
    "\n",
    "# Read the CSV file into a DataFrame\n",
    "df = pd.read_csv(file_path)\n",
    "\n",
    "# Display the DataFrame\n",
    "df"
   ]
  }
 ],
 "metadata": {
  "colab": {
   "collapsed_sections": [
    "ZrpyuxcPuBMC",
    "kgFudN6y47h_"
   ],
   "provenance": []
  },
  "kernelspec": {
   "display_name": "Python 3",
   "name": "python3"
  },
  "language_info": {
   "codemirror_mode": {
    "name": "ipython",
    "version": 3
   },
   "file_extension": ".py",
   "mimetype": "text/x-python",
   "name": "python",
   "nbconvert_exporter": "python",
   "pygments_lexer": "ipython3",
   "version": "3.12.5"
  }
 },
 "nbformat": 4,
 "nbformat_minor": 0
}
