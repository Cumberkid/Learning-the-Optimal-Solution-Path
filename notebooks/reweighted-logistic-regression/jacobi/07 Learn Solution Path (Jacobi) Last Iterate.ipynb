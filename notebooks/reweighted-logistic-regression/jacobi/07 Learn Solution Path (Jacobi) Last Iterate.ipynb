{
 "cells": [
  {
   "cell_type": "markdown",
   "metadata": {
    "id": "ZrpyuxcPuBMC",
    "jp-MarkdownHeadingCollapsed": true
   },
   "source": [
    "# 01 Import libraries"
   ]
  },
  {
   "cell_type": "code",
   "execution_count": 1,
   "metadata": {
    "colab": {
     "base_uri": "https://localhost:8080/"
    },
    "executionInfo": {
     "elapsed": 5035,
     "status": "ok",
     "timestamp": 1728506510383,
     "user": {
      "displayName": "Qiran Dong",
      "userId": "17293459686455441476"
     },
     "user_tz": 420
    },
    "id": "c69qsdzouBMK",
    "outputId": "9c7540cf-37e9-415b-82e0-9eec3ecdf55b"
   },
   "outputs": [
    {
     "name": "stdout",
     "output_type": "stream",
     "text": [
      "Using device: cpu\n"
     ]
    }
   ],
   "source": [
    "import numpy as np\n",
    "import torch\n",
    "\n",
    "device = (\n",
    "    \"cuda\"\n",
    "    if torch.cuda.is_available()\n",
    "    else \"mps\"\n",
    "    if torch.backends.mps.is_available()\n",
    "    else \"cpu\"\n",
    ")\n",
    "print(f\"Using device: {device}\")"
   ]
  },
  {
   "cell_type": "code",
   "execution_count": 2,
   "metadata": {
    "executionInfo": {
     "elapsed": 697,
     "status": "ok",
     "timestamp": 1728506511079,
     "user": {
      "displayName": "Qiran Dong",
      "userId": "17293459686455441476"
     },
     "user_tz": 420
    },
    "id": "nKiZrvI3uBMK"
   },
   "outputs": [],
   "source": [
    "import pandas as pd"
   ]
  },
  {
   "cell_type": "code",
   "execution_count": 3,
   "metadata": {},
   "outputs": [],
   "source": [
    "%reload_ext autoreload\n",
    "%autoreload 2"
   ]
  },
  {
   "cell_type": "code",
   "execution_count": 4,
   "metadata": {
    "executionInfo": {
     "elapsed": 10,
     "status": "ok",
     "timestamp": 1728506511079,
     "user": {
      "displayName": "Qiran Dong",
      "userId": "17293459686455441476"
     },
     "user_tz": 420
    },
    "id": "n5rQ2Zl4tpi9"
   },
   "outputs": [],
   "source": [
    "import importlib"
   ]
  },
  {
   "cell_type": "code",
   "execution_count": 5,
   "metadata": {
    "colab": {
     "base_uri": "https://localhost:8080/"
    },
    "executionInfo": {
     "elapsed": 3,
     "status": "ok",
     "timestamp": 1728506992428,
     "user": {
      "displayName": "Qiran Dong",
      "userId": "17293459686455441476"
     },
     "user_tz": 420
    },
    "id": "vZuer2csD23g",
    "outputId": "bc5c34a7-86b7-432f-e025-ce1c6042edaf"
   },
   "outputs": [
    {
     "data": {
      "text/plain": [
       "<module 'lib' from 'c:\\\\Users\\\\dongq\\\\OneDrive\\\\Desktop\\\\New results\\\\Learning-the-Optimal-Solution-Path\\\\lib\\\\__init__.py'>"
      ]
     },
     "execution_count": 5,
     "metadata": {},
     "output_type": "execute_result"
    }
   ],
   "source": [
    "import lib\n",
    "importlib.reload(lib)"
   ]
  },
  {
   "cell_type": "code",
   "execution_count": 169,
   "metadata": {
    "executionInfo": {
     "elapsed": 223,
     "status": "ok",
     "timestamp": 1728506993787,
     "user": {
      "displayName": "Qiran Dong",
      "userId": "17293459686455441476"
     },
     "user_tz": 420
    },
    "id": "i1wokCiguBMK"
   },
   "outputs": [],
   "source": [
    "from lib.lsp.basis_generator import customized_jacobi\n",
    "from lib.lsp.basis_tf_module import Basis_TF_SGD\n",
    "from lib.lsp.learn_solution_path import learn_solution_path\n",
    "from lib.lsp.loss_fn_lsp import reg_unif_weighted_logit\n",
    "from lib.fast_tensor_data_loader import FastTensorDataLoader\n",
    "from lib.lsp.utils_lsp import get_errs_lsp"
   ]
  },
  {
   "cell_type": "markdown",
   "metadata": {
    "id": "m3L-U5TOhH2n"
   },
   "source": [
    "# 02 Instantiate dataset"
   ]
  },
  {
   "cell_type": "code",
   "execution_count": 170,
   "metadata": {
    "executionInfo": {
     "elapsed": 3,
     "status": "ok",
     "timestamp": 1728506516026,
     "user": {
      "displayName": "Qiran Dong",
      "userId": "17293459686455441476"
     },
     "user_tz": 420
    },
    "id": "phAFnBm5_Z8q"
   },
   "outputs": [],
   "source": [
    "# file path\n",
    "X_df = pd.read_csv('X_processed.csv')\n",
    "y_df = pd.read_csv('y_processed.csv')"
   ]
  },
  {
   "cell_type": "code",
   "execution_count": 8,
   "metadata": {
    "executionInfo": {
     "elapsed": 3,
     "status": "ok",
     "timestamp": 1728506516026,
     "user": {
      "displayName": "Qiran Dong",
      "userId": "17293459686455441476"
     },
     "user_tz": 420
    },
    "id": "RAI9pauw_Z8x"
   },
   "outputs": [],
   "source": [
    "X = np.array(X_df)\n",
    "y = np.array(y_df).squeeze()"
   ]
  },
  {
   "cell_type": "code",
   "execution_count": 9,
   "metadata": {
    "executionInfo": {
     "elapsed": 2,
     "status": "ok",
     "timestamp": 1728506516026,
     "user": {
      "displayName": "Qiran Dong",
      "userId": "17293459686455441476"
     },
     "user_tz": 420
    },
    "id": "WRpp7lFbgEuI"
   },
   "outputs": [],
   "source": [
    "train_X = torch.tensor(X, dtype=torch.float32)\n",
    "train_y = torch.tensor(y, dtype=torch.float32)"
   ]
  },
  {
   "cell_type": "code",
   "execution_count": 10,
   "metadata": {
    "executionInfo": {
     "elapsed": 2,
     "status": "ok",
     "timestamp": 1728506516026,
     "user": {
      "displayName": "Qiran Dong",
      "userId": "17293459686455441476"
     },
     "user_tz": 420
    },
    "id": "8AzxuhSCgOL1"
   },
   "outputs": [],
   "source": [
    "# full gradient descent uses all data points\n",
    "GD_data_loader = FastTensorDataLoader(train_X, train_y, batch_size=1000, shuffle=True, )\n",
    "# test data\n",
    "test_data_loader = FastTensorDataLoader(train_X, train_y, batch_size=1000, shuffle=False, )"
   ]
  },
  {
   "cell_type": "code",
   "execution_count": 11,
   "metadata": {
    "executionInfo": {
     "elapsed": 2,
     "status": "ok",
     "timestamp": 1728506516026,
     "user": {
      "displayName": "Qiran Dong",
      "userId": "17293459686455441476"
     },
     "user_tz": 420
    },
    "id": "6oLndT4t_Z8y"
   },
   "outputs": [],
   "source": [
    "lam_max = [1]\n",
    "lam_min = [0]\n",
    "input_dim = X.shape[1]\n",
    "loss_fn = reg_unif_weighted_logit"
   ]
  },
  {
   "cell_type": "code",
   "execution_count": 12,
   "metadata": {
    "colab": {
     "base_uri": "https://localhost:8080/",
     "height": 443
    },
    "executionInfo": {
     "elapsed": 257,
     "status": "ok",
     "timestamp": 1728506516281,
     "user": {
      "displayName": "Qiran Dong",
      "userId": "17293459686455441476"
     },
     "user_tz": 420
    },
    "id": "J1MjNjh2T_nF",
    "outputId": "5955c16f-6abb-40a9-b1fc-25d74b221b3d"
   },
   "outputs": [
    {
     "data": {
      "text/html": [
       "<div>\n",
       "<style scoped>\n",
       "    .dataframe tbody tr th:only-of-type {\n",
       "        vertical-align: middle;\n",
       "    }\n",
       "\n",
       "    .dataframe tbody tr th {\n",
       "        vertical-align: top;\n",
       "    }\n",
       "\n",
       "    .dataframe thead th {\n",
       "        text-align: right;\n",
       "    }\n",
       "</style>\n",
       "<table border=\"1\" class=\"dataframe\">\n",
       "  <thead>\n",
       "    <tr style=\"text-align: right;\">\n",
       "      <th></th>\n",
       "      <th>losses</th>\n",
       "      <th>theta_0</th>\n",
       "      <th>theta_1</th>\n",
       "      <th>theta_2</th>\n",
       "      <th>theta_3</th>\n",
       "      <th>theta_4</th>\n",
       "      <th>theta_5</th>\n",
       "      <th>theta_6</th>\n",
       "      <th>theta_7</th>\n",
       "      <th>theta_8</th>\n",
       "      <th>...</th>\n",
       "      <th>theta_36</th>\n",
       "      <th>theta_37</th>\n",
       "      <th>theta_38</th>\n",
       "      <th>theta_39</th>\n",
       "      <th>theta_40</th>\n",
       "      <th>theta_41</th>\n",
       "      <th>theta_42</th>\n",
       "      <th>theta_43</th>\n",
       "      <th>theta_44</th>\n",
       "      <th>theta_45</th>\n",
       "    </tr>\n",
       "  </thead>\n",
       "  <tbody>\n",
       "    <tr>\n",
       "      <th>0</th>\n",
       "      <td>0.190793</td>\n",
       "      <td>-0.373029</td>\n",
       "      <td>0.186622</td>\n",
       "      <td>0.227443</td>\n",
       "      <td>-0.023583</td>\n",
       "      <td>0.164822</td>\n",
       "      <td>0.142992</td>\n",
       "      <td>0.168018</td>\n",
       "      <td>0.026305</td>\n",
       "      <td>0.142661</td>\n",
       "      <td>...</td>\n",
       "      <td>-0.018010</td>\n",
       "      <td>0.054908</td>\n",
       "      <td>-0.005629</td>\n",
       "      <td>0.000000</td>\n",
       "      <td>0.000000</td>\n",
       "      <td>-0.031270</td>\n",
       "      <td>-0.018010</td>\n",
       "      <td>-0.139608</td>\n",
       "      <td>-0.116840</td>\n",
       "      <td>-0.061673</td>\n",
       "    </tr>\n",
       "    <tr>\n",
       "      <th>1</th>\n",
       "      <td>0.192130</td>\n",
       "      <td>-0.371212</td>\n",
       "      <td>0.186634</td>\n",
       "      <td>0.227586</td>\n",
       "      <td>-0.023679</td>\n",
       "      <td>0.164875</td>\n",
       "      <td>0.142262</td>\n",
       "      <td>0.167428</td>\n",
       "      <td>0.025960</td>\n",
       "      <td>0.142993</td>\n",
       "      <td>...</td>\n",
       "      <td>-0.017600</td>\n",
       "      <td>0.054199</td>\n",
       "      <td>-0.005657</td>\n",
       "      <td>0.000069</td>\n",
       "      <td>0.000098</td>\n",
       "      <td>-0.031115</td>\n",
       "      <td>-0.017600</td>\n",
       "      <td>-0.139385</td>\n",
       "      <td>-0.116402</td>\n",
       "      <td>-0.061226</td>\n",
       "    </tr>\n",
       "    <tr>\n",
       "      <th>2</th>\n",
       "      <td>0.193463</td>\n",
       "      <td>-0.369401</td>\n",
       "      <td>0.186645</td>\n",
       "      <td>0.227729</td>\n",
       "      <td>-0.023775</td>\n",
       "      <td>0.164927</td>\n",
       "      <td>0.141535</td>\n",
       "      <td>0.166842</td>\n",
       "      <td>0.025615</td>\n",
       "      <td>0.143323</td>\n",
       "      <td>...</td>\n",
       "      <td>-0.017191</td>\n",
       "      <td>0.053493</td>\n",
       "      <td>-0.005685</td>\n",
       "      <td>0.000137</td>\n",
       "      <td>0.000195</td>\n",
       "      <td>-0.030961</td>\n",
       "      <td>-0.017191</td>\n",
       "      <td>-0.139162</td>\n",
       "      <td>-0.115965</td>\n",
       "      <td>-0.060781</td>\n",
       "    </tr>\n",
       "    <tr>\n",
       "      <th>3</th>\n",
       "      <td>0.194792</td>\n",
       "      <td>-0.367595</td>\n",
       "      <td>0.186656</td>\n",
       "      <td>0.227870</td>\n",
       "      <td>-0.023870</td>\n",
       "      <td>0.164977</td>\n",
       "      <td>0.140811</td>\n",
       "      <td>0.166258</td>\n",
       "      <td>0.025271</td>\n",
       "      <td>0.143653</td>\n",
       "      <td>...</td>\n",
       "      <td>-0.016784</td>\n",
       "      <td>0.052790</td>\n",
       "      <td>-0.005713</td>\n",
       "      <td>0.000205</td>\n",
       "      <td>0.000293</td>\n",
       "      <td>-0.030808</td>\n",
       "      <td>-0.016784</td>\n",
       "      <td>-0.138939</td>\n",
       "      <td>-0.115529</td>\n",
       "      <td>-0.060337</td>\n",
       "    </tr>\n",
       "    <tr>\n",
       "      <th>4</th>\n",
       "      <td>0.196117</td>\n",
       "      <td>-0.365794</td>\n",
       "      <td>0.186665</td>\n",
       "      <td>0.228009</td>\n",
       "      <td>-0.023964</td>\n",
       "      <td>0.165027</td>\n",
       "      <td>0.140089</td>\n",
       "      <td>0.165677</td>\n",
       "      <td>0.024927</td>\n",
       "      <td>0.143982</td>\n",
       "      <td>...</td>\n",
       "      <td>-0.016378</td>\n",
       "      <td>0.052089</td>\n",
       "      <td>-0.005741</td>\n",
       "      <td>0.000273</td>\n",
       "      <td>0.000390</td>\n",
       "      <td>-0.030655</td>\n",
       "      <td>-0.016378</td>\n",
       "      <td>-0.138717</td>\n",
       "      <td>-0.115094</td>\n",
       "      <td>-0.059894</td>\n",
       "    </tr>\n",
       "    <tr>\n",
       "      <th>...</th>\n",
       "      <td>...</td>\n",
       "      <td>...</td>\n",
       "      <td>...</td>\n",
       "      <td>...</td>\n",
       "      <td>...</td>\n",
       "      <td>...</td>\n",
       "      <td>...</td>\n",
       "      <td>...</td>\n",
       "      <td>...</td>\n",
       "      <td>...</td>\n",
       "      <td>...</td>\n",
       "      <td>...</td>\n",
       "      <td>...</td>\n",
       "      <td>...</td>\n",
       "      <td>...</td>\n",
       "      <td>...</td>\n",
       "      <td>...</td>\n",
       "      <td>...</td>\n",
       "      <td>...</td>\n",
       "      <td>...</td>\n",
       "      <td>...</td>\n",
       "    </tr>\n",
       "    <tr>\n",
       "      <th>1019</th>\n",
       "      <td>0.327684</td>\n",
       "      <td>0.692472</td>\n",
       "      <td>-0.029101</td>\n",
       "      <td>-0.033382</td>\n",
       "      <td>-0.017462</td>\n",
       "      <td>-0.005831</td>\n",
       "      <td>-0.225541</td>\n",
       "      <td>-0.146453</td>\n",
       "      <td>-0.051680</td>\n",
       "      <td>0.070009</td>\n",
       "      <td>...</td>\n",
       "      <td>0.105324</td>\n",
       "      <td>-0.201982</td>\n",
       "      <td>0.000913</td>\n",
       "      <td>0.013100</td>\n",
       "      <td>0.018598</td>\n",
       "      <td>0.063129</td>\n",
       "      <td>0.105324</td>\n",
       "      <td>0.157442</td>\n",
       "      <td>0.161747</td>\n",
       "      <td>0.171301</td>\n",
       "    </tr>\n",
       "    <tr>\n",
       "      <th>1020</th>\n",
       "      <td>0.325866</td>\n",
       "      <td>0.693930</td>\n",
       "      <td>-0.029932</td>\n",
       "      <td>-0.034521</td>\n",
       "      <td>-0.017548</td>\n",
       "      <td>-0.006565</td>\n",
       "      <td>-0.226194</td>\n",
       "      <td>-0.148351</td>\n",
       "      <td>-0.051246</td>\n",
       "      <td>0.068693</td>\n",
       "      <td>...</td>\n",
       "      <td>0.105340</td>\n",
       "      <td>-0.202186</td>\n",
       "      <td>0.000990</td>\n",
       "      <td>0.013040</td>\n",
       "      <td>0.018537</td>\n",
       "      <td>0.063366</td>\n",
       "      <td>0.105340</td>\n",
       "      <td>0.158131</td>\n",
       "      <td>0.162149</td>\n",
       "      <td>0.171464</td>\n",
       "    </tr>\n",
       "    <tr>\n",
       "      <th>1021</th>\n",
       "      <td>0.324032</td>\n",
       "      <td>0.695399</td>\n",
       "      <td>-0.030769</td>\n",
       "      <td>-0.035668</td>\n",
       "      <td>-0.017634</td>\n",
       "      <td>-0.007304</td>\n",
       "      <td>-0.226853</td>\n",
       "      <td>-0.150274</td>\n",
       "      <td>-0.050809</td>\n",
       "      <td>0.067366</td>\n",
       "      <td>...</td>\n",
       "      <td>0.105357</td>\n",
       "      <td>-0.202393</td>\n",
       "      <td>0.001066</td>\n",
       "      <td>0.012980</td>\n",
       "      <td>0.018475</td>\n",
       "      <td>0.063604</td>\n",
       "      <td>0.105357</td>\n",
       "      <td>0.158825</td>\n",
       "      <td>0.162554</td>\n",
       "      <td>0.171627</td>\n",
       "    </tr>\n",
       "    <tr>\n",
       "      <th>1022</th>\n",
       "      <td>0.322184</td>\n",
       "      <td>0.696878</td>\n",
       "      <td>-0.031613</td>\n",
       "      <td>-0.036822</td>\n",
       "      <td>-0.017720</td>\n",
       "      <td>-0.008050</td>\n",
       "      <td>-0.227517</td>\n",
       "      <td>-0.152223</td>\n",
       "      <td>-0.050369</td>\n",
       "      <td>0.066028</td>\n",
       "      <td>...</td>\n",
       "      <td>0.105374</td>\n",
       "      <td>-0.202601</td>\n",
       "      <td>0.001143</td>\n",
       "      <td>0.012919</td>\n",
       "      <td>0.018415</td>\n",
       "      <td>0.063843</td>\n",
       "      <td>0.105374</td>\n",
       "      <td>0.159523</td>\n",
       "      <td>0.162962</td>\n",
       "      <td>0.171792</td>\n",
       "    </tr>\n",
       "    <tr>\n",
       "      <th>1023</th>\n",
       "      <td>0.320320</td>\n",
       "      <td>0.698369</td>\n",
       "      <td>-0.032464</td>\n",
       "      <td>-0.037983</td>\n",
       "      <td>-0.017807</td>\n",
       "      <td>-0.008802</td>\n",
       "      <td>-0.228186</td>\n",
       "      <td>-0.154196</td>\n",
       "      <td>-0.049927</td>\n",
       "      <td>0.064680</td>\n",
       "      <td>...</td>\n",
       "      <td>0.105391</td>\n",
       "      <td>-0.202811</td>\n",
       "      <td>0.001220</td>\n",
       "      <td>0.012859</td>\n",
       "      <td>0.018354</td>\n",
       "      <td>0.064084</td>\n",
       "      <td>0.105391</td>\n",
       "      <td>0.160226</td>\n",
       "      <td>0.163374</td>\n",
       "      <td>0.171958</td>\n",
       "    </tr>\n",
       "  </tbody>\n",
       "</table>\n",
       "<p>1024 rows × 47 columns</p>\n",
       "</div>"
      ],
      "text/plain": [
       "        losses   theta_0   theta_1   theta_2   theta_3   theta_4   theta_5  \\\n",
       "0     0.190793 -0.373029  0.186622  0.227443 -0.023583  0.164822  0.142992   \n",
       "1     0.192130 -0.371212  0.186634  0.227586 -0.023679  0.164875  0.142262   \n",
       "2     0.193463 -0.369401  0.186645  0.227729 -0.023775  0.164927  0.141535   \n",
       "3     0.194792 -0.367595  0.186656  0.227870 -0.023870  0.164977  0.140811   \n",
       "4     0.196117 -0.365794  0.186665  0.228009 -0.023964  0.165027  0.140089   \n",
       "...        ...       ...       ...       ...       ...       ...       ...   \n",
       "1019  0.327684  0.692472 -0.029101 -0.033382 -0.017462 -0.005831 -0.225541   \n",
       "1020  0.325866  0.693930 -0.029932 -0.034521 -0.017548 -0.006565 -0.226194   \n",
       "1021  0.324032  0.695399 -0.030769 -0.035668 -0.017634 -0.007304 -0.226853   \n",
       "1022  0.322184  0.696878 -0.031613 -0.036822 -0.017720 -0.008050 -0.227517   \n",
       "1023  0.320320  0.698369 -0.032464 -0.037983 -0.017807 -0.008802 -0.228186   \n",
       "\n",
       "       theta_6   theta_7   theta_8  ...  theta_36  theta_37  theta_38  \\\n",
       "0     0.168018  0.026305  0.142661  ... -0.018010  0.054908 -0.005629   \n",
       "1     0.167428  0.025960  0.142993  ... -0.017600  0.054199 -0.005657   \n",
       "2     0.166842  0.025615  0.143323  ... -0.017191  0.053493 -0.005685   \n",
       "3     0.166258  0.025271  0.143653  ... -0.016784  0.052790 -0.005713   \n",
       "4     0.165677  0.024927  0.143982  ... -0.016378  0.052089 -0.005741   \n",
       "...        ...       ...       ...  ...       ...       ...       ...   \n",
       "1019 -0.146453 -0.051680  0.070009  ...  0.105324 -0.201982  0.000913   \n",
       "1020 -0.148351 -0.051246  0.068693  ...  0.105340 -0.202186  0.000990   \n",
       "1021 -0.150274 -0.050809  0.067366  ...  0.105357 -0.202393  0.001066   \n",
       "1022 -0.152223 -0.050369  0.066028  ...  0.105374 -0.202601  0.001143   \n",
       "1023 -0.154196 -0.049927  0.064680  ...  0.105391 -0.202811  0.001220   \n",
       "\n",
       "      theta_39  theta_40  theta_41  theta_42  theta_43  theta_44  theta_45  \n",
       "0     0.000000  0.000000 -0.031270 -0.018010 -0.139608 -0.116840 -0.061673  \n",
       "1     0.000069  0.000098 -0.031115 -0.017600 -0.139385 -0.116402 -0.061226  \n",
       "2     0.000137  0.000195 -0.030961 -0.017191 -0.139162 -0.115965 -0.060781  \n",
       "3     0.000205  0.000293 -0.030808 -0.016784 -0.138939 -0.115529 -0.060337  \n",
       "4     0.000273  0.000390 -0.030655 -0.016378 -0.138717 -0.115094 -0.059894  \n",
       "...        ...       ...       ...       ...       ...       ...       ...  \n",
       "1019  0.013100  0.018598  0.063129  0.105324  0.157442  0.161747  0.171301  \n",
       "1020  0.013040  0.018537  0.063366  0.105340  0.158131  0.162149  0.171464  \n",
       "1021  0.012980  0.018475  0.063604  0.105357  0.158825  0.162554  0.171627  \n",
       "1022  0.012919  0.018415  0.063843  0.105374  0.159523  0.162962  0.171792  \n",
       "1023  0.012859  0.018354  0.064084  0.105391  0.160226  0.163374  0.171958  \n",
       "\n",
       "[1024 rows x 47 columns]"
      ]
     },
     "execution_count": 12,
     "metadata": {},
     "output_type": "execute_result"
    }
   ],
   "source": [
    "# Read the CSV file into a DataFrame\n",
    "truth = pd.read_csv('exact_soln_list_jacobi.csv')\n",
    "\n",
    "# Display the DataFrame\n",
    "truth"
   ]
  },
  {
   "cell_type": "code",
   "execution_count": 13,
   "metadata": {
    "executionInfo": {
     "elapsed": 220,
     "status": "ok",
     "timestamp": 1728506517734,
     "user": {
      "displayName": "Qiran Dong",
      "userId": "17293459686455441476"
     },
     "user_tz": 420
    },
    "id": "_G-5BsrYT_nF"
   },
   "outputs": [],
   "source": [
    "selected_columns = ['theta_0', 'theta_1', 'theta_2', 'theta_3', 'theta_4',\n",
    "                    'theta_5', 'theta_6', 'theta_7', 'theta_8', 'theta_9',\n",
    "                    'theta_10', 'theta_11', 'theta_12', 'theta_13', 'theta_14',\n",
    "                    'theta_15', 'theta_16', 'theta_17', 'theta_18', 'theta_19',\n",
    "                    'theta_20', 'theta_21', 'theta_22', 'theta_23', 'theta_24',\n",
    "                    'theta_25', 'theta_26', 'theta_27', 'theta_28', 'theta_29',\n",
    "                    'theta_30', 'theta_31', 'theta_32', 'theta_33', 'theta_34',\n",
    "                    'theta_35', 'theta_36', 'theta_37', 'theta_38', 'theta_39',\n",
    "                    'theta_40', 'theta_41', 'theta_42', 'theta_43', 'theta_44',\n",
    "                    'theta_45']\n",
    "true_thetas = truth[selected_columns].to_numpy()\n",
    "true_losses = truth['losses'].to_numpy()"
   ]
  },
  {
   "cell_type": "markdown",
   "metadata": {
    "id": "Pk2QRsAF6ZTO"
   },
   "source": [
    "# 03 SGD with Diminishing LR by Distance Diagnostic"
   ]
  },
  {
   "cell_type": "markdown",
   "metadata": {
    "id": "erXPXji8KrOn"
   },
   "source": [
    "Recall that our method runs SGD over random $\\tilde λ$'s with a linear basis $\\Phi(\\tilde \\lambda)$ of our choice. We want to approximate $\\theta$ with $\\Phi(\\lambda)\\beta$, so the objective function is $\\min_\\beta h(\\Phi(\\tilde\\lambda)\\beta, \\tilde\\lambda) = (1-\\tilde\\lambda) BCE(X_\\text{pass}\\Phi(\\tilde\\lambda)\\beta,\\ y_\\text{pass}) + \\tilde\\lambda BCE(X_\\text{fail}\\Phi(\\tilde\\lambda)\\beta,\\ y_\\text{fail})$. For each batch of training data set, we randomize $\\tilde\\lambda$. If batch size = 1, then this is equivalent to a standard SGD."
   ]
  },
  {
   "cell_type": "markdown",
   "metadata": {
    "id": "e2_RxPHx6ZTV"
   },
   "source": [
    "We use diminishing learning rate for better demonstrate convergence. If we use a constant learning rate, the solution path error will eventually do a random walk after descending to a certain threshold value.\n",
    "\n",
    "Set weighted_avg to 'False' see this random walk."
   ]
  },
  {
   "cell_type": "code",
   "execution_count": 14,
   "metadata": {
    "executionInfo": {
     "elapsed": 196,
     "status": "ok",
     "timestamp": 1728506519753,
     "user": {
      "displayName": "Qiran Dong",
      "userId": "17293459686455441476"
     },
     "user_tz": 420
    },
    "id": "IoTSnccw6ZTV"
   },
   "outputs": [],
   "source": [
    "max_epochs = 2000"
   ]
  },
  {
   "cell_type": "code",
   "execution_count": 171,
   "metadata": {},
   "outputs": [],
   "source": [
    "alpha_beta=[-.3, -.7]"
   ]
  },
  {
   "cell_type": "code",
   "execution_count": 172,
   "metadata": {},
   "outputs": [],
   "source": [
    "phi_lam = customized_jacobi(alpha_beta)"
   ]
  },
  {
   "cell_type": "code",
   "execution_count": 173,
   "metadata": {
    "executionInfo": {
     "elapsed": 4,
     "status": "ok",
     "timestamp": 1728506520769,
     "user": {
      "displayName": "Qiran Dong",
      "userId": "17293459686455441476"
     },
     "user_tz": 420
    },
    "id": "F8bdwYK_TMp4"
   },
   "outputs": [],
   "source": [
    "def thresh_basis(basis_dim):\n",
    "    return -1"
   ]
  },
  {
   "cell_type": "markdown",
   "metadata": {
    "id": "DNzp5D1h6ZTW"
   },
   "source": [
    "## num basis func = 5"
   ]
  },
  {
   "cell_type": "code",
   "execution_count": 174,
   "metadata": {
    "executionInfo": {
     "elapsed": 234,
     "status": "ok",
     "timestamp": 1728506522447,
     "user": {
      "displayName": "Qiran Dong",
      "userId": "17293459686455441476"
     },
     "user_tz": 420
    },
    "id": "GsbMNb-66ZTW"
   },
   "outputs": [],
   "source": [
    "basis_dim = 5\n",
    "# init_lr = .015625\n",
    "\n",
    "# # [-.5, -.5] \n",
    "# init_lr = 0.5 \n",
    "# [-.3, -.7]\n",
    "init_lr = 1 \n",
    "# # [.3, -.7]\n",
    "# init_lr = .5 \n",
    "# # [0, 0] \n",
    "# init_lr = 0.25 \n",
    "# # [0, 1] \n",
    "# init_lr = 0.25 \n",
    "# # [1, 1] \n",
    "# init_lr = 0.125 \n"
   ]
  },
  {
   "cell_type": "code",
   "execution_count": 175,
   "metadata": {},
   "outputs": [
    {
     "name": "stdout",
     "output_type": "stream",
     "text": [
      "--------approximate solution path for # itr = 100 complete--------\n",
      "# epoch: 100\t sup error: 0.002410292625427246\n",
      "--------approximate solution path for # itr = 200 complete--------\n",
      "# epoch: 200\t sup error: 0.001023411750793457\n",
      "--------approximate solution path for # itr = 300 complete--------\n",
      "# epoch: 300\t sup error: 0.0007383823394775391\n",
      "--------approximate solution path for # itr = 400 complete--------\n",
      "# epoch: 400\t sup error: 0.0010739564895629883\n",
      "--------approximate solution path for # itr = 500 complete--------\n",
      "# epoch: 500\t sup error: 0.0008317530155181885\n",
      "--------approximate solution path for # itr = 600 complete--------\n",
      "# epoch: 600\t sup error: 0.0007255673408508301\n",
      "--------approximate solution path for # itr = 700 complete--------\n",
      "# epoch: 700\t sup error: 0.0015810728073120117\n",
      "--------approximate solution path for # itr = 800 complete--------\n",
      "# epoch: 800\t sup error: 0.0007995069026947021\n",
      "--------approximate solution path for # itr = 900 complete--------\n",
      "# epoch: 900\t sup error: 0.0004394054412842352\n",
      "--------approximate solution path for # itr = 1000 complete--------\n",
      "# epoch: 1000\t sup error: 0.00033980607986450195\n",
      "--------approximate solution path for # itr = 1100 complete--------\n",
      "# epoch: 1100\t sup error: 0.000245511531829834\n",
      "--------approximate solution path for # itr = 1200 complete--------\n",
      "# epoch: 1200\t sup error: 0.0005819201469421387\n",
      "--------approximate solution path for # itr = 1300 complete--------\n",
      "# epoch: 1300\t sup error: 0.0008451938629150391\n",
      "--------approximate solution path for # itr = 1400 complete--------\n",
      "# epoch: 1400\t sup error: 0.000828862190246582\n",
      "--------approximate solution path for # itr = 1500 complete--------\n",
      "# epoch: 1500\t sup error: 0.000526726245880127\n",
      "--------approximate solution path for # itr = 1600 complete--------\n",
      "# epoch: 1600\t sup error: 0.0013113915920257568\n",
      "--------approximate solution path for # itr = 1700 complete--------\n",
      "# epoch: 1700\t sup error: 0.00036987662315374203\n",
      "--------approximate solution path for # itr = 1800 complete--------\n",
      "# epoch: 1800\t sup error: 0.0004652738571166992\n",
      "--------approximate solution path for # itr = 1900 complete--------\n",
      "# epoch: 1900\t sup error: 0.0010039806365966797\n",
      "--------approximate solution path for # itr = 2000 complete--------\n",
      "# epoch: 2000\t sup error: 0.0004937350749969482\n"
     ]
    }
   ],
   "source": [
    "np.random.seed(8675309)\n",
    "torch.manual_seed(8675309)\n",
    "\n",
    "num_itr_history, sup_err_history_last_itr, weight, lr, itr = learn_solution_path(input_dim, basis_dim, phi_lam, max_epochs,\n",
    "                                                               GD_data_loader, test_data_loader, loss_fn,\n",
    "                                                               lam_min, lam_max, true_losses, init_lr=init_lr,\n",
    "                                                               diminish=True, thresh_basis=thresh_basis,\n",
    "                                                               weighted_avg=False,\n",
    "                                                               record_frequency=10, distribution='beta', alpha_beta=alpha_beta,\n",
    "                                                               device=device, trace_frequency=100)\n",
    "\n",
    "sup_err_history_last_itr = np.array(sup_err_history_last_itr)"
   ]
  },
  {
   "cell_type": "code",
   "execution_count": 176,
   "metadata": {
    "colab": {
     "base_uri": "https://localhost:8080/",
     "height": 424
    },
    "executionInfo": {
     "elapsed": 560,
     "status": "ok",
     "timestamp": 1714378942243,
     "user": {
      "displayName": "Qiran Dong",
      "userId": "17293459686455441476"
     },
     "user_tz": -480
    },
    "id": "65f8TfaB63K9",
    "outputId": "7f902c8f-ae68-4655-e70a-370bb8ff5722"
   },
   "outputs": [
    {
     "data": {
      "text/html": [
       "<div>\n",
       "<style scoped>\n",
       "    .dataframe tbody tr th:only-of-type {\n",
       "        vertical-align: middle;\n",
       "    }\n",
       "\n",
       "    .dataframe tbody tr th {\n",
       "        vertical-align: top;\n",
       "    }\n",
       "\n",
       "    .dataframe thead th {\n",
       "        text-align: right;\n",
       "    }\n",
       "</style>\n",
       "<table border=\"1\" class=\"dataframe\">\n",
       "  <thead>\n",
       "    <tr style=\"text-align: right;\">\n",
       "      <th></th>\n",
       "      <th>num_itr</th>\n",
       "      <th>sup_err_5</th>\n",
       "    </tr>\n",
       "  </thead>\n",
       "  <tbody>\n",
       "    <tr>\n",
       "      <th>0</th>\n",
       "      <td>10.0</td>\n",
       "      <td>0.560709</td>\n",
       "    </tr>\n",
       "    <tr>\n",
       "      <th>1</th>\n",
       "      <td>20.0</td>\n",
       "      <td>0.046058</td>\n",
       "    </tr>\n",
       "    <tr>\n",
       "      <th>2</th>\n",
       "      <td>30.0</td>\n",
       "      <td>0.037667</td>\n",
       "    </tr>\n",
       "    <tr>\n",
       "      <th>3</th>\n",
       "      <td>40.0</td>\n",
       "      <td>0.013352</td>\n",
       "    </tr>\n",
       "    <tr>\n",
       "      <th>4</th>\n",
       "      <td>50.0</td>\n",
       "      <td>0.020748</td>\n",
       "    </tr>\n",
       "    <tr>\n",
       "      <th>...</th>\n",
       "      <td>...</td>\n",
       "      <td>...</td>\n",
       "    </tr>\n",
       "    <tr>\n",
       "      <th>195</th>\n",
       "      <td>1960.0</td>\n",
       "      <td>0.002105</td>\n",
       "    </tr>\n",
       "    <tr>\n",
       "      <th>196</th>\n",
       "      <td>1970.0</td>\n",
       "      <td>0.001708</td>\n",
       "    </tr>\n",
       "    <tr>\n",
       "      <th>197</th>\n",
       "      <td>1980.0</td>\n",
       "      <td>0.001193</td>\n",
       "    </tr>\n",
       "    <tr>\n",
       "      <th>198</th>\n",
       "      <td>1990.0</td>\n",
       "      <td>0.001472</td>\n",
       "    </tr>\n",
       "    <tr>\n",
       "      <th>199</th>\n",
       "      <td>2000.0</td>\n",
       "      <td>0.000494</td>\n",
       "    </tr>\n",
       "  </tbody>\n",
       "</table>\n",
       "<p>200 rows × 2 columns</p>\n",
       "</div>"
      ],
      "text/plain": [
       "     num_itr  sup_err_5\n",
       "0       10.0   0.560709\n",
       "1       20.0   0.046058\n",
       "2       30.0   0.037667\n",
       "3       40.0   0.013352\n",
       "4       50.0   0.020748\n",
       "..       ...        ...\n",
       "195   1960.0   0.002105\n",
       "196   1970.0   0.001708\n",
       "197   1980.0   0.001193\n",
       "198   1990.0   0.001472\n",
       "199   2000.0   0.000494\n",
       "\n",
       "[200 rows x 2 columns]"
      ]
     },
     "execution_count": 176,
     "metadata": {},
     "output_type": "execute_result"
    }
   ],
   "source": [
    "file_path = f'LSP_results_exact_fixed_basis_jacobi_{alpha_beta[0]}_{alpha_beta[1]}_last_iterate_shrink_lr.csv'\n",
    "\n",
    "LSP_results_exact_fixed_basis = pd.DataFrame(np.column_stack((num_itr_history, sup_err_history_last_itr)), columns=['num_itr', 'sup_err_5'])\n",
    "\n",
    "# Save the DataFrame to a CSV file\n",
    "LSP_results_exact_fixed_basis.to_csv(file_path, index=False)\n",
    "\n",
    "# Read the CSV file into a DataFrame\n",
    "df = pd.read_csv(file_path)\n",
    "\n",
    "# Display the DataFrame\n",
    "df"
   ]
  },
  {
   "cell_type": "code",
   "execution_count": 177,
   "metadata": {},
   "outputs": [],
   "source": [
    "model = Basis_TF_SGD(input_dim, basis_dim, phi_lam, init_weight=weight, intercept=True).to(device)"
   ]
  },
  {
   "cell_type": "code",
   "execution_count": 178,
   "metadata": {},
   "outputs": [],
   "source": [
    "errs = get_errs_lsp(lam_min[0], lam_max[0], true_losses, model, test_data_loader, loss_fn)"
   ]
  },
  {
   "cell_type": "code",
   "execution_count": 179,
   "metadata": {},
   "outputs": [],
   "source": [
    "lambdas = np.linspace(lam_max[0], lam_min[0], len(true_losses))"
   ]
  },
  {
   "cell_type": "code",
   "execution_count": 180,
   "metadata": {},
   "outputs": [],
   "source": [
    "pd.DataFrame(np.column_stack((errs, lambdas)), columns=['err_5', 'lambdas']).to_csv(f'LSP_errs_Jacobi_{alpha_beta[0]}_{alpha_beta[1]}.csv', index=False)"
   ]
  },
  {
   "cell_type": "markdown",
   "metadata": {
    "id": "2GGfVkgW6ZTW"
   },
   "source": [
    "## num basis func = 7"
   ]
  },
  {
   "cell_type": "code",
   "execution_count": 181,
   "metadata": {
    "id": "KsgeZof36ZTX"
   },
   "outputs": [],
   "source": [
    "basis_dim = 7\n",
    "# init_lr = .015625\n",
    "\n",
    "# # [-.5, -.5] \n",
    "# init_lr = 0.5\n",
    "# [-.3, -.7]\n",
    "init_lr = 0.5 \n",
    "# # [.3, -.7]\n",
    "# init_lr = .25\n",
    "# # [0, 0] \n",
    "# init_lr = 0.125 \n",
    "# # [0, 1] \n",
    "# init_lr = 0.125 \n",
    "# # [1, 1] \n",
    "# init_lr = 0.0625 "
   ]
  },
  {
   "cell_type": "code",
   "execution_count": 182,
   "metadata": {
    "colab": {
     "base_uri": "https://localhost:8080/"
    },
    "executionInfo": {
     "elapsed": 499258,
     "status": "ok",
     "timestamp": 1714379746034,
     "user": {
      "displayName": "Qiran Dong",
      "userId": "17293459686455441476"
     },
     "user_tz": -480
    },
    "id": "bGA2K1_A6ZTX",
    "outputId": "cd6a90d0-3f5b-44bb-b18b-94f392c39165",
    "scrolled": true
   },
   "outputs": [
    {
     "name": "stdout",
     "output_type": "stream",
     "text": [
      "--------approximate solution path for # itr = 100 complete--------\n",
      "# epoch: 100\t sup error: 0.008315816521644592\n",
      "--------approximate solution path for # itr = 200 complete--------\n",
      "# epoch: 200\t sup error: 0.003832399845123291\n",
      "--------approximate solution path for # itr = 300 complete--------\n",
      "# epoch: 300\t sup error: 0.0009881556034088135\n",
      "--------approximate solution path for # itr = 400 complete--------\n",
      "# epoch: 400\t sup error: 0.00033983588218688965\n",
      "--------approximate solution path for # itr = 500 complete--------\n",
      "# epoch: 500\t sup error: 0.00016671419143676758\n",
      "--------approximate solution path for # itr = 600 complete--------\n",
      "# epoch: 600\t sup error: 0.00012487173080444336\n",
      "--------approximate solution path for # itr = 700 complete--------\n",
      "# epoch: 700\t sup error: 0.00013592839241027832\n",
      "--------approximate solution path for # itr = 800 complete--------\n",
      "# epoch: 800\t sup error: 7.31050968170166e-05\n",
      "--------approximate solution path for # itr = 900 complete--------\n",
      "# epoch: 900\t sup error: 4.398822784423828e-05\n",
      "--------approximate solution path for # itr = 1000 complete--------\n",
      "# epoch: 1000\t sup error: 1.1980533599853516e-05\n",
      "--------approximate solution path for # itr = 1100 complete--------\n",
      "# epoch: 1100\t sup error: 1.0520219802856445e-05\n",
      "--------approximate solution path for # itr = 1200 complete--------\n",
      "# epoch: 1200\t sup error: 8.910894393920898e-06\n",
      "--------approximate solution path for # itr = 1300 complete--------\n",
      "# epoch: 1300\t sup error: 1.33514404296875e-05\n",
      "--------approximate solution path for # itr = 1400 complete--------\n",
      "# epoch: 1400\t sup error: 1.4007091522216797e-05\n",
      "--------approximate solution path for # itr = 1500 complete--------\n",
      "# epoch: 1500\t sup error: 1.9848346710205078e-05\n",
      "--------approximate solution path for # itr = 1600 complete--------\n",
      "# epoch: 1600\t sup error: 1.5735626220703125e-05\n",
      "--------approximate solution path for # itr = 1700 complete--------\n",
      "# epoch: 1700\t sup error: 1.2695789337158203e-05\n",
      "--------approximate solution path for # itr = 1800 complete--------\n",
      "# epoch: 1800\t sup error: 1.6063451767023285e-05\n",
      "--------approximate solution path for # itr = 1900 complete--------\n",
      "# epoch: 1900\t sup error: 1.4573335647583008e-05\n",
      "--------approximate solution path for # itr = 2000 complete--------\n",
      "# epoch: 2000\t sup error: 1.576542854309082e-05\n"
     ]
    }
   ],
   "source": [
    "np.random.seed(8675309)\n",
    "torch.manual_seed(8675309)\n",
    "\n",
    "num_itr_history, sup_err_history_last_itr, weight, lr, itr = learn_solution_path(input_dim, basis_dim, phi_lam, max_epochs,\n",
    "                                                               GD_data_loader, test_data_loader, loss_fn,\n",
    "                                                               lam_min, lam_max, true_losses, init_lr=init_lr,\n",
    "                                                               diminish=True, thresh_basis=thresh_basis,\n",
    "                                                               weighted_avg=False,\n",
    "                                                               record_frequency=10, distribution='beta', alpha_beta=alpha_beta,\n",
    "                                                               device=device, trace_frequency=100)\n",
    "\n",
    "sup_err_history_last_itr = np.array(sup_err_history_last_itr)"
   ]
  },
  {
   "cell_type": "code",
   "execution_count": 183,
   "metadata": {
    "id": "-2EP0OSa6ZTX"
   },
   "outputs": [],
   "source": [
    "file_path = f'LSP_results_exact_fixed_basis_jacobi_{alpha_beta[0]}_{alpha_beta[1]}_last_iterate_shrink_lr.csv'\n",
    "\n",
    "# Read the CSV file into a DataFrame\n",
    "df = pd.read_csv(file_path)\n",
    "\n",
    "df['sup_err_7'] = sup_err_history_last_itr\n",
    "\n",
    "# Save the DataFrame to a CSV file\n",
    "df.to_csv(file_path, index=False)"
   ]
  },
  {
   "cell_type": "code",
   "execution_count": 184,
   "metadata": {},
   "outputs": [],
   "source": [
    "model = Basis_TF_SGD(input_dim, basis_dim, phi_lam, init_weight=weight, intercept=True).to(device)"
   ]
  },
  {
   "cell_type": "code",
   "execution_count": 185,
   "metadata": {},
   "outputs": [],
   "source": [
    "errs = get_errs_lsp(lam_min[0], lam_max[0], true_losses, model, test_data_loader, loss_fn)"
   ]
  },
  {
   "cell_type": "code",
   "execution_count": 186,
   "metadata": {},
   "outputs": [],
   "source": [
    "file_path = f'LSP_errs_jacobi_{alpha_beta[0]}_{alpha_beta[1]}.csv'\n",
    "\n",
    "# Read the CSV file into a DataFrame\n",
    "df = pd.read_csv(file_path)\n",
    "\n",
    "df['err_7'] = errs\n",
    "\n",
    "# Save the DataFrame to a CSV file\n",
    "df.to_csv(file_path, index=False)"
   ]
  },
  {
   "cell_type": "markdown",
   "metadata": {
    "id": "Zfvh_oAq6ZTX"
   },
   "source": [
    "## num basis func = 9"
   ]
  },
  {
   "cell_type": "code",
   "execution_count": 187,
   "metadata": {
    "id": "yXYk1dGU6ZTX"
   },
   "outputs": [],
   "source": [
    "basis_dim = 9\n",
    "# init_lr = .015625\n",
    "\n",
    "# # [-.5, -.5] \n",
    "# init_lr = 0.25\n",
    "# [-.3, -.7]\n",
    "init_lr = .5\n",
    "# # [.3, -.7]\n",
    "# init_lr = .25\n",
    "# # [0, 0] \n",
    "# init_lr = 0.0625 \n",
    "# # [0, 1] \n",
    "# init_lr = 0.125 \n",
    "# # [1, 1] \n",
    "# init_lr = 0.0625 "
   ]
  },
  {
   "cell_type": "code",
   "execution_count": 188,
   "metadata": {},
   "outputs": [
    {
     "name": "stdout",
     "output_type": "stream",
     "text": [
      "--------approximate solution path for # itr = 100 complete--------\n",
      "# epoch: 100\t sup error: 0.008001536130905179\n",
      "--------approximate solution path for # itr = 200 complete--------\n",
      "# epoch: 200\t sup error: 0.002504140138626154\n",
      "--------approximate solution path for # itr = 300 complete--------\n",
      "# epoch: 300\t sup error: 0.0005485713481903631\n",
      "--------approximate solution path for # itr = 400 complete--------\n",
      "# epoch: 400\t sup error: 0.00020176172256475278\n",
      "--------approximate solution path for # itr = 500 complete--------\n",
      "# epoch: 500\t sup error: 8.507072925567627e-05\n",
      "--------approximate solution path for # itr = 600 complete--------\n",
      "# epoch: 600\t sup error: 3.702938556676694e-05\n",
      "--------approximate solution path for # itr = 700 complete--------\n",
      "# epoch: 700\t sup error: 4.227459430702907e-05\n",
      "--------approximate solution path for # itr = 800 complete--------\n",
      "# epoch: 800\t sup error: 1.5854835510253906e-05\n",
      "--------approximate solution path for # itr = 900 complete--------\n",
      "# epoch: 900\t sup error: 7.614493370056152e-06\n",
      "--------approximate solution path for # itr = 1000 complete--------\n",
      "# epoch: 1000\t sup error: 2.101063728360275e-06\n",
      "--------approximate solution path for # itr = 1100 complete--------\n",
      "# epoch: 1100\t sup error: 1.2516975403387143e-06\n",
      "--------approximate solution path for # itr = 1200 complete--------\n",
      "# epoch: 1200\t sup error: 7.152557373324431e-07\n",
      "--------approximate solution path for # itr = 1300 complete--------\n",
      "# epoch: 1300\t sup error: 8.195638656616211e-07\n",
      "--------approximate solution path for # itr = 1400 complete--------\n",
      "# epoch: 1400\t sup error: 4.470348358154297e-07\n",
      "--------approximate solution path for # itr = 1500 complete--------\n",
      "# epoch: 1500\t sup error: 6.556510925292969e-07\n",
      "--------approximate solution path for # itr = 1600 complete--------\n",
      "# epoch: 1600\t sup error: 6.705522537231445e-07\n"
     ]
    },
    {
     "name": "stdout",
     "output_type": "stream",
     "text": [
      "--------approximate solution path for # itr = 1700 complete--------\n",
      "# epoch: 1700\t sup error: 4.3213367462158203e-07\n",
      "--------approximate solution path for # itr = 1800 complete--------\n",
      "# epoch: 1800\t sup error: 5.364418029785156e-07\n",
      "--------approximate solution path for # itr = 1900 complete--------\n",
      "# epoch: 1900\t sup error: 4.76837158203125e-07\n",
      "--------approximate solution path for # itr = 2000 complete--------\n",
      "# epoch: 2000\t sup error: 6.556510925292969e-07\n"
     ]
    }
   ],
   "source": [
    "np.random.seed(8675309)\n",
    "torch.manual_seed(8675309)\n",
    "\n",
    "num_itr_history, sup_err_history_last_itr, weight, lr, itr = learn_solution_path(input_dim, basis_dim, phi_lam, max_epochs,\n",
    "                                                               GD_data_loader, test_data_loader, loss_fn,\n",
    "                                                               lam_min, lam_max, true_losses, init_lr=init_lr,\n",
    "                                                               diminish=True, thresh_basis=thresh_basis,\n",
    "                                                               weighted_avg=False,\n",
    "                                                               record_frequency=10, distribution='beta', alpha_beta=alpha_beta,\n",
    "                                                               device=device, trace_frequency=100)\n",
    "\n",
    "sup_err_history_last_itr = np.array(sup_err_history_last_itr)"
   ]
  },
  {
   "cell_type": "code",
   "execution_count": 189,
   "metadata": {},
   "outputs": [],
   "source": [
    "file_path = f'LSP_results_exact_fixed_basis_jacobi_{alpha_beta[0]}_{alpha_beta[1]}_last_iterate_shrink_lr.csv'\n",
    "\n",
    "# Read the CSV file into a DataFrame\n",
    "df = pd.read_csv(file_path)\n",
    "\n",
    "df['sup_err_9'] = sup_err_history_last_itr\n",
    "\n",
    "# Save the DataFrame to a CSV file\n",
    "df.to_csv(file_path, index=False)"
   ]
  },
  {
   "cell_type": "code",
   "execution_count": 190,
   "metadata": {},
   "outputs": [],
   "source": [
    "model = Basis_TF_SGD(input_dim, basis_dim, phi_lam, init_weight=weight, intercept=True).to(device)"
   ]
  },
  {
   "cell_type": "code",
   "execution_count": 191,
   "metadata": {},
   "outputs": [],
   "source": [
    "errs = get_errs_lsp(lam_min[0], lam_max[0], true_losses, model, test_data_loader, loss_fn)"
   ]
  },
  {
   "cell_type": "code",
   "execution_count": 192,
   "metadata": {},
   "outputs": [],
   "source": [
    "file_path = f'LSP_errs_jacobi_{alpha_beta[0]}_{alpha_beta[1]}.csv'\n",
    "\n",
    "# Read the CSV file into a DataFrame\n",
    "df = pd.read_csv(file_path)\n",
    "\n",
    "df['err_9'] = errs\n",
    "\n",
    "# Save the DataFrame to a CSV file\n",
    "df.to_csv(file_path, index=False)"
   ]
  },
  {
   "cell_type": "code",
   "execution_count": null,
   "metadata": {},
   "outputs": [],
   "source": []
  }
 ],
 "metadata": {
  "colab": {
   "collapsed_sections": [
    "m3L-U5TOhH2n",
    "Y9J9qCMy10Ox",
    "Or0gkTMviH0W",
    "nbXG0xPEjeQh",
    "6ofJDsr2jeQo",
    "yqNdibPQslZw",
    "hF5n908EJUtF",
    "7HH1vdzqjjCm",
    "RfSIa2Uujq0j",
    "SORoyw2pWquy",
    "zdVY5zC9WqvQ",
    "FhcvPP08WqvR",
    "OTzEn0vLWqvT"
   ],
   "provenance": []
  },
  "kernelspec": {
   "display_name": "Python 3",
   "name": "python3"
  },
  "language_info": {
   "codemirror_mode": {
    "name": "ipython",
    "version": 3
   },
   "file_extension": ".py",
   "mimetype": "text/x-python",
   "name": "python",
   "nbconvert_exporter": "python",
   "pygments_lexer": "ipython3",
   "version": "3.12.5"
  }
 },
 "nbformat": 4,
 "nbformat_minor": 0
}
