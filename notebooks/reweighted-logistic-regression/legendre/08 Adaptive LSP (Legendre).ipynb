{
 "cells": [
  {
   "cell_type": "markdown",
   "metadata": {
    "id": "ZrpyuxcPuBMC",
    "jp-MarkdownHeadingCollapsed": true
   },
   "source": [
    "# 01 Import libraries"
   ]
  },
  {
   "cell_type": "code",
   "execution_count": 1,
   "metadata": {
    "colab": {
     "base_uri": "https://localhost:8080/"
    },
    "executionInfo": {
     "elapsed": 4022,
     "status": "ok",
     "timestamp": 1726674635847,
     "user": {
      "displayName": "Qiran Dong",
      "userId": "17293459686455441476"
     },
     "user_tz": 420
    },
    "id": "c69qsdzouBMK",
    "outputId": "ae96e3ea-b002-4e5b-b8d0-8e4c6bbfe050"
   },
   "outputs": [
    {
     "name": "stdout",
     "output_type": "stream",
     "text": [
      "Using device: cpu\n"
     ]
    }
   ],
   "source": [
    "import numpy as np\n",
    "import torch\n",
    "\n",
    "device = (\n",
    "    \"cuda\"\n",
    "    if torch.cuda.is_available()\n",
    "    else \"mps\"\n",
    "    if torch.backends.mps.is_available()\n",
    "    else \"cpu\"\n",
    ")\n",
    "print(f\"Using device: {device}\")"
   ]
  },
  {
   "cell_type": "code",
   "execution_count": 2,
   "metadata": {
    "executionInfo": {
     "elapsed": 488,
     "status": "ok",
     "timestamp": 1726674636328,
     "user": {
      "displayName": "Qiran Dong",
      "userId": "17293459686455441476"
     },
     "user_tz": 420
    },
    "id": "nKiZrvI3uBMK"
   },
   "outputs": [],
   "source": [
    "import pandas as pd"
   ]
  },
  {
   "cell_type": "code",
   "execution_count": 3,
   "metadata": {},
   "outputs": [],
   "source": [
    "%reload_ext autoreload\n",
    "%autoreload 2"
   ]
  },
  {
   "cell_type": "code",
   "execution_count": 4,
   "metadata": {
    "executionInfo": {
     "elapsed": 9,
     "status": "ok",
     "timestamp": 1726674636328,
     "user": {
      "displayName": "Qiran Dong",
      "userId": "17293459686455441476"
     },
     "user_tz": 420
    },
    "id": "n5rQ2Zl4tpi9"
   },
   "outputs": [],
   "source": [
    "import importlib"
   ]
  },
  {
   "cell_type": "markdown",
   "metadata": {
    "id": "YyNwiMwJeCKC"
   },
   "source": [
    "## Import our own modules"
   ]
  },
  {
   "cell_type": "code",
   "execution_count": 5,
   "metadata": {
    "colab": {
     "base_uri": "https://localhost:8080/"
    },
    "executionInfo": {
     "elapsed": 4,
     "status": "ok",
     "timestamp": 1726674638511,
     "user": {
      "displayName": "Qiran Dong",
      "userId": "17293459686455441476"
     },
     "user_tz": 420
    },
    "id": "vZuer2csD23g",
    "outputId": "73bbbd83-fcd5-40d2-cd37-43313c38975b"
   },
   "outputs": [
    {
     "data": {
      "text/plain": [
       "<module 'lib' from 'c:\\\\Users\\\\dongq\\\\OneDrive\\\\Desktop\\\\New results\\\\Learning-the-Optimal-Solution-Path\\\\lib\\\\__init__.py'>"
      ]
     },
     "execution_count": 5,
     "metadata": {},
     "output_type": "execute_result"
    }
   ],
   "source": [
    "import lib\n",
    "importlib.reload(lib)"
   ]
  },
  {
   "cell_type": "code",
   "execution_count": 6,
   "metadata": {
    "executionInfo": {
     "elapsed": 551,
     "status": "ok",
     "timestamp": 1726674639059,
     "user": {
      "displayName": "Qiran Dong",
      "userId": "17293459686455441476"
     },
     "user_tz": 420
    },
    "id": "i1wokCiguBMK"
   },
   "outputs": [],
   "source": [
    "from lib.lsp.basis_generator import scaled_shifted_legendre\n",
    "from lib.lsp.basis_tf_module import Basis_TF_SGD\n",
    "from lib.lsp.learn_solution_path import adaptive_lsp\n",
    "from lib.lsp.loss_fn_lsp import reg_unif_weighted_logit\n",
    "from lib.fast_tensor_data_loader import FastTensorDataLoader"
   ]
  },
  {
   "cell_type": "markdown",
   "metadata": {
    "id": "kgFudN6y47h_"
   },
   "source": [
    "# 02 Load data"
   ]
  },
  {
   "cell_type": "code",
   "execution_count": 7,
   "metadata": {
    "executionInfo": {
     "elapsed": 12,
     "status": "ok",
     "timestamp": 1726674639060,
     "user": {
      "displayName": "Qiran Dong",
      "userId": "17293459686455441476"
     },
     "user_tz": 420
    },
    "id": "HWq6R8dR47iA"
   },
   "outputs": [],
   "source": [
    "# file path\n",
    "X_df = pd.read_csv('X_processed.csv')\n",
    "y_df = pd.read_csv('y_processed.csv')"
   ]
  },
  {
   "cell_type": "code",
   "execution_count": 8,
   "metadata": {
    "executionInfo": {
     "elapsed": 12,
     "status": "ok",
     "timestamp": 1726674639061,
     "user": {
      "displayName": "Qiran Dong",
      "userId": "17293459686455441476"
     },
     "user_tz": 420
    },
    "id": "-E9UrfMd47iA"
   },
   "outputs": [],
   "source": [
    "X = np.array(X_df)\n",
    "y = np.array(y_df).squeeze()"
   ]
  },
  {
   "cell_type": "code",
   "execution_count": 9,
   "metadata": {
    "executionInfo": {
     "elapsed": 10,
     "status": "ok",
     "timestamp": 1726674639061,
     "user": {
      "displayName": "Qiran Dong",
      "userId": "17293459686455441476"
     },
     "user_tz": 420
    },
    "id": "9k93cwrA47iA"
   },
   "outputs": [],
   "source": [
    "train_X = torch.tensor(X, dtype=torch.float32)\n",
    "train_y = torch.tensor(y, dtype=torch.float32)"
   ]
  },
  {
   "cell_type": "code",
   "execution_count": 10,
   "metadata": {
    "executionInfo": {
     "elapsed": 9,
     "status": "ok",
     "timestamp": 1726674639061,
     "user": {
      "displayName": "Qiran Dong",
      "userId": "17293459686455441476"
     },
     "user_tz": 420
    },
    "id": "Pym_yGJl47iA"
   },
   "outputs": [],
   "source": [
    "# full gradient descent uses all data points\n",
    "GD_data_loader = FastTensorDataLoader(train_X, train_y, batch_size=1000, shuffle=True, )\n",
    "# test data\n",
    "test_data_loader = FastTensorDataLoader(train_X, train_y, batch_size=1000, shuffle=False, )"
   ]
  },
  {
   "cell_type": "code",
   "execution_count": 11,
   "metadata": {
    "executionInfo": {
     "elapsed": 9,
     "status": "ok",
     "timestamp": 1726674639061,
     "user": {
      "displayName": "Qiran Dong",
      "userId": "17293459686455441476"
     },
     "user_tz": 420
    },
    "id": "SV7-rl5z47iA"
   },
   "outputs": [],
   "source": [
    "lam_max = [1]\n",
    "lam_min = [0]\n",
    "input_dim = X.shape[1]\n",
    "loss_fn = reg_unif_weighted_logit"
   ]
  },
  {
   "cell_type": "code",
   "execution_count": 12,
   "metadata": {
    "colab": {
     "base_uri": "https://localhost:8080/",
     "height": 0
    },
    "executionInfo": {
     "elapsed": 422,
     "status": "ok",
     "timestamp": 1726674639475,
     "user": {
      "displayName": "Qiran Dong",
      "userId": "17293459686455441476"
     },
     "user_tz": 420
    },
    "id": "beo_WBCx47iA",
    "outputId": "8def7387-3807-4099-a3b9-6ee2191c8c33"
   },
   "outputs": [
    {
     "data": {
      "text/html": [
       "<div>\n",
       "<style scoped>\n",
       "    .dataframe tbody tr th:only-of-type {\n",
       "        vertical-align: middle;\n",
       "    }\n",
       "\n",
       "    .dataframe tbody tr th {\n",
       "        vertical-align: top;\n",
       "    }\n",
       "\n",
       "    .dataframe thead th {\n",
       "        text-align: right;\n",
       "    }\n",
       "</style>\n",
       "<table border=\"1\" class=\"dataframe\">\n",
       "  <thead>\n",
       "    <tr style=\"text-align: right;\">\n",
       "      <th></th>\n",
       "      <th>losses</th>\n",
       "      <th>theta_0</th>\n",
       "      <th>theta_1</th>\n",
       "      <th>theta_2</th>\n",
       "      <th>theta_3</th>\n",
       "      <th>theta_4</th>\n",
       "      <th>theta_5</th>\n",
       "      <th>theta_6</th>\n",
       "      <th>theta_7</th>\n",
       "      <th>theta_8</th>\n",
       "      <th>...</th>\n",
       "      <th>theta_36</th>\n",
       "      <th>theta_37</th>\n",
       "      <th>theta_38</th>\n",
       "      <th>theta_39</th>\n",
       "      <th>theta_40</th>\n",
       "      <th>theta_41</th>\n",
       "      <th>theta_42</th>\n",
       "      <th>theta_43</th>\n",
       "      <th>theta_44</th>\n",
       "      <th>theta_45</th>\n",
       "    </tr>\n",
       "  </thead>\n",
       "  <tbody>\n",
       "    <tr>\n",
       "      <th>0</th>\n",
       "      <td>0.190793</td>\n",
       "      <td>-0.373029</td>\n",
       "      <td>0.186622</td>\n",
       "      <td>0.227443</td>\n",
       "      <td>-0.023583</td>\n",
       "      <td>0.164822</td>\n",
       "      <td>0.142992</td>\n",
       "      <td>0.168018</td>\n",
       "      <td>0.026305</td>\n",
       "      <td>0.142661</td>\n",
       "      <td>...</td>\n",
       "      <td>-0.018010</td>\n",
       "      <td>0.054908</td>\n",
       "      <td>-0.005629</td>\n",
       "      <td>0.000000</td>\n",
       "      <td>0.000000</td>\n",
       "      <td>-0.031270</td>\n",
       "      <td>-0.018010</td>\n",
       "      <td>-0.139608</td>\n",
       "      <td>-0.116840</td>\n",
       "      <td>-0.061673</td>\n",
       "    </tr>\n",
       "    <tr>\n",
       "      <th>1</th>\n",
       "      <td>0.192130</td>\n",
       "      <td>-0.371212</td>\n",
       "      <td>0.186634</td>\n",
       "      <td>0.227586</td>\n",
       "      <td>-0.023679</td>\n",
       "      <td>0.164875</td>\n",
       "      <td>0.142262</td>\n",
       "      <td>0.167428</td>\n",
       "      <td>0.025960</td>\n",
       "      <td>0.142993</td>\n",
       "      <td>...</td>\n",
       "      <td>-0.017600</td>\n",
       "      <td>0.054199</td>\n",
       "      <td>-0.005657</td>\n",
       "      <td>0.000069</td>\n",
       "      <td>0.000098</td>\n",
       "      <td>-0.031115</td>\n",
       "      <td>-0.017600</td>\n",
       "      <td>-0.139385</td>\n",
       "      <td>-0.116402</td>\n",
       "      <td>-0.061226</td>\n",
       "    </tr>\n",
       "    <tr>\n",
       "      <th>2</th>\n",
       "      <td>0.193463</td>\n",
       "      <td>-0.369401</td>\n",
       "      <td>0.186645</td>\n",
       "      <td>0.227729</td>\n",
       "      <td>-0.023775</td>\n",
       "      <td>0.164927</td>\n",
       "      <td>0.141535</td>\n",
       "      <td>0.166842</td>\n",
       "      <td>0.025615</td>\n",
       "      <td>0.143323</td>\n",
       "      <td>...</td>\n",
       "      <td>-0.017191</td>\n",
       "      <td>0.053493</td>\n",
       "      <td>-0.005685</td>\n",
       "      <td>0.000137</td>\n",
       "      <td>0.000195</td>\n",
       "      <td>-0.030961</td>\n",
       "      <td>-0.017191</td>\n",
       "      <td>-0.139162</td>\n",
       "      <td>-0.115965</td>\n",
       "      <td>-0.060781</td>\n",
       "    </tr>\n",
       "    <tr>\n",
       "      <th>3</th>\n",
       "      <td>0.194792</td>\n",
       "      <td>-0.367595</td>\n",
       "      <td>0.186656</td>\n",
       "      <td>0.227870</td>\n",
       "      <td>-0.023870</td>\n",
       "      <td>0.164977</td>\n",
       "      <td>0.140811</td>\n",
       "      <td>0.166258</td>\n",
       "      <td>0.025271</td>\n",
       "      <td>0.143653</td>\n",
       "      <td>...</td>\n",
       "      <td>-0.016784</td>\n",
       "      <td>0.052790</td>\n",
       "      <td>-0.005713</td>\n",
       "      <td>0.000205</td>\n",
       "      <td>0.000293</td>\n",
       "      <td>-0.030808</td>\n",
       "      <td>-0.016784</td>\n",
       "      <td>-0.138939</td>\n",
       "      <td>-0.115529</td>\n",
       "      <td>-0.060337</td>\n",
       "    </tr>\n",
       "    <tr>\n",
       "      <th>4</th>\n",
       "      <td>0.196117</td>\n",
       "      <td>-0.365794</td>\n",
       "      <td>0.186665</td>\n",
       "      <td>0.228009</td>\n",
       "      <td>-0.023964</td>\n",
       "      <td>0.165027</td>\n",
       "      <td>0.140089</td>\n",
       "      <td>0.165677</td>\n",
       "      <td>0.024927</td>\n",
       "      <td>0.143982</td>\n",
       "      <td>...</td>\n",
       "      <td>-0.016378</td>\n",
       "      <td>0.052089</td>\n",
       "      <td>-0.005741</td>\n",
       "      <td>0.000273</td>\n",
       "      <td>0.000390</td>\n",
       "      <td>-0.030655</td>\n",
       "      <td>-0.016378</td>\n",
       "      <td>-0.138717</td>\n",
       "      <td>-0.115094</td>\n",
       "      <td>-0.059894</td>\n",
       "    </tr>\n",
       "    <tr>\n",
       "      <th>...</th>\n",
       "      <td>...</td>\n",
       "      <td>...</td>\n",
       "      <td>...</td>\n",
       "      <td>...</td>\n",
       "      <td>...</td>\n",
       "      <td>...</td>\n",
       "      <td>...</td>\n",
       "      <td>...</td>\n",
       "      <td>...</td>\n",
       "      <td>...</td>\n",
       "      <td>...</td>\n",
       "      <td>...</td>\n",
       "      <td>...</td>\n",
       "      <td>...</td>\n",
       "      <td>...</td>\n",
       "      <td>...</td>\n",
       "      <td>...</td>\n",
       "      <td>...</td>\n",
       "      <td>...</td>\n",
       "      <td>...</td>\n",
       "      <td>...</td>\n",
       "    </tr>\n",
       "    <tr>\n",
       "      <th>1019</th>\n",
       "      <td>0.327684</td>\n",
       "      <td>0.692472</td>\n",
       "      <td>-0.029101</td>\n",
       "      <td>-0.033382</td>\n",
       "      <td>-0.017462</td>\n",
       "      <td>-0.005831</td>\n",
       "      <td>-0.225541</td>\n",
       "      <td>-0.146453</td>\n",
       "      <td>-0.051680</td>\n",
       "      <td>0.070009</td>\n",
       "      <td>...</td>\n",
       "      <td>0.105324</td>\n",
       "      <td>-0.201982</td>\n",
       "      <td>0.000913</td>\n",
       "      <td>0.013100</td>\n",
       "      <td>0.018598</td>\n",
       "      <td>0.063129</td>\n",
       "      <td>0.105324</td>\n",
       "      <td>0.157442</td>\n",
       "      <td>0.161747</td>\n",
       "      <td>0.171301</td>\n",
       "    </tr>\n",
       "    <tr>\n",
       "      <th>1020</th>\n",
       "      <td>0.325866</td>\n",
       "      <td>0.693930</td>\n",
       "      <td>-0.029932</td>\n",
       "      <td>-0.034521</td>\n",
       "      <td>-0.017548</td>\n",
       "      <td>-0.006565</td>\n",
       "      <td>-0.226194</td>\n",
       "      <td>-0.148351</td>\n",
       "      <td>-0.051246</td>\n",
       "      <td>0.068693</td>\n",
       "      <td>...</td>\n",
       "      <td>0.105340</td>\n",
       "      <td>-0.202186</td>\n",
       "      <td>0.000990</td>\n",
       "      <td>0.013040</td>\n",
       "      <td>0.018537</td>\n",
       "      <td>0.063366</td>\n",
       "      <td>0.105340</td>\n",
       "      <td>0.158131</td>\n",
       "      <td>0.162149</td>\n",
       "      <td>0.171464</td>\n",
       "    </tr>\n",
       "    <tr>\n",
       "      <th>1021</th>\n",
       "      <td>0.324032</td>\n",
       "      <td>0.695399</td>\n",
       "      <td>-0.030769</td>\n",
       "      <td>-0.035668</td>\n",
       "      <td>-0.017634</td>\n",
       "      <td>-0.007304</td>\n",
       "      <td>-0.226853</td>\n",
       "      <td>-0.150274</td>\n",
       "      <td>-0.050809</td>\n",
       "      <td>0.067366</td>\n",
       "      <td>...</td>\n",
       "      <td>0.105357</td>\n",
       "      <td>-0.202393</td>\n",
       "      <td>0.001066</td>\n",
       "      <td>0.012980</td>\n",
       "      <td>0.018475</td>\n",
       "      <td>0.063604</td>\n",
       "      <td>0.105357</td>\n",
       "      <td>0.158825</td>\n",
       "      <td>0.162554</td>\n",
       "      <td>0.171627</td>\n",
       "    </tr>\n",
       "    <tr>\n",
       "      <th>1022</th>\n",
       "      <td>0.322184</td>\n",
       "      <td>0.696878</td>\n",
       "      <td>-0.031613</td>\n",
       "      <td>-0.036822</td>\n",
       "      <td>-0.017720</td>\n",
       "      <td>-0.008050</td>\n",
       "      <td>-0.227517</td>\n",
       "      <td>-0.152223</td>\n",
       "      <td>-0.050369</td>\n",
       "      <td>0.066028</td>\n",
       "      <td>...</td>\n",
       "      <td>0.105374</td>\n",
       "      <td>-0.202601</td>\n",
       "      <td>0.001143</td>\n",
       "      <td>0.012919</td>\n",
       "      <td>0.018415</td>\n",
       "      <td>0.063843</td>\n",
       "      <td>0.105374</td>\n",
       "      <td>0.159523</td>\n",
       "      <td>0.162962</td>\n",
       "      <td>0.171792</td>\n",
       "    </tr>\n",
       "    <tr>\n",
       "      <th>1023</th>\n",
       "      <td>0.320320</td>\n",
       "      <td>0.698369</td>\n",
       "      <td>-0.032464</td>\n",
       "      <td>-0.037983</td>\n",
       "      <td>-0.017807</td>\n",
       "      <td>-0.008802</td>\n",
       "      <td>-0.228186</td>\n",
       "      <td>-0.154196</td>\n",
       "      <td>-0.049927</td>\n",
       "      <td>0.064680</td>\n",
       "      <td>...</td>\n",
       "      <td>0.105391</td>\n",
       "      <td>-0.202811</td>\n",
       "      <td>0.001220</td>\n",
       "      <td>0.012859</td>\n",
       "      <td>0.018354</td>\n",
       "      <td>0.064084</td>\n",
       "      <td>0.105391</td>\n",
       "      <td>0.160226</td>\n",
       "      <td>0.163374</td>\n",
       "      <td>0.171958</td>\n",
       "    </tr>\n",
       "  </tbody>\n",
       "</table>\n",
       "<p>1024 rows × 47 columns</p>\n",
       "</div>"
      ],
      "text/plain": [
       "        losses   theta_0   theta_1   theta_2   theta_3   theta_4   theta_5  \\\n",
       "0     0.190793 -0.373029  0.186622  0.227443 -0.023583  0.164822  0.142992   \n",
       "1     0.192130 -0.371212  0.186634  0.227586 -0.023679  0.164875  0.142262   \n",
       "2     0.193463 -0.369401  0.186645  0.227729 -0.023775  0.164927  0.141535   \n",
       "3     0.194792 -0.367595  0.186656  0.227870 -0.023870  0.164977  0.140811   \n",
       "4     0.196117 -0.365794  0.186665  0.228009 -0.023964  0.165027  0.140089   \n",
       "...        ...       ...       ...       ...       ...       ...       ...   \n",
       "1019  0.327684  0.692472 -0.029101 -0.033382 -0.017462 -0.005831 -0.225541   \n",
       "1020  0.325866  0.693930 -0.029932 -0.034521 -0.017548 -0.006565 -0.226194   \n",
       "1021  0.324032  0.695399 -0.030769 -0.035668 -0.017634 -0.007304 -0.226853   \n",
       "1022  0.322184  0.696878 -0.031613 -0.036822 -0.017720 -0.008050 -0.227517   \n",
       "1023  0.320320  0.698369 -0.032464 -0.037983 -0.017807 -0.008802 -0.228186   \n",
       "\n",
       "       theta_6   theta_7   theta_8  ...  theta_36  theta_37  theta_38  \\\n",
       "0     0.168018  0.026305  0.142661  ... -0.018010  0.054908 -0.005629   \n",
       "1     0.167428  0.025960  0.142993  ... -0.017600  0.054199 -0.005657   \n",
       "2     0.166842  0.025615  0.143323  ... -0.017191  0.053493 -0.005685   \n",
       "3     0.166258  0.025271  0.143653  ... -0.016784  0.052790 -0.005713   \n",
       "4     0.165677  0.024927  0.143982  ... -0.016378  0.052089 -0.005741   \n",
       "...        ...       ...       ...  ...       ...       ...       ...   \n",
       "1019 -0.146453 -0.051680  0.070009  ...  0.105324 -0.201982  0.000913   \n",
       "1020 -0.148351 -0.051246  0.068693  ...  0.105340 -0.202186  0.000990   \n",
       "1021 -0.150274 -0.050809  0.067366  ...  0.105357 -0.202393  0.001066   \n",
       "1022 -0.152223 -0.050369  0.066028  ...  0.105374 -0.202601  0.001143   \n",
       "1023 -0.154196 -0.049927  0.064680  ...  0.105391 -0.202811  0.001220   \n",
       "\n",
       "      theta_39  theta_40  theta_41  theta_42  theta_43  theta_44  theta_45  \n",
       "0     0.000000  0.000000 -0.031270 -0.018010 -0.139608 -0.116840 -0.061673  \n",
       "1     0.000069  0.000098 -0.031115 -0.017600 -0.139385 -0.116402 -0.061226  \n",
       "2     0.000137  0.000195 -0.030961 -0.017191 -0.139162 -0.115965 -0.060781  \n",
       "3     0.000205  0.000293 -0.030808 -0.016784 -0.138939 -0.115529 -0.060337  \n",
       "4     0.000273  0.000390 -0.030655 -0.016378 -0.138717 -0.115094 -0.059894  \n",
       "...        ...       ...       ...       ...       ...       ...       ...  \n",
       "1019  0.013100  0.018598  0.063129  0.105324  0.157442  0.161747  0.171301  \n",
       "1020  0.013040  0.018537  0.063366  0.105340  0.158131  0.162149  0.171464  \n",
       "1021  0.012980  0.018475  0.063604  0.105357  0.158825  0.162554  0.171627  \n",
       "1022  0.012919  0.018415  0.063843  0.105374  0.159523  0.162962  0.171792  \n",
       "1023  0.012859  0.018354  0.064084  0.105391  0.160226  0.163374  0.171958  \n",
       "\n",
       "[1024 rows x 47 columns]"
      ]
     },
     "execution_count": 12,
     "metadata": {},
     "output_type": "execute_result"
    }
   ],
   "source": [
    "# Read the CSV file into a DataFrame\n",
    "# truth = pd.read_csv('/content/Learning-the-Optimal-Solution-Path/experiments/fair-regression/results/exact_soln_list.csv')\n",
    "truth = pd.read_csv('exact_soln_list_legendre.csv')\n",
    "\n",
    "# Display the DataFrame\n",
    "truth"
   ]
  },
  {
   "cell_type": "code",
   "execution_count": 13,
   "metadata": {
    "executionInfo": {
     "elapsed": 10,
     "status": "ok",
     "timestamp": 1726674639476,
     "user": {
      "displayName": "Qiran Dong",
      "userId": "17293459686455441476"
     },
     "user_tz": 420
    },
    "id": "zhHVxunr47iB"
   },
   "outputs": [],
   "source": [
    "selected_columns = ['theta_0', 'theta_1', 'theta_2', 'theta_3', 'theta_4',\n",
    "                    'theta_5', 'theta_6', 'theta_7', 'theta_8', 'theta_9',\n",
    "                    'theta_10', 'theta_11', 'theta_12', 'theta_13', 'theta_14',\n",
    "                    'theta_15', 'theta_16', 'theta_17', 'theta_18', 'theta_19',\n",
    "                    'theta_20', 'theta_21', 'theta_22', 'theta_23', 'theta_24',\n",
    "                    'theta_25', 'theta_26', 'theta_27', 'theta_28', 'theta_29',\n",
    "                    'theta_30', 'theta_31', 'theta_32', 'theta_33', 'theta_34',\n",
    "                    'theta_35', 'theta_36', 'theta_37', 'theta_38', 'theta_39',\n",
    "                    'theta_40', 'theta_41', 'theta_42', 'theta_43', 'theta_44',\n",
    "                    'theta_45']\n",
    "true_thetas = truth[selected_columns].to_numpy()\n",
    "true_losses = truth['losses'].to_numpy()"
   ]
  },
  {
   "cell_type": "markdown",
   "metadata": {
    "id": "EllA0am6xvwL"
   },
   "source": [
    "# 03 Exact gradient"
   ]
  },
  {
   "cell_type": "code",
   "execution_count": 14,
   "metadata": {
    "executionInfo": {
     "elapsed": 9,
     "status": "ok",
     "timestamp": 1726674639476,
     "user": {
      "displayName": "Qiran Dong",
      "userId": "17293459686455441476"
     },
     "user_tz": 420
    },
    "id": "R-2Vgf3hIHIy"
   },
   "outputs": [],
   "source": [
    "max_epochs = 300"
   ]
  },
  {
   "cell_type": "code",
   "execution_count": 15,
   "metadata": {
    "executionInfo": {
     "elapsed": 9,
     "status": "ok",
     "timestamp": 1726674639476,
     "user": {
      "displayName": "Qiran Dong",
      "userId": "17293459686455441476"
     },
     "user_tz": 420
    },
    "id": "VZf6PT6aFr-e"
   },
   "outputs": [],
   "source": [
    "phi_lam = scaled_shifted_legendre"
   ]
  },
  {
   "cell_type": "code",
   "execution_count": 16,
   "metadata": {
    "executionInfo": {
     "elapsed": 5,
     "status": "ok",
     "timestamp": 1726674640156,
     "user": {
      "displayName": "Qiran Dong",
      "userId": "17293459686455441476"
     },
     "user_tz": 420
    },
    "id": "G47SBajxYstR"
   },
   "outputs": [],
   "source": [
    "start_basis_dim = 5\n",
    "end_basis_dim = 13\n",
    "init_lr = 0.125"
   ]
  },
  {
   "cell_type": "code",
   "execution_count": 26,
   "metadata": {
    "id": "0tvD4bR0W5kP"
   },
   "outputs": [],
   "source": [
    "def thresh_basis(basis_dim):\n",
    "    return 0.1**(basis_dim/1.25 + 1)"
   ]
  },
  {
   "cell_type": "code",
   "execution_count": 28,
   "metadata": {
    "colab": {
     "base_uri": "https://localhost:8080/"
    },
    "executionInfo": {
     "elapsed": 86804,
     "status": "ok",
     "timestamp": 1726533763936,
     "user": {
      "displayName": "Qiran Dong",
      "userId": "17293459686455441476"
     },
     "user_tz": 420
    },
    "id": "kQghWIcXXhNc",
    "outputId": "faf96aff-717e-4aad-f670-2ad4a3bab0f6"
   },
   "outputs": [
    {
     "name": "stdout",
     "output_type": "stream",
     "text": [
      "********** now running lsp with #basis dimension = 5 ***********\n",
      "lr = 0.125\n",
      "--------approximate solution path for # itr = 10 complete--------\n",
      "# epoch: 10\t sup error: 0.5577737390995026\n",
      "--------approximate solution path for # itr = 20 complete--------\n",
      "# epoch: 20\t sup error: 0.032922059297561646\n",
      "********** now running lsp with #basis dimension = 6 ***********\n",
      "lr = 0.10099785559764124\n",
      "--------approximate solution path for # itr = 10 complete--------\n",
      "# epoch: 10\t sup error: 0.004516422748565674\n",
      "--------approximate solution path for # itr = 20 complete--------\n",
      "# epoch: 20\t sup error: 0.0024101734161376953\n",
      "--------approximate solution path for # itr = 30 complete--------\n",
      "# epoch: 30\t sup error: 0.0014271140098571777\n",
      "--------approximate solution path for # itr = 40 complete--------\n",
      "# epoch: 40\t sup error: 0.0007624030113220215\n",
      "********** now running lsp with #basis dimension = 7 ***********\n",
      "lr = 0.08412838627069684\n",
      "********** now running lsp with #basis dimension = 8 ***********\n",
      "lr = 0.07915639864209865\n",
      "--------approximate solution path for # itr = 10 complete--------\n",
      "# epoch: 10\t sup error: 0.0002613663673400879\n",
      "--------approximate solution path for # itr = 20 complete--------\n",
      "# epoch: 20\t sup error: 0.00023621320724487305\n",
      "--------approximate solution path for # itr = 30 complete--------\n",
      "# epoch: 30\t sup error: 0.00016564130783081055\n",
      "********** now running lsp with #basis dimension = 9 ***********\n",
      "lr = 0.0700765905833437\n",
      "--------approximate solution path for # itr = 10 complete--------\n",
      "# epoch: 10\t sup error: 8.71419906616211e-05\n",
      "--------approximate solution path for # itr = 20 complete--------\n",
      "# epoch: 20\t sup error: 3.319978713989258e-05\n",
      "--------approximate solution path for # itr = 30 complete--------\n",
      "# epoch: 30\t sup error: 2.6106834411621094e-05\n",
      "********** now running lsp with #basis dimension = 10 ***********\n",
      "lr = 0.06395701215747204\n",
      "--------approximate solution path for # itr = 10 complete--------\n",
      "# epoch: 10\t sup error: 1.9490718841552734e-05\n",
      "********** now running lsp with #basis dimension = 11 ***********\n",
      "lr = 0.056620683012092575\n",
      "--------approximate solution path for # itr = 10 complete--------\n",
      "# epoch: 10\t sup error: 1.9073486328125e-05\n",
      "--------approximate solution path for # itr = 20 complete--------\n",
      "# epoch: 20\t sup error: 1.5497207641601562e-05\n",
      "--------approximate solution path for # itr = 30 complete--------\n",
      "# epoch: 30\t sup error: 1.2874603271484375e-05\n",
      "--------approximate solution path for # itr = 40 complete--------\n",
      "# epoch: 40\t sup error: 1.049041748046875e-05\n",
      "--------approximate solution path for # itr = 50 complete--------\n",
      "# epoch: 50\t sup error: 9.775161743164062e-06\n",
      "--------approximate solution path for # itr = 60 complete--------\n",
      "# epoch: 60\t sup error: 5.245208740234375e-06\n",
      "--------approximate solution path for # itr = 70 complete--------\n",
      "# epoch: 70\t sup error: 3.635883331298828e-06\n",
      "--------approximate solution path for # itr = 80 complete--------\n",
      "# epoch: 80\t sup error: 2.86102294921875e-06\n",
      "--------approximate solution path for # itr = 90 complete--------\n",
      "# epoch: 90\t sup error: 1.8477439880371094e-06\n",
      "--------approximate solution path for # itr = 100 complete--------\n",
      "# epoch: 100\t sup error: 1.2516975402832031e-06\n",
      "********** now running lsp with #basis dimension = 12 ***********\n",
      "lr = 0.04574854053356116\n",
      "--------approximate solution path for # itr = 10 complete--------\n",
      "# epoch: 10\t sup error: 8.940696716863705e-07\n",
      "--------approximate solution path for # itr = 20 complete--------\n",
      "# epoch: 20\t sup error: 7.748603820800781e-07\n",
      "--------approximate solution path for # itr = 30 complete--------\n",
      "# epoch: 30\t sup error: 4.76837158203125e-07\n",
      "--------approximate solution path for # itr = 40 complete--------\n",
      "# epoch: 40\t sup error: 4.172325134277344e-07\n",
      "--------approximate solution path for # itr = 50 complete--------\n",
      "# epoch: 50\t sup error: 6.258487701416016e-07\n",
      "--------approximate solution path for # itr = 60 complete--------\n",
      "# epoch: 60\t sup error: 5.662441253662109e-07\n"
     ]
    }
   ],
   "source": [
    "np.random.seed(8675309)\n",
    "torch.manual_seed(8675309)\n",
    "\n",
    "num_itr_history, sup_err_history, breaks = adaptive_lsp(input_dim, start_basis_dim, end_basis_dim,\n",
    "                                        phi_lam, max_epochs, GD_data_loader,  test_data_loader,\n",
    "                                        loss_fn, lam_min, lam_max, true_losses, init_lr=init_lr,\n",
    "                                        q=1.2, k_0=4.5, thresh_basis=thresh_basis, record_frequency=10,\n",
    "                                        distribution='uniform', device=device, trace_frequency=10)"
   ]
  },
  {
   "cell_type": "code",
   "execution_count": 29,
   "metadata": {
    "id": "AJ6Lq4JNo5l1"
   },
   "outputs": [],
   "source": [
    "pd.DataFrame(np.array(breaks), columns=['breaks']).to_csv('LSP_results_exact_boosted_breaks_legendre.csv', index=False)"
   ]
  },
  {
   "cell_type": "code",
   "execution_count": 30,
   "metadata": {
    "colab": {
     "base_uri": "https://localhost:8080/",
     "height": 1000
    },
    "executionInfo": {
     "elapsed": 202,
     "status": "ok",
     "timestamp": 1726533793353,
     "user": {
      "displayName": "Qiran Dong",
      "userId": "17293459686455441476"
     },
     "user_tz": 420
    },
    "id": "C98LPlG8ofme",
    "outputId": "f845e4fe-07e9-4af1-e96e-79994497ad8c"
   },
   "outputs": [
    {
     "data": {
      "text/html": [
       "<div>\n",
       "<style scoped>\n",
       "    .dataframe tbody tr th:only-of-type {\n",
       "        vertical-align: middle;\n",
       "    }\n",
       "\n",
       "    .dataframe tbody tr th {\n",
       "        vertical-align: top;\n",
       "    }\n",
       "\n",
       "    .dataframe thead th {\n",
       "        text-align: right;\n",
       "    }\n",
       "</style>\n",
       "<table border=\"1\" class=\"dataframe\">\n",
       "  <thead>\n",
       "    <tr style=\"text-align: right;\">\n",
       "      <th></th>\n",
       "      <th>num_itr</th>\n",
       "      <th>sup_err</th>\n",
       "    </tr>\n",
       "  </thead>\n",
       "  <tbody>\n",
       "    <tr>\n",
       "      <th>0</th>\n",
       "      <td>10.0</td>\n",
       "      <td>5.577737e-01</td>\n",
       "    </tr>\n",
       "    <tr>\n",
       "      <th>1</th>\n",
       "      <td>20.0</td>\n",
       "      <td>3.292206e-02</td>\n",
       "    </tr>\n",
       "    <tr>\n",
       "      <th>2</th>\n",
       "      <td>30.0</td>\n",
       "      <td>4.516423e-03</td>\n",
       "    </tr>\n",
       "    <tr>\n",
       "      <th>3</th>\n",
       "      <td>40.0</td>\n",
       "      <td>2.410173e-03</td>\n",
       "    </tr>\n",
       "    <tr>\n",
       "      <th>4</th>\n",
       "      <td>50.0</td>\n",
       "      <td>1.427114e-03</td>\n",
       "    </tr>\n",
       "    <tr>\n",
       "      <th>5</th>\n",
       "      <td>60.0</td>\n",
       "      <td>7.624030e-04</td>\n",
       "    </tr>\n",
       "    <tr>\n",
       "      <th>6</th>\n",
       "      <td>70.0</td>\n",
       "      <td>2.613664e-04</td>\n",
       "    </tr>\n",
       "    <tr>\n",
       "      <th>7</th>\n",
       "      <td>80.0</td>\n",
       "      <td>2.362132e-04</td>\n",
       "    </tr>\n",
       "    <tr>\n",
       "      <th>8</th>\n",
       "      <td>90.0</td>\n",
       "      <td>1.656413e-04</td>\n",
       "    </tr>\n",
       "    <tr>\n",
       "      <th>9</th>\n",
       "      <td>100.0</td>\n",
       "      <td>8.714199e-05</td>\n",
       "    </tr>\n",
       "    <tr>\n",
       "      <th>10</th>\n",
       "      <td>110.0</td>\n",
       "      <td>3.319979e-05</td>\n",
       "    </tr>\n",
       "    <tr>\n",
       "      <th>11</th>\n",
       "      <td>120.0</td>\n",
       "      <td>2.610683e-05</td>\n",
       "    </tr>\n",
       "    <tr>\n",
       "      <th>12</th>\n",
       "      <td>130.0</td>\n",
       "      <td>1.949072e-05</td>\n",
       "    </tr>\n",
       "    <tr>\n",
       "      <th>13</th>\n",
       "      <td>140.0</td>\n",
       "      <td>1.907349e-05</td>\n",
       "    </tr>\n",
       "    <tr>\n",
       "      <th>14</th>\n",
       "      <td>150.0</td>\n",
       "      <td>1.549721e-05</td>\n",
       "    </tr>\n",
       "    <tr>\n",
       "      <th>15</th>\n",
       "      <td>160.0</td>\n",
       "      <td>1.287460e-05</td>\n",
       "    </tr>\n",
       "    <tr>\n",
       "      <th>16</th>\n",
       "      <td>170.0</td>\n",
       "      <td>1.049042e-05</td>\n",
       "    </tr>\n",
       "    <tr>\n",
       "      <th>17</th>\n",
       "      <td>180.0</td>\n",
       "      <td>9.775162e-06</td>\n",
       "    </tr>\n",
       "    <tr>\n",
       "      <th>18</th>\n",
       "      <td>190.0</td>\n",
       "      <td>5.245209e-06</td>\n",
       "    </tr>\n",
       "    <tr>\n",
       "      <th>19</th>\n",
       "      <td>200.0</td>\n",
       "      <td>3.635883e-06</td>\n",
       "    </tr>\n",
       "    <tr>\n",
       "      <th>20</th>\n",
       "      <td>210.0</td>\n",
       "      <td>2.861023e-06</td>\n",
       "    </tr>\n",
       "    <tr>\n",
       "      <th>21</th>\n",
       "      <td>220.0</td>\n",
       "      <td>1.847744e-06</td>\n",
       "    </tr>\n",
       "    <tr>\n",
       "      <th>22</th>\n",
       "      <td>230.0</td>\n",
       "      <td>1.251698e-06</td>\n",
       "    </tr>\n",
       "    <tr>\n",
       "      <th>23</th>\n",
       "      <td>240.0</td>\n",
       "      <td>8.940697e-07</td>\n",
       "    </tr>\n",
       "    <tr>\n",
       "      <th>24</th>\n",
       "      <td>250.0</td>\n",
       "      <td>7.748604e-07</td>\n",
       "    </tr>\n",
       "    <tr>\n",
       "      <th>25</th>\n",
       "      <td>260.0</td>\n",
       "      <td>4.768372e-07</td>\n",
       "    </tr>\n",
       "    <tr>\n",
       "      <th>26</th>\n",
       "      <td>270.0</td>\n",
       "      <td>4.172325e-07</td>\n",
       "    </tr>\n",
       "    <tr>\n",
       "      <th>27</th>\n",
       "      <td>280.0</td>\n",
       "      <td>6.258488e-07</td>\n",
       "    </tr>\n",
       "    <tr>\n",
       "      <th>28</th>\n",
       "      <td>290.0</td>\n",
       "      <td>5.662441e-07</td>\n",
       "    </tr>\n",
       "  </tbody>\n",
       "</table>\n",
       "</div>"
      ],
      "text/plain": [
       "    num_itr       sup_err\n",
       "0      10.0  5.577737e-01\n",
       "1      20.0  3.292206e-02\n",
       "2      30.0  4.516423e-03\n",
       "3      40.0  2.410173e-03\n",
       "4      50.0  1.427114e-03\n",
       "5      60.0  7.624030e-04\n",
       "6      70.0  2.613664e-04\n",
       "7      80.0  2.362132e-04\n",
       "8      90.0  1.656413e-04\n",
       "9     100.0  8.714199e-05\n",
       "10    110.0  3.319979e-05\n",
       "11    120.0  2.610683e-05\n",
       "12    130.0  1.949072e-05\n",
       "13    140.0  1.907349e-05\n",
       "14    150.0  1.549721e-05\n",
       "15    160.0  1.287460e-05\n",
       "16    170.0  1.049042e-05\n",
       "17    180.0  9.775162e-06\n",
       "18    190.0  5.245209e-06\n",
       "19    200.0  3.635883e-06\n",
       "20    210.0  2.861023e-06\n",
       "21    220.0  1.847744e-06\n",
       "22    230.0  1.251698e-06\n",
       "23    240.0  8.940697e-07\n",
       "24    250.0  7.748604e-07\n",
       "25    260.0  4.768372e-07\n",
       "26    270.0  4.172325e-07\n",
       "27    280.0  6.258488e-07\n",
       "28    290.0  5.662441e-07"
      ]
     },
     "execution_count": 30,
     "metadata": {},
     "output_type": "execute_result"
    }
   ],
   "source": [
    "file_path = 'LSP_results_exact_boosted_legendre.csv'\n",
    "\n",
    "LSP_results_exact = pd.DataFrame(np.column_stack((num_itr_history, sup_err_history)), columns=['num_itr', 'sup_err'])\n",
    "\n",
    "# Save the DataFrame to a CSV file\n",
    "LSP_results_exact.to_csv(file_path, index=False)\n",
    "\n",
    "# Read the CSV file into a DataFrame\n",
    "df = pd.read_csv(file_path)\n",
    "\n",
    "# Display the DataFrame\n",
    "df"
   ]
  }
 ],
 "metadata": {
  "colab": {
   "collapsed_sections": [
    "ZrpyuxcPuBMC",
    "kgFudN6y47h_"
   ],
   "provenance": []
  },
  "kernelspec": {
   "display_name": "Python 3",
   "name": "python3"
  },
  "language_info": {
   "codemirror_mode": {
    "name": "ipython",
    "version": 3
   },
   "file_extension": ".py",
   "mimetype": "text/x-python",
   "name": "python",
   "nbconvert_exporter": "python",
   "pygments_lexer": "ipython3",
   "version": "3.12.5"
  }
 },
 "nbformat": 4,
 "nbformat_minor": 0
}
