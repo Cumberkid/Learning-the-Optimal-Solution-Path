{
 "cells": [
  {
   "cell_type": "markdown",
   "metadata": {
    "id": "ZrpyuxcPuBMC",
    "jp-MarkdownHeadingCollapsed": true
   },
   "source": [
    "# 01 Import libraries"
   ]
  },
  {
   "cell_type": "code",
   "execution_count": 4,
   "metadata": {
    "colab": {
     "base_uri": "https://localhost:8080/"
    },
    "executionInfo": {
     "elapsed": 4678,
     "status": "ok",
     "timestamp": 1716267154260,
     "user": {
      "displayName": "Qiran Dong",
      "userId": "17293459686455441476"
     },
     "user_tz": -480
    },
    "id": "c69qsdzouBMK",
    "outputId": "95535da3-98f5-44ca-c615-bde722b0a327"
   },
   "outputs": [
    {
     "name": "stdout",
     "output_type": "stream",
     "text": [
      "Using device: cpu\n"
     ]
    }
   ],
   "source": [
    "import numpy as np\n",
    "import torch\n",
    "\n",
    "\n",
    "device = (\n",
    "    \"cuda\"\n",
    "    if torch.cuda.is_available()\n",
    "    else \"mps\"\n",
    "    if torch.backends.mps.is_available()\n",
    "    else \"cpu\"\n",
    ")\n",
    "print(f\"Using device: {device}\")"
   ]
  },
  {
   "cell_type": "code",
   "execution_count": 5,
   "metadata": {
    "id": "nKiZrvI3uBMK"
   },
   "outputs": [],
   "source": [
    "import pandas as pd"
   ]
  },
  {
   "cell_type": "code",
   "execution_count": 8,
   "metadata": {},
   "outputs": [],
   "source": [
    "from scipy.optimize import minimize"
   ]
  },
  {
   "cell_type": "markdown",
   "metadata": {
    "id": "u7Uk5mWbC6QN"
   },
   "source": [
    "# 02 Load data"
   ]
  },
  {
   "cell_type": "code",
   "execution_count": 9,
   "metadata": {},
   "outputs": [],
   "source": [
    "# file path for Colab. May need to change this\n",
    "decomp_cov_df = pd.read_csv('decomp_cov.csv')\n",
    "mean_df = pd.read_csv('mean.csv')"
   ]
  },
  {
   "cell_type": "code",
   "execution_count": 10,
   "metadata": {},
   "outputs": [],
   "source": [
    "decomp_cov_np = np.array(decomp_cov_df)\n",
    "mean_np = np.array(mean_df).squeeze()"
   ]
  },
  {
   "cell_type": "markdown",
   "metadata": {
    "id": "4f3LKilJQRZ4"
   },
   "source": [
    "# 03 Compute the approximate optimality for the stochastic objective\n",
    "\n",
    "We evaluate the optimality value for the ERM style objective\n",
    "\n",
    "$$E[{h(\\theta^*(\\tilde\\lambda), \\tilde\\lambda)}] \\simeq \\frac{1}{1000} \\sum_{i=1}^{1000} h(\\theta^*(\\lambda_i), \\lambda_i)$$"
   ]
  },
  {
   "cell_type": "code",
   "execution_count": 11,
   "metadata": {},
   "outputs": [],
   "source": [
    "dim_lambda = 12\n",
    "lam_max_high_dim = np.ones(dim_lambda)\n",
    "lam_min_high_dim = np.zeros(dim_lambda)\n",
    "lam_min_high_dim[2:] = -2\n",
    "lam_min_high_dim[0] = .2\n",
    "lam_max_high_dim[2:] = 2\n",
    "input_dim = decomp_cov_np.shape[1]"
   ]
  },
  {
   "cell_type": "code",
   "execution_count": 12,
   "metadata": {},
   "outputs": [],
   "source": [
    "from scipy.stats import uniform"
   ]
  },
  {
   "cell_type": "code",
   "execution_count": 13,
   "metadata": {},
   "outputs": [],
   "source": [
    "np.random.seed(42)\n",
    "train_set = []\n",
    "for j in range(1000):\n",
    "    samples = uniform.rvs(loc=0, scale=1, size=len(lam_min_high_dim))\n",
    "    train_set.append(samples * (lam_max_high_dim - lam_min_high_dim) + lam_min_high_dim)"
   ]
  },
  {
   "cell_type": "code",
   "execution_count": 14,
   "metadata": {},
   "outputs": [
    {
     "data": {
      "text/plain": [
       "array([ 0.4996321 ,  0.95071431,  0.92797577,  0.39463394, -1.37592544,\n",
       "       -1.37602192, -1.76766555,  1.46470458,  0.40446005,  0.83229031,\n",
       "       -1.91766202,  1.87963941])"
      ]
     },
     "execution_count": 14,
     "metadata": {},
     "output_type": "execute_result"
    }
   ],
   "source": [
    "train_set[0]"
   ]
  },
  {
   "cell_type": "code",
   "execution_count": 15,
   "metadata": {},
   "outputs": [],
   "source": [
    "np.random.seed(88)\n",
    "val_set = []\n",
    "for j in range(1000):\n",
    "    samples = uniform.rvs(loc=0, scale=1, size=len(lam_min_high_dim))\n",
    "    val_set.append(samples * (lam_max_high_dim - lam_min_high_dim) + lam_min_high_dim)"
   ]
  },
  {
   "cell_type": "code",
   "execution_count": 16,
   "metadata": {},
   "outputs": [],
   "source": [
    "# Define the objective function\n",
    "def objective(theta, Sigma, mu, const, hyper_params):\n",
    "    # print(Sigma, mu, const, hyper_params)\n",
    "    quadratic_term = hyper_params[0] * (theta.T @ Sigma @ theta)\n",
    "    linear_term = -hyper_params[1] * (mu.T @ theta)\n",
    "    # regularizer = np.sum(np.sqrt(theta**2 + const**2) - const)\n",
    "    regularizer = np.sum((theta - hyper_params[2:])**2)\n",
    "    \n",
    "    return quadratic_term + linear_term + regularizer\n",
    "\n",
    "# Define the equality constraint: sum(theta) = 1\n",
    "def constraint(theta):\n",
    "    return np.sum(theta) - 1"
   ]
  },
  {
   "cell_type": "code",
   "execution_count": 17,
   "metadata": {},
   "outputs": [],
   "source": [
    "const = .01\n",
    "\n",
    "# Initial guess for theta\n",
    "initial_theta = np.zeros(input_dim)\n",
    "\n",
    "cov = decomp_cov_np.T @ decomp_cov_np\n",
    "\n",
    "# Define the constraint in a dictionary format for the 'minimize' function\n",
    "# cons = {'type': 'eq', 'fun': constraint}"
   ]
  },
  {
   "cell_type": "code",
   "execution_count": 18,
   "metadata": {},
   "outputs": [
    {
     "data": {
      "text/plain": [
       "array([[ 14.88694787,  17.96342851,  15.62749789,  18.15608029,\n",
       "         12.8475343 ,  13.45480821,  12.39359279,  10.4856145 ,\n",
       "         10.77197552,  15.05393296],\n",
       "       [ 17.96342851, 114.30831417,  32.4917756 ,  36.40362025,\n",
       "         40.72530978,  22.52463238,  35.4337486 ,  21.24320714,\n",
       "         11.91429053,  35.77522809],\n",
       "       [ 15.62749789,  32.4917756 ,  25.62290251,  28.33939666,\n",
       "         21.19279383,  18.61550578,  19.31985585,  16.13689191,\n",
       "         12.23087011,  24.51854274],\n",
       "       [ 18.15608029,  36.40362025,  28.33939666,  77.09328733,\n",
       "         19.46612271,  24.41378517,  18.68226607,  16.41267805,\n",
       "         13.30689891,  31.76519195],\n",
       "       [ 12.8475343 ,  40.72530978,  21.19279383,  19.46612271,\n",
       "         29.886921  ,  16.34515817,  22.70028218,  16.1628709 ,\n",
       "         10.16682333,  21.53193377],\n",
       "       [ 13.45480821,  22.52463238,  18.61550578,  24.41378517,\n",
       "         16.34515817,  23.72400703,  15.24448859,  12.99003046,\n",
       "          9.9165135 ,  19.83319497],\n",
       "       [ 12.39359279,  35.4337486 ,  19.31985585,  18.68226607,\n",
       "         22.70028218,  15.24448859,  23.43943092,  15.3904625 ,\n",
       "          9.87789762,  19.72592672],\n",
       "       [ 10.4856145 ,  21.24320714,  16.13689191,  16.41267805,\n",
       "         16.1628709 ,  12.99003046,  15.3904625 ,  18.90946649,\n",
       "          7.77033403,  16.21119023],\n",
       "       [ 10.77197552,  11.91429053,  12.23087011,  13.30689891,\n",
       "         10.16682333,   9.9165135 ,   9.87789762,   7.77033403,\n",
       "         17.70075922,  10.658544  ],\n",
       "       [ 15.05393296,  35.77522809,  24.51854274,  31.76519195,\n",
       "         21.53193377,  19.83319497,  19.72592672,  16.21119023,\n",
       "         10.658544  ,  27.91985344]])"
      ]
     },
     "execution_count": 18,
     "metadata": {},
     "output_type": "execute_result"
    }
   ],
   "source": [
    "cov"
   ]
  },
  {
   "cell_type": "code",
   "execution_count": 19,
   "metadata": {},
   "outputs": [
    {
     "data": {
      "text/plain": [
       "EigResult(eigenvalues=array([236.68923798,  61.45897145,  33.43222483,  12.1784997 ,\n",
       "         8.94740675,   1.81553943,   3.34613198,   3.58231072,\n",
       "         6.56783868,   5.47372845]), eigenvectors=array([[ 0.18519845, -0.13262567,  0.23054935,  0.27880374,  0.13515215,\n",
       "        -0.20641795,  0.51652365, -0.67739051, -0.13116235,  0.11616721],\n",
       "       [ 0.58523094,  0.67236705, -0.38324527,  0.16267429,  0.1094294 ,\n",
       "         0.01773662,  0.03351783,  0.01432152, -0.10964003, -0.08030304],\n",
       "       [ 0.29310401, -0.12746647,  0.22019026, -0.00861423,  0.07398746,\n",
       "         0.74227726,  0.00150766,  0.0854623 , -0.16606627,  0.50788839],\n",
       "       [ 0.40476037, -0.65273657, -0.59024754, -0.03076027, -0.20049573,\n",
       "         0.02188337,  0.02510892, -0.03568027,  0.06723045, -0.1168964 ],\n",
       "       [ 0.29801838,  0.10822257,  0.29308921, -0.25865215, -0.39263761,\n",
       "        -0.07142364,  0.44258068,  0.22801069,  0.58159914,  0.03579076],\n",
       "       [ 0.23551478, -0.18531653,  0.23774224, -0.05359831,  0.7336161 ,\n",
       "         0.09282402, -0.04041008,  0.11279884,  0.29120312, -0.4525834 ],\n",
       "       [ 0.26841155,  0.06018533,  0.27106206, -0.16497761, -0.27703433,\n",
       "         0.03876054, -0.64769239, -0.52985331,  0.16766052, -0.1305002 ],\n",
       "       [ 0.2015312 , -0.0645635 ,  0.30173848, -0.32265146, -0.21386138,\n",
       "        -0.03718315,  0.14362322,  0.17368786, -0.68621941, -0.43732734],\n",
       "       [ 0.14080952, -0.13036295,  0.28336413,  0.81839889, -0.24987792,\n",
       "        -0.06511795, -0.166903  ,  0.31412295,  0.00910297, -0.14076286],\n",
       "       [ 0.31096027, -0.13107515,  0.1259187 , -0.15463865,  0.21634663,\n",
       "        -0.62030612, -0.25680116,  0.24096147, -0.12857201,  0.52366861]]))"
      ]
     },
     "execution_count": 19,
     "metadata": {},
     "output_type": "execute_result"
    }
   ],
   "source": [
    "np.linalg.eig(cov)"
   ]
  },
  {
   "cell_type": "code",
   "execution_count": 21,
   "metadata": {},
   "outputs": [
    {
     "name": "stdout",
     "output_type": "stream",
     "text": [
      "first 0 results found\n",
      "first 100 results found\n",
      "first 200 results found\n",
      "first 300 results found\n",
      "first 400 results found\n",
      "first 500 results found\n",
      "first 600 results found\n",
      "first 700 results found\n",
      "first 800 results found\n",
      "first 900 results found\n",
      "validation set loss = 10.414102515751397\n"
     ]
    }
   ],
   "source": [
    "weights = []\n",
    "out = 0.0\n",
    "losses = []\n",
    "for i in range(len(val_set)):\n",
    "    hyper_params = val_set[i]\n",
    "    # Run the optimization using 'trust-constr' method\n",
    "    result = minimize(\n",
    "        fun=objective,  # Objective function\n",
    "        x0=initial_theta,  # Initial guess for theta\n",
    "        args=(cov, mean_np, const, hyper_params),  # Arguments passed to the objective function\n",
    "        method='trust-constr',  # Trust-region optimization method\n",
    "        # constraints=cons  # Constraints\n",
    "    )\n",
    "    if i % 100 == 0:\n",
    "        print(f\"first {i} results found\")\n",
    "    weights.append(result.x)\n",
    "    out += result.fun\n",
    "    losses.append(result.fun)\n",
    "print(f'validation set loss = {out/len(val_set)}')"
   ]
  },
  {
   "cell_type": "code",
   "execution_count": 18,
   "metadata": {},
   "outputs": [
    {
     "name": "stdout",
     "output_type": "stream",
     "text": [
      "first 0 results found\n",
      "first 100 results found\n",
      "first 200 results found\n",
      "first 300 results found\n",
      "first 400 results found\n",
      "first 500 results found\n",
      "first 600 results found\n"
     ]
    },
    {
     "name": "stderr",
     "output_type": "stream",
     "text": [
      "c:\\Users\\dongq\\AppData\\Local\\Programs\\Python\\Python312\\Lib\\site-packages\\scipy\\optimize\\_differentiable_functions.py:316: UserWarning: delta_grad == 0.0. Check if the approximated function is linear. If the function is linear better results can be obtained by defining the Hessian as zero instead of using quasi-Newton approximations.\n",
      "  self.H.update(self.x - self.x_prev, self.g - self.g_prev)\n"
     ]
    },
    {
     "name": "stdout",
     "output_type": "stream",
     "text": [
      "first 700 results found\n",
      "first 800 results found\n",
      "first 900 results found\n",
      "training set loss = 10.428659738259746\n"
     ]
    }
   ],
   "source": [
    "# weights = []\n",
    "out = 0.0\n",
    "for i in range(len(train_set)):\n",
    "    hyper_params = train_set[i]\n",
    "    # Run the optimization using 'trust-constr' method\n",
    "    result = minimize(\n",
    "        fun=objective,  # Objective function\n",
    "        x0=initial_theta,  # Initial guess for theta\n",
    "        args=(cov, mean_np, const, hyper_params),  # Arguments passed to the objective function\n",
    "        method='trust-constr',  # Trust-region optimization method\n",
    "        # constraints=cons  # Constraints\n",
    "    )\n",
    "    if i % 100 == 0:\n",
    "        print(f\"first {i} results found\")\n",
    "    # weights.append(result.x)\n",
    "    out += result.fun\n",
    "print(f'training set loss = {out/len(train_set)}')"
   ]
  }
 ],
 "metadata": {
  "accelerator": "GPU",
  "colab": {
   "authorship_tag": "ABX9TyMl9Rb3IlXp0pED9i432jVq",
   "gpuType": "T4",
   "provenance": []
  },
  "kernelspec": {
   "display_name": ".conda",
   "language": "python",
   "name": "python3"
  },
  "language_info": {
   "codemirror_mode": {
    "name": "ipython",
    "version": 3
   },
   "file_extension": ".py",
   "mimetype": "text/x-python",
   "name": "python",
   "nbconvert_exporter": "python",
   "pygments_lexer": "ipython3",
   "version": "3.12.8"
  }
 },
 "nbformat": 4,
 "nbformat_minor": 0
}
