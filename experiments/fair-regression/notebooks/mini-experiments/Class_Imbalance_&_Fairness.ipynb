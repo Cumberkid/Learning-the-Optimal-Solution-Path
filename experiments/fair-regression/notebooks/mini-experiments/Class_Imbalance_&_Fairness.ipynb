{
  "nbformat": 4,
  "nbformat_minor": 0,
  "metadata": {
    "colab": {
      "provenance": [],
      "authorship_tag": "ABX9TyMeuiZJSebK9kRkAS/lEMC+",
      "include_colab_link": true
    },
    "kernelspec": {
      "name": "python3",
      "display_name": "Python 3"
    },
    "language_info": {
      "name": "python"
    }
  },
  "cells": [
    {
      "cell_type": "markdown",
      "metadata": {
        "id": "view-in-github",
        "colab_type": "text"
      },
      "source": [
        "<a href=\"https://colab.research.google.com/github/Cumberkid/Learning-the-Optimal-Solution-Path/blob/main/experiments/fair-regression/mini-experiments/Class_Imbalance_%26_Fairness.ipynb\" target=\"_parent\"><img src=\"https://colab.research.google.com/assets/colab-badge.svg\" alt=\"Open In Colab\"/></a>"
      ]
    },
    {
      "cell_type": "code",
      "source": [
        "import numpy as np\n",
        "import pandas as pd"
      ],
      "metadata": {
        "id": "dzS9OvjRi7xZ"
      },
      "execution_count": null,
      "outputs": []
    },
    {
      "cell_type": "code",
      "source": [
        "from sklearn.metrics import accuracy_score\n",
        "from sklearn.linear_model import LogisticRegression"
      ],
      "metadata": {
        "id": "wn_vWbxljez_"
      },
      "execution_count": null,
      "outputs": []
    },
    {
      "cell_type": "markdown",
      "source": [
        "# Bar Passage"
      ],
      "metadata": {
        "id": "gocJGf8CkIZk"
      }
    },
    {
      "cell_type": "code",
      "source": [
        "from google.colab import drive\n",
        "drive.mount('/content/drive')"
      ],
      "metadata": {
        "colab": {
          "base_uri": "https://localhost:8080/"
        },
        "id": "anwagvUBj11o",
        "outputId": "6859dff5-6a12-4836-a3d1-e6239e3ac142"
      },
      "execution_count": null,
      "outputs": [
        {
          "output_type": "stream",
          "name": "stdout",
          "text": [
            "Mounted at /content/drive\n"
          ]
        }
      ]
    },
    {
      "cell_type": "code",
      "execution_count": null,
      "metadata": {
        "id": "q-Tf-g5CK_Gt",
        "outputId": "a2fb0c45-cf57-488f-c2f7-5384f46d4604",
        "colab": {
          "base_uri": "https://localhost:8080/"
        }
      },
      "outputs": [
        {
          "output_type": "stream",
          "name": "stdout",
          "text": [
            "<class 'pandas.core.frame.DataFrame'>\n",
            "RangeIndex: 22407 entries, 0 to 22406\n",
            "Data columns (total 39 columns):\n",
            " #   Column                   Non-Null Count  Dtype  \n",
            "---  ------                   --------------  -----  \n",
            " 0   decile1b                 20803 non-null  float64\n",
            " 1   decile3                  20803 non-null  float64\n",
            " 2   ID                       22407 non-null  int64  \n",
            " 3   decile1                  21315 non-null  float64\n",
            " 4   sex                      22402 non-null  float64\n",
            " 5   race                     22391 non-null  float64\n",
            " 6   cluster                  22311 non-null  float64\n",
            " 7   lsat                     22407 non-null  float64\n",
            " 8   ugpa                     22407 non-null  float64\n",
            " 9   zfygpa                   21423 non-null  float64\n",
            " 10  DOB_yr                   22357 non-null  float64\n",
            " 11  grad                     22404 non-null  object \n",
            " 12  zgpa                     21118 non-null  float64\n",
            " 13  bar1                     22407 non-null  object \n",
            " 14  bar1_yr                  22368 non-null  float64\n",
            " 15  bar2                     22407 non-null  object \n",
            " 16  bar2_yr                  22367 non-null  float64\n",
            " 17  fulltime                 22373 non-null  float64\n",
            " 18  fam_inc                  22118 non-null  float64\n",
            " 19  age                      22318 non-null  float64\n",
            " 20  gender                   22402 non-null  object \n",
            " 21  parttime                 22373 non-null  float64\n",
            " 22  male                     22402 non-null  float64\n",
            " 23  race1                    22391 non-null  object \n",
            " 24  race2                    22391 non-null  object \n",
            " 25  Dropout                  22407 non-null  object \n",
            " 26  other                    22407 non-null  int64  \n",
            " 27  asian                    22407 non-null  int64  \n",
            " 28  black                    22407 non-null  int64  \n",
            " 29  hisp                     22407 non-null  int64  \n",
            " 30  pass_bar                 22407 non-null  int64  \n",
            " 31  bar                      22407 non-null  object \n",
            " 32  bar_passed               22407 non-null  bool   \n",
            " 33  tier                     22311 non-null  float64\n",
            " 34  index6040                22407 non-null  float64\n",
            " 35  indxgrp                  22407 non-null  object \n",
            " 36  indxgrp2                 22407 non-null  object \n",
            " 37  dnn_bar_pass_prediction  22407 non-null  float64\n",
            " 38  gpa                      22407 non-null  float64\n",
            "dtypes: bool(1), float64(22), int64(6), object(10)\n",
            "memory usage: 6.5+ MB\n"
          ]
        }
      ],
      "source": [
        "df = pd.read_csv('/content/drive/MyDrive/Experiments/bar_pass_prediction.csv')\n",
        "df.info()"
      ]
    },
    {
      "cell_type": "code",
      "source": [
        "print(\"Feature Names:\", \", \".join(df.columns))"
      ],
      "metadata": {
        "colab": {
          "base_uri": "https://localhost:8080/"
        },
        "id": "nuwGqivRrs1W",
        "outputId": "9b2210bf-6275-46cc-cdaa-e5f77048e188"
      },
      "execution_count": null,
      "outputs": [
        {
          "output_type": "stream",
          "name": "stdout",
          "text": [
            "Feature Names: decile1b, decile3, ID, decile1, sex, race, cluster, lsat, ugpa, zfygpa, DOB_yr, grad, zgpa, bar1, bar1_yr, bar2, bar2_yr, fulltime, fam_inc, age, gender, parttime, male, race1, race2, Dropout, other, asian, black, hisp, pass_bar, bar, bar_passed, tier, index6040, indxgrp, indxgrp2, dnn_bar_pass_prediction, gpa\n"
          ]
        }
      ]
    },
    {
      "cell_type": "code",
      "source": [
        "df = df.dropna()\n",
        "len(df)"
      ],
      "metadata": {
        "colab": {
          "base_uri": "https://localhost:8080/"
        },
        "id": "KfRxe_ooyweT",
        "outputId": "61256bb5-bb08-4eba-8a7a-8f7055e69b98"
      },
      "execution_count": null,
      "outputs": [
        {
          "output_type": "execute_result",
          "data": {
            "text/plain": [
              "20427"
            ]
          },
          "metadata": {},
          "execution_count": 70
        }
      ]
    },
    {
      "cell_type": "code",
      "source": [
        "from sklearn.preprocessing import OneHotEncoder\n",
        "\n",
        "# Assuming 'categorical_column' is a column that you want to one-hot encode\n",
        "# Replace 'categorical_column' with the actual name of the categorical column\n",
        "categorical_column = ['grad', 'gender', 'race1', 'race2', 'Dropout', 'indxgrp', 'indxgrp2']\n",
        "\n",
        "# Create a DataFrame with the categorical column\n",
        "categorical_df = df[categorical_column]\n",
        "\n",
        "# Initialize the OneHotEncoder\n",
        "encoder = OneHotEncoder(sparse_output=False, drop='first')\n",
        "\n",
        "# Fit and transform the categorical column\n",
        "one_hot_encoded = encoder.fit_transform(categorical_df)\n",
        "\n",
        "# Convert the one-hot encoded result to a DataFrame\n",
        "one_hot_encoded_df = pd.DataFrame(one_hot_encoded, columns=encoder.get_feature_names_out(categorical_column))\n",
        "\n",
        "\n",
        "# Concatenate the one-hot encoded DataFrame with the original DataFrame, dropping the original categorical column\n",
        "df_encoded = pd.concat([df.drop(columns=categorical_column), one_hot_encoded_df], axis=1)\n",
        "\n",
        "df_encoded = df_encoded.dropna()\n",
        "\n",
        "print(df_encoded.head())\n"
      ],
      "metadata": {
        "colab": {
          "base_uri": "https://localhost:8080/"
        },
        "id": "SDU0mhmQyfrW",
        "outputId": "962d0a8e-2b44-4dd4-e8d0-d148e554f3b6"
      },
      "execution_count": null,
      "outputs": [
        {
          "output_type": "stream",
          "name": "stdout",
          "text": [
            "   decile1b  decile3    ID  decile1  sex  race  cluster  lsat  ugpa  zfygpa  \\\n",
            "0      10.0     10.0   2.0     10.0  1.0   7.0      1.0  44.0   3.5    1.33   \n",
            "1       5.0      4.0   3.0      5.0  1.0   7.0      2.0  29.0   3.5   -0.11   \n",
            "2       3.0      2.0  36.0      3.0  2.0   7.0      3.0  36.0   3.5   -0.64   \n",
            "3       7.0      4.0  52.0      7.0  2.0   7.0      3.0  39.0   3.5    0.34   \n",
            "4       9.0      8.0  55.0      9.0  2.0   7.0      4.0  48.0   3.5    1.02   \n",
            "\n",
            "   ...  indxgrp_f 640-700  indxgrp_g 700+ indxgrp2_b 400-460  \\\n",
            "0  ...                0.0             1.0                0.0   \n",
            "1  ...                1.0             0.0                0.0   \n",
            "2  ...                0.0             1.0                0.0   \n",
            "3  ...                0.0             1.0                0.0   \n",
            "4  ...                0.0             1.0                0.0   \n",
            "\n",
            "   indxgrp2_c 460-520 indxgrp2_d 520-580  indxgrp2_e 580-640  \\\n",
            "0                 0.0                0.0                 0.0   \n",
            "1                 0.0                0.0                 0.0   \n",
            "2                 0.0                0.0                 0.0   \n",
            "3                 0.0                0.0                 0.0   \n",
            "4                 0.0                0.0                 0.0   \n",
            "\n",
            "   indxgrp2_f 640-700  indxgrp2_g 700-760  indxgrp2_h 760-820  indxgrp2_i 820+  \n",
            "0                 0.0                 0.0                 0.0              1.0  \n",
            "1                 1.0                 0.0                 0.0              0.0  \n",
            "2                 0.0                 0.0                 1.0              0.0  \n",
            "3                 0.0                 0.0                 1.0              0.0  \n",
            "4                 0.0                 0.0                 0.0              1.0  \n",
            "\n",
            "[5 rows x 53 columns]\n"
          ]
        }
      ]
    },
    {
      "cell_type": "code",
      "source": [
        "len(df_encoded)"
      ],
      "metadata": {
        "colab": {
          "base_uri": "https://localhost:8080/"
        },
        "id": "kVmXjtwJ5iHO",
        "outputId": "05b849e7-6fbb-43d1-9f75-08ee8fd63563"
      },
      "execution_count": null,
      "outputs": [
        {
          "output_type": "execute_result",
          "data": {
            "text/plain": [
              "18668"
            ]
          },
          "metadata": {},
          "execution_count": 72
        }
      ]
    },
    {
      "cell_type": "code",
      "source": [
        "print(\"Feature Names:\", \", \".join(df_encoded.columns))"
      ],
      "metadata": {
        "colab": {
          "base_uri": "https://localhost:8080/"
        },
        "id": "lG51dz2r1Nkc",
        "outputId": "516b6591-4db5-4045-8b54-9e2ba569731d"
      },
      "execution_count": null,
      "outputs": [
        {
          "output_type": "stream",
          "name": "stdout",
          "text": [
            "Feature Names: decile1b, decile3, ID, decile1, sex, race, cluster, lsat, ugpa, zfygpa, DOB_yr, zgpa, bar1, bar1_yr, bar2, bar2_yr, fulltime, fam_inc, age, parttime, male, other, asian, black, hisp, pass_bar, bar, bar_passed, tier, index6040, dnn_bar_pass_prediction, gpa, gender_male, race1_black, race1_hisp, race1_other, race1_white, race2_b white, race2_c other, indxgrp_b 400-460, indxgrp_c 460-520, indxgrp_d 520-580, indxgrp_e 580-640, indxgrp_f 640-700, indxgrp_g 700+, indxgrp2_b 400-460, indxgrp2_c 460-520, indxgrp2_d 520-580, indxgrp2_e 580-640, indxgrp2_f 640-700, indxgrp2_g 700-760, indxgrp2_h 760-820, indxgrp2_i 820+\n"
          ]
        }
      ]
    },
    {
      "cell_type": "code",
      "source": [
        "# Choose the features to be used\n",
        "cols = ['decile1b', 'decile3', 'ID', 'decile1', 'sex', 'race', 'cluster', 'lsat',\n",
        "        'ugpa', 'zfygpa', 'DOB_yr', 'zgpa', 'fulltime', 'fam_inc', 'age', 'parttime',\n",
        "        'male', 'other', 'asian', 'black', 'hisp', 'tier', 'index6040', 'gpa',\n",
        "        'gender_male', 'race1_black', 'race1_hisp', 'race1_other', 'race1_white',\n",
        "        'race2_b white', 'race2_c other', 'indxgrp_b 400-460', 'indxgrp_c 460-520',\n",
        "        'indxgrp_d 520-580', 'indxgrp_e 580-640', 'indxgrp_f 640-700', 'indxgrp_g 700+',\n",
        "        'indxgrp2_b 400-460', 'indxgrp2_c 460-520', 'indxgrp2_d 520-580', 'indxgrp2_e 580-640',\n",
        "        'indxgrp2_f 640-700', 'indxgrp2_g 700-760', 'indxgrp2_h 760-820', 'indxgrp2_i 820+']"
      ],
      "metadata": {
        "id": "Nai3pKDP8aQ2"
      },
      "execution_count": null,
      "outputs": []
    },
    {
      "cell_type": "markdown",
      "source": [
        "## no sub-sampling"
      ],
      "metadata": {
        "id": "5oG164Hq8UFq"
      }
    },
    {
      "cell_type": "code",
      "source": [
        "X = df_encoded[cols]\n",
        "y = df_encoded['pass_bar']"
      ],
      "metadata": {
        "id": "tfTz4Xfq1JBV"
      },
      "execution_count": null,
      "outputs": []
    },
    {
      "cell_type": "code",
      "source": [
        "# preprocess data\n",
        "from sklearn.preprocessing import StandardScaler\n",
        "\n",
        "scaler = StandardScaler()\n",
        "# scaler = RobustScaler()\n",
        "scaler.fit(X)\n",
        "X_encoded = scaler.transform(X)\n",
        "\n",
        "model = LogisticRegression(solver='lbfgs', max_iter=10000)\n",
        "\n",
        "# Fit the model\n",
        "model.fit(X, y)"
      ],
      "metadata": {
        "colab": {
          "base_uri": "https://localhost:8080/",
          "height": 75
        },
        "id": "xz7xWKyGq46_",
        "outputId": "79037b4c-96ad-400a-9aea-5d68f0be09dd"
      },
      "execution_count": null,
      "outputs": [
        {
          "output_type": "execute_result",
          "data": {
            "text/plain": [
              "LogisticRegression(max_iter=10000)"
            ],
            "text/html": [
              "<style>#sk-container-id-6 {color: black;background-color: white;}#sk-container-id-6 pre{padding: 0;}#sk-container-id-6 div.sk-toggleable {background-color: white;}#sk-container-id-6 label.sk-toggleable__label {cursor: pointer;display: block;width: 100%;margin-bottom: 0;padding: 0.3em;box-sizing: border-box;text-align: center;}#sk-container-id-6 label.sk-toggleable__label-arrow:before {content: \"▸\";float: left;margin-right: 0.25em;color: #696969;}#sk-container-id-6 label.sk-toggleable__label-arrow:hover:before {color: black;}#sk-container-id-6 div.sk-estimator:hover label.sk-toggleable__label-arrow:before {color: black;}#sk-container-id-6 div.sk-toggleable__content {max-height: 0;max-width: 0;overflow: hidden;text-align: left;background-color: #f0f8ff;}#sk-container-id-6 div.sk-toggleable__content pre {margin: 0.2em;color: black;border-radius: 0.25em;background-color: #f0f8ff;}#sk-container-id-6 input.sk-toggleable__control:checked~div.sk-toggleable__content {max-height: 200px;max-width: 100%;overflow: auto;}#sk-container-id-6 input.sk-toggleable__control:checked~label.sk-toggleable__label-arrow:before {content: \"▾\";}#sk-container-id-6 div.sk-estimator input.sk-toggleable__control:checked~label.sk-toggleable__label {background-color: #d4ebff;}#sk-container-id-6 div.sk-label input.sk-toggleable__control:checked~label.sk-toggleable__label {background-color: #d4ebff;}#sk-container-id-6 input.sk-hidden--visually {border: 0;clip: rect(1px 1px 1px 1px);clip: rect(1px, 1px, 1px, 1px);height: 1px;margin: -1px;overflow: hidden;padding: 0;position: absolute;width: 1px;}#sk-container-id-6 div.sk-estimator {font-family: monospace;background-color: #f0f8ff;border: 1px dotted black;border-radius: 0.25em;box-sizing: border-box;margin-bottom: 0.5em;}#sk-container-id-6 div.sk-estimator:hover {background-color: #d4ebff;}#sk-container-id-6 div.sk-parallel-item::after {content: \"\";width: 100%;border-bottom: 1px solid gray;flex-grow: 1;}#sk-container-id-6 div.sk-label:hover label.sk-toggleable__label {background-color: #d4ebff;}#sk-container-id-6 div.sk-serial::before {content: \"\";position: absolute;border-left: 1px solid gray;box-sizing: border-box;top: 0;bottom: 0;left: 50%;z-index: 0;}#sk-container-id-6 div.sk-serial {display: flex;flex-direction: column;align-items: center;background-color: white;padding-right: 0.2em;padding-left: 0.2em;position: relative;}#sk-container-id-6 div.sk-item {position: relative;z-index: 1;}#sk-container-id-6 div.sk-parallel {display: flex;align-items: stretch;justify-content: center;background-color: white;position: relative;}#sk-container-id-6 div.sk-item::before, #sk-container-id-6 div.sk-parallel-item::before {content: \"\";position: absolute;border-left: 1px solid gray;box-sizing: border-box;top: 0;bottom: 0;left: 50%;z-index: -1;}#sk-container-id-6 div.sk-parallel-item {display: flex;flex-direction: column;z-index: 1;position: relative;background-color: white;}#sk-container-id-6 div.sk-parallel-item:first-child::after {align-self: flex-end;width: 50%;}#sk-container-id-6 div.sk-parallel-item:last-child::after {align-self: flex-start;width: 50%;}#sk-container-id-6 div.sk-parallel-item:only-child::after {width: 0;}#sk-container-id-6 div.sk-dashed-wrapped {border: 1px dashed gray;margin: 0 0.4em 0.5em 0.4em;box-sizing: border-box;padding-bottom: 0.4em;background-color: white;}#sk-container-id-6 div.sk-label label {font-family: monospace;font-weight: bold;display: inline-block;line-height: 1.2em;}#sk-container-id-6 div.sk-label-container {text-align: center;}#sk-container-id-6 div.sk-container {/* jupyter's `normalize.less` sets `[hidden] { display: none; }` but bootstrap.min.css set `[hidden] { display: none !important; }` so we also need the `!important` here to be able to override the default hidden behavior on the sphinx rendered scikit-learn.org. See: https://github.com/scikit-learn/scikit-learn/issues/21755 */display: inline-block !important;position: relative;}#sk-container-id-6 div.sk-text-repr-fallback {display: none;}</style><div id=\"sk-container-id-6\" class=\"sk-top-container\"><div class=\"sk-text-repr-fallback\"><pre>LogisticRegression(max_iter=10000)</pre><b>In a Jupyter environment, please rerun this cell to show the HTML representation or trust the notebook. <br />On GitHub, the HTML representation is unable to render, please try loading this page with nbviewer.org.</b></div><div class=\"sk-container\" hidden><div class=\"sk-item\"><div class=\"sk-estimator sk-toggleable\"><input class=\"sk-toggleable__control sk-hidden--visually\" id=\"sk-estimator-id-24\" type=\"checkbox\" checked><label for=\"sk-estimator-id-24\" class=\"sk-toggleable__label sk-toggleable__label-arrow\">LogisticRegression</label><div class=\"sk-toggleable__content\"><pre>LogisticRegression(max_iter=10000)</pre></div></div></div></div></div>"
            ]
          },
          "metadata": {},
          "execution_count": 52
        }
      ]
    },
    {
      "cell_type": "code",
      "source": [
        "df_white = df_encoded[df_encoded['race'] == 7]\n",
        "df_other = df_encoded[df_encoded['race'] != 7]\n",
        "\n",
        "len(df_white), len(df_other)"
      ],
      "metadata": {
        "colab": {
          "base_uri": "https://localhost:8080/"
        },
        "id": "uhQKn2iR2Xj_",
        "outputId": "45a6906b-c0bb-4a2b-9076-cd22d243c780"
      },
      "execution_count": null,
      "outputs": [
        {
          "output_type": "execute_result",
          "data": {
            "text/plain": [
              "(15755, 2913)"
            ]
          },
          "metadata": {},
          "execution_count": 54
        }
      ]
    },
    {
      "cell_type": "code",
      "source": [
        "X_white = df_white[cols]\n",
        "y_white = df_white['pass_bar']"
      ],
      "metadata": {
        "id": "XaqGmK4zuuw3"
      },
      "execution_count": null,
      "outputs": []
    },
    {
      "cell_type": "code",
      "source": [
        "accuracy_score(y_white, model.predict(X_white))"
      ],
      "metadata": {
        "colab": {
          "base_uri": "https://localhost:8080/"
        },
        "id": "1zSPAjBWuaqj",
        "outputId": "04342752-669b-4058-aaea-96f9935a2fa5"
      },
      "execution_count": null,
      "outputs": [
        {
          "output_type": "execute_result",
          "data": {
            "text/plain": [
              "0.9677562678514757"
            ]
          },
          "metadata": {},
          "execution_count": 56
        }
      ]
    },
    {
      "cell_type": "code",
      "source": [
        "X_other = df_other[cols]\n",
        "y_other = df_other['pass_bar']"
      ],
      "metadata": {
        "id": "7RMlVW-Du21e"
      },
      "execution_count": null,
      "outputs": []
    },
    {
      "cell_type": "code",
      "source": [
        "accuracy_score(y_other, model.predict(X_other))"
      ],
      "metadata": {
        "colab": {
          "base_uri": "https://localhost:8080/"
        },
        "id": "DqajdNSIu9bE",
        "outputId": "3ac9577a-fbcc-4f3c-f521-58ca7d95538f"
      },
      "execution_count": null,
      "outputs": [
        {
          "output_type": "execute_result",
          "data": {
            "text/plain": [
              "0.870236869207003"
            ]
          },
          "metadata": {},
          "execution_count": 58
        }
      ]
    },
    {
      "cell_type": "code",
      "source": [
        "from sklearn.metrics import confusion_matrix\n",
        "?confusion_matrix"
      ],
      "metadata": {
        "id": "PF_kL0yQvLA7"
      },
      "execution_count": null,
      "outputs": []
    },
    {
      "cell_type": "code",
      "source": [
        "df_pass = df_encoded[df_encoded['pass_bar'] == 1]\n",
        "df_fail = df_encoded[df_encoded['pass_bar'] == 0]\n",
        "\n",
        "len(df_pass), len(df_fail)"
      ],
      "metadata": {
        "colab": {
          "base_uri": "https://localhost:8080/"
        },
        "id": "s1BGNQ-827YF",
        "outputId": "8369a3cc-99ef-40fc-9343-f2b3ce17d1d5"
      },
      "execution_count": null,
      "outputs": [
        {
          "output_type": "execute_result",
          "data": {
            "text/plain": [
              "(17774, 894)"
            ]
          },
          "metadata": {},
          "execution_count": 64
        }
      ]
    },
    {
      "cell_type": "code",
      "source": [
        "cm_white = confusion_matrix(y_white, model.predict(X_white))\n",
        "cm_white"
      ],
      "metadata": {
        "colab": {
          "base_uri": "https://localhost:8080/"
        },
        "outputId": "3305c67e-dc50-471b-e6e2-88b35f3c9f3f",
        "id": "8wtDOHH8vLBC"
      },
      "execution_count": null,
      "outputs": [
        {
          "output_type": "execute_result",
          "data": {
            "text/plain": [
              "array([[    4,   506],\n",
              "       [    2, 15243]])"
            ]
          },
          "metadata": {},
          "execution_count": 60
        }
      ]
    },
    {
      "cell_type": "code",
      "source": [
        "TPR_white =  cm_white.ravel()[3] / (cm_white.ravel()[3] + cm_white.ravel()[2] )                               #TPR = TP / P = TP / (TP + FN)\n",
        "print('TPR is: %.4f' % TPR_white)\n",
        "\n",
        "FPR_white = cm_white.ravel()[1] / (cm_white.ravel()[1] + cm_white.ravel()[0] )                         #FPR = FP / N = FP / (FP + TN)\n",
        "print('FPR is: %.4f' % FPR_white)"
      ],
      "metadata": {
        "colab": {
          "base_uri": "https://localhost:8080/"
        },
        "outputId": "381629f4-0654-4d6d-e28b-0cc975b8f162",
        "id": "gy0P_rnpvLBD"
      },
      "execution_count": null,
      "outputs": [
        {
          "output_type": "stream",
          "name": "stdout",
          "text": [
            "TPR is: 0.9999\n",
            "FPR is: 0.9922\n"
          ]
        }
      ]
    },
    {
      "cell_type": "code",
      "source": [
        "cm_other = confusion_matrix(y_other, model.predict(X_other))\n",
        "cm_other"
      ],
      "metadata": {
        "colab": {
          "base_uri": "https://localhost:8080/"
        },
        "outputId": "00e2a909-34b1-4018-c5e0-2d11950481ab",
        "id": "Wch3aUIcvLBD"
      },
      "execution_count": null,
      "outputs": [
        {
          "output_type": "execute_result",
          "data": {
            "text/plain": [
              "array([[  28,  356],\n",
              "       [  22, 2507]])"
            ]
          },
          "metadata": {},
          "execution_count": 65
        }
      ]
    },
    {
      "cell_type": "code",
      "source": [
        "TPR_other =  cm_other.ravel()[3] / (cm_other.ravel()[3] + cm_other.ravel()[2] )                               #TPR = TP / P = TP / (TP + FN)\n",
        "print('TPR is: %.4f' % TPR_white)\n",
        "\n",
        "FPR_other = cm_other.ravel()[1] / (cm_other.ravel()[1] + cm_other.ravel()[0] )                         #FPR = FP / N = FP / (FP + TN)\n",
        "print('FPR is: %.4f' % FPR_white)"
      ],
      "metadata": {
        "colab": {
          "base_uri": "https://localhost:8080/"
        },
        "outputId": "a6675b46-25a9-4ad5-a91a-fe23060f926f",
        "id": "ejicdFNxvLBD"
      },
      "execution_count": null,
      "outputs": [
        {
          "output_type": "stream",
          "name": "stdout",
          "text": [
            "TPR is: 0.9999\n",
            "FPR is: 0.9922\n"
          ]
        }
      ]
    },
    {
      "cell_type": "markdown",
      "source": [
        "## sub-sampling"
      ],
      "metadata": {
        "id": "e7inqi3R8Hmm"
      }
    },
    {
      "cell_type": "markdown",
      "source": [
        "### no-bias sampling"
      ],
      "metadata": {
        "id": "CcjMannB9fBC"
      }
    },
    {
      "cell_type": "code",
      "source": [
        "sp = df_encoded.sample(n=1000, random_state=42)"
      ],
      "metadata": {
        "id": "zeVjcz708qJt"
      },
      "execution_count": null,
      "outputs": []
    },
    {
      "cell_type": "code",
      "source": [
        "sp_white = sp[sp['race'] == 7]\n",
        "sp_other = sp[sp['race'] != 7]\n",
        "\n",
        "len(sp_white), len(sp_other)"
      ],
      "metadata": {
        "colab": {
          "base_uri": "https://localhost:8080/"
        },
        "id": "KVAzT_PY86ma",
        "outputId": "ed3f2931-ab84-46f4-b036-89f725a1eb4b"
      },
      "execution_count": null,
      "outputs": [
        {
          "output_type": "execute_result",
          "data": {
            "text/plain": [
              "(848, 152)"
            ]
          },
          "metadata": {},
          "execution_count": 78
        }
      ]
    },
    {
      "cell_type": "code",
      "source": [
        "passed = sp[sp['pass_bar'] == 1]\n",
        "len(passed)"
      ],
      "metadata": {
        "colab": {
          "base_uri": "https://localhost:8080/"
        },
        "id": "oYqPFP-k9RlZ",
        "outputId": "c9a4c700-8587-4f85-e241-7e2ad771734e"
      },
      "execution_count": null,
      "outputs": [
        {
          "output_type": "execute_result",
          "data": {
            "text/plain": [
              "959"
            ]
          },
          "metadata": {},
          "execution_count": 80
        }
      ]
    },
    {
      "cell_type": "code",
      "source": [
        "X = sp[cols]\n",
        "y = sp['pass_bar']"
      ],
      "metadata": {
        "id": "RO9HIrYi9bB5"
      },
      "execution_count": null,
      "outputs": []
    },
    {
      "cell_type": "code",
      "execution_count": null,
      "metadata": {
        "id": "WRkKsLns9xM-"
      },
      "outputs": [],
      "source": [
        "# preprocess data\n",
        "from sklearn.preprocessing import StandardScaler, RobustScaler\n",
        "\n",
        "scaler = StandardScaler()\n",
        "# scaler = RobustScaler()\n",
        "scaler.fit(X)\n",
        "X = scaler.transform(X)"
      ]
    },
    {
      "cell_type": "code",
      "execution_count": null,
      "metadata": {
        "id": "2cIUGzLm9xNE"
      },
      "outputs": [],
      "source": [
        "clf = LogisticRegression(solver='lbfgs', max_iter=100).fit(X, y)"
      ]
    },
    {
      "cell_type": "code",
      "source": [
        "X_white = sp_white[cols]\n",
        "y_white = sp_white['pass_bar']\n",
        "X_other = sp_other[cols]\n",
        "y_other = sp_other['pass_bar']\n",
        "\n",
        "X_white.shape"
      ],
      "metadata": {
        "colab": {
          "base_uri": "https://localhost:8080/"
        },
        "outputId": "04516b6a-427c-4dc0-984b-b7f0a49e5e19",
        "id": "_k_rO6x99xNF"
      },
      "execution_count": null,
      "outputs": [
        {
          "output_type": "execute_result",
          "data": {
            "text/plain": [
              "(848, 45)"
            ]
          },
          "metadata": {},
          "execution_count": 84
        }
      ]
    },
    {
      "cell_type": "code",
      "execution_count": null,
      "metadata": {
        "colab": {
          "base_uri": "https://localhost:8080/"
        },
        "outputId": "98c49c6b-6de6-4a9d-a38f-c0cc1efc66ec",
        "id": "WzEeRYYS9xNF"
      },
      "outputs": [
        {
          "output_type": "stream",
          "name": "stderr",
          "text": [
            "/usr/local/lib/python3.10/dist-packages/sklearn/base.py:432: UserWarning: X has feature names, but LogisticRegression was fitted without feature names\n",
            "  warnings.warn(\n"
          ]
        },
        {
          "output_type": "execute_result",
          "data": {
            "text/plain": [
              "0.972877358490566"
            ]
          },
          "metadata": {},
          "execution_count": 85
        }
      ],
      "source": [
        "accuracy_score(y_white, clf.predict(X_white))"
      ]
    },
    {
      "cell_type": "code",
      "source": [
        "accuracy_score(y_other, clf.predict(X_other))"
      ],
      "metadata": {
        "colab": {
          "base_uri": "https://localhost:8080/"
        },
        "outputId": "dc8c0f97-1bd2-4b62-879d-88fb51903c36",
        "id": "Bt3MnnXx9xNF"
      },
      "execution_count": null,
      "outputs": [
        {
          "output_type": "stream",
          "name": "stderr",
          "text": [
            "/usr/local/lib/python3.10/dist-packages/sklearn/base.py:432: UserWarning: X has feature names, but LogisticRegression was fitted without feature names\n",
            "  warnings.warn(\n"
          ]
        },
        {
          "output_type": "execute_result",
          "data": {
            "text/plain": [
              "0.881578947368421"
            ]
          },
          "metadata": {},
          "execution_count": 86
        }
      ]
    },
    {
      "cell_type": "code",
      "source": [
        "from sklearn.metrics import confusion_matrix\n",
        "\n",
        "?confusion_matrix"
      ],
      "metadata": {
        "id": "yAJ2hoM59xNF"
      },
      "execution_count": null,
      "outputs": []
    },
    {
      "cell_type": "code",
      "source": [
        "cm_white = confusion_matrix(y_white, clf.predict(X_white))\n",
        "cm_white"
      ],
      "metadata": {
        "colab": {
          "base_uri": "https://localhost:8080/"
        },
        "outputId": "c0f9f694-82e6-406b-ebbe-f6e4b510e8f3",
        "id": "cFnAmXVC9xNF"
      },
      "execution_count": null,
      "outputs": [
        {
          "output_type": "stream",
          "name": "stderr",
          "text": [
            "/usr/local/lib/python3.10/dist-packages/sklearn/base.py:432: UserWarning: X has feature names, but LogisticRegression was fitted without feature names\n",
            "  warnings.warn(\n"
          ]
        },
        {
          "output_type": "execute_result",
          "data": {
            "text/plain": [
              "array([[  0,  23],\n",
              "       [  0, 825]])"
            ]
          },
          "metadata": {},
          "execution_count": 88
        }
      ]
    },
    {
      "cell_type": "code",
      "source": [
        "TPR_white =  cm_white.ravel()[3] / (cm_white.ravel()[3] + cm_white.ravel()[2] )                               #TPR = TP / P = TP / (TP + FN)\n",
        "print('TPR is: %.4f' % TPR_white)\n",
        "\n",
        "FPR_white = cm_white.ravel()[1] / (cm_white.ravel()[1] + cm_white.ravel()[0] )                         #FPR = FP / N = FP / (FP + TN)\n",
        "print('FPR is: %.4f' % FPR_white)"
      ],
      "metadata": {
        "colab": {
          "base_uri": "https://localhost:8080/"
        },
        "outputId": "a125354f-8118-4235-dbbe-d889e99bfb5b",
        "id": "CXlLbG0K9xNF"
      },
      "execution_count": null,
      "outputs": [
        {
          "output_type": "stream",
          "name": "stdout",
          "text": [
            "TPR is: 1.0000\n",
            "FPR is: 1.0000\n"
          ]
        }
      ]
    },
    {
      "cell_type": "code",
      "source": [
        "cm_other = confusion_matrix(y_other, clf.predict(X_other))\n",
        "cm_other"
      ],
      "metadata": {
        "colab": {
          "base_uri": "https://localhost:8080/"
        },
        "outputId": "350307a8-303b-4e15-a8b9-b0d6cf2dfd4b",
        "id": "Z74uvriW9xNG"
      },
      "execution_count": null,
      "outputs": [
        {
          "output_type": "stream",
          "name": "stderr",
          "text": [
            "/usr/local/lib/python3.10/dist-packages/sklearn/base.py:432: UserWarning: X has feature names, but LogisticRegression was fitted without feature names\n",
            "  warnings.warn(\n"
          ]
        },
        {
          "output_type": "execute_result",
          "data": {
            "text/plain": [
              "array([[  0,  18],\n",
              "       [  0, 134]])"
            ]
          },
          "metadata": {},
          "execution_count": 90
        }
      ]
    },
    {
      "cell_type": "code",
      "source": [
        "TPR_other =  cm_other.ravel()[3] / (cm_other.ravel()[3] + cm_other.ravel()[2] )                               #TPR = TP / P = TP / (TP + FN)\n",
        "print('TPR is: %.4f' % TPR_white)\n",
        "\n",
        "FPR_other = cm_other.ravel()[1] / (cm_other.ravel()[1] + cm_other.ravel()[0] )                         #FPR = FP / N = FP / (FP + TN)\n",
        "print('FPR is: %.4f' % FPR_white)"
      ],
      "metadata": {
        "colab": {
          "base_uri": "https://localhost:8080/"
        },
        "outputId": "98bff730-8395-43fc-c4d3-4b07d4772781",
        "id": "1d6eMmOH9xNG"
      },
      "execution_count": null,
      "outputs": [
        {
          "output_type": "stream",
          "name": "stdout",
          "text": [
            "TPR is: 1.0000\n",
            "FPR is: 1.0000\n"
          ]
        }
      ]
    },
    {
      "cell_type": "markdown",
      "source": [
        "### biased sampling"
      ],
      "metadata": {
        "id": "qIkP1ozw9bsD"
      }
    },
    {
      "cell_type": "code",
      "source": [
        "sp_white = df_white.sample(n=950, random_state=42)\n",
        "sp_other = df_other.sample(n=50, random_state=42)\n",
        "\n",
        "len(sp_white), len(sp_other)"
      ],
      "metadata": {
        "colab": {
          "base_uri": "https://localhost:8080/"
        },
        "id": "Uj6OCWRfpmh-",
        "outputId": "53536042-06df-4353-afdd-461c26a08705"
      },
      "execution_count": null,
      "outputs": [
        {
          "output_type": "execute_result",
          "data": {
            "text/plain": [
              "(950, 50)"
            ]
          },
          "metadata": {},
          "execution_count": 69
        }
      ]
    },
    {
      "cell_type": "code",
      "execution_count": null,
      "metadata": {
        "id": "Wi33wrlQK_Gx",
        "outputId": "5ac0a894-bd97-4858-b6f0-e9a43b727469",
        "colab": {
          "base_uri": "https://localhost:8080/"
        }
      },
      "outputs": [
        {
          "output_type": "execute_result",
          "data": {
            "text/plain": [
              "(17139, 3288)"
            ]
          },
          "metadata": {},
          "execution_count": 39
        }
      ],
      "source": [
        "df_white = df[df['race1'] == 'white']\n",
        "df_other = df[df['race1'] != 'white']\n",
        "\n",
        "len(df_white), len(df_other)"
      ]
    },
    {
      "cell_type": "code",
      "source": [
        "sp_df = pd.concat([sp_white, sp_other])\n",
        "sp_df"
      ],
      "metadata": {
        "colab": {
          "base_uri": "https://localhost:8080/",
          "height": 930
        },
        "id": "3CNq1uQCo1-O",
        "outputId": "8793997c-5ca4-4abd-bf68-3abb18e2fa5b"
      },
      "execution_count": null,
      "outputs": [
        {
          "output_type": "execute_result",
          "data": {
            "text/plain": [
              "       decile1b  decile3     ID  decile1  sex  race  cluster  lsat  ugpa  \\\n",
              "21077      10.0      9.0  16729     10.0  2.0   7.0      1.0  37.0   3.8   \n",
              "9705        9.0     10.0  17712      9.0  1.0   7.0      3.0  34.0   3.6   \n",
              "13897       9.0      9.0   5099      9.0  2.0   7.0      6.0  35.0   3.7   \n",
              "345         6.0      2.0   4990      6.0  2.0   7.0      3.0  37.0   3.5   \n",
              "3502       10.0     10.0  20619     10.0  1.0   7.0      5.0  42.0   3.4   \n",
              "...         ...      ...    ...      ...  ...   ...      ...   ...   ...   \n",
              "7886        5.0      2.0  23467      6.0  2.0   6.0      4.0  37.0   3.2   \n",
              "6131        4.0      4.0  24886      4.0  1.0   3.0      6.0  28.5   2.2   \n",
              "442         3.0      3.0   6424      4.0  1.0   8.0      1.0  30.0   3.5   \n",
              "21007       7.0      8.0  14850      7.0  2.0   8.0      3.0  26.5   3.8   \n",
              "1653        7.0      5.0  23615      7.0  1.0   5.0      4.0  37.0   3.5   \n",
              "\n",
              "       zfygpa  ...  hisp pass_bar                bar bar_passed  tier  \\\n",
              "21077    1.40  ...     0        1  a Passed 1st time       True   4.0   \n",
              "9705     1.22  ...     0        1  a Passed 1st time       True   3.0   \n",
              "13897    1.10  ...     0        1  a Passed 1st time       True   1.0   \n",
              "345      0.11  ...     0        1  b Passed 2nd time       True   3.0   \n",
              "3502     1.75  ...     0        1  a Passed 1st time       True   6.0   \n",
              "...       ...  ...   ...      ...                ...        ...   ...   \n",
              "7886     0.05  ...     0        1  a Passed 1st time       True   5.0   \n",
              "6131    -0.31  ...     0        0           c Failed      False   1.0   \n",
              "442     -0.47  ...     0        1  a Passed 1st time       True   4.0   \n",
              "21007    0.35  ...     0        1  a Passed 1st time       True   3.0   \n",
              "1653     0.29  ...     0        1  b Passed 2nd time       True   5.0   \n",
              "\n",
              "        index6040    indxgrp   indxgrp2  dnn_bar_pass_prediction  gpa  \n",
              "21077  806.315771     g 700+  h 760-820                 0.999698  3.8  \n",
              "9705   738.947352     g 700+  g 700-760                 0.999319  3.6  \n",
              "13897  764.736825     g 700+  h 760-820                 0.983144  3.7  \n",
              "345    776.315771     g 700+  h 760-820                 0.979804  3.5  \n",
              "3502   845.263136     g 700+     i 820+                 0.998464  3.4  \n",
              "...           ...        ...        ...                      ...  ...  \n",
              "7886   746.315771     g 700+  g 700-760                 0.996526  3.2  \n",
              "6131   512.105251  c 460-520  c 460-520                 0.890770  2.2  \n",
              "442    665.789460  f 640-700  f 640-700                 0.979804  3.5  \n",
              "21007  640.526305  f 640-700  f 640-700                 0.999698  3.8  \n",
              "1653   776.315771     g 700+  h 760-820                 0.979804  3.5  \n",
              "\n",
              "[1000 rows x 39 columns]"
            ],
            "text/html": [
              "\n",
              "  <div id=\"df-e4802654-28b4-4c57-9680-f38399e696fc\" class=\"colab-df-container\">\n",
              "    <div>\n",
              "<style scoped>\n",
              "    .dataframe tbody tr th:only-of-type {\n",
              "        vertical-align: middle;\n",
              "    }\n",
              "\n",
              "    .dataframe tbody tr th {\n",
              "        vertical-align: top;\n",
              "    }\n",
              "\n",
              "    .dataframe thead th {\n",
              "        text-align: right;\n",
              "    }\n",
              "</style>\n",
              "<table border=\"1\" class=\"dataframe\">\n",
              "  <thead>\n",
              "    <tr style=\"text-align: right;\">\n",
              "      <th></th>\n",
              "      <th>decile1b</th>\n",
              "      <th>decile3</th>\n",
              "      <th>ID</th>\n",
              "      <th>decile1</th>\n",
              "      <th>sex</th>\n",
              "      <th>race</th>\n",
              "      <th>cluster</th>\n",
              "      <th>lsat</th>\n",
              "      <th>ugpa</th>\n",
              "      <th>zfygpa</th>\n",
              "      <th>...</th>\n",
              "      <th>hisp</th>\n",
              "      <th>pass_bar</th>\n",
              "      <th>bar</th>\n",
              "      <th>bar_passed</th>\n",
              "      <th>tier</th>\n",
              "      <th>index6040</th>\n",
              "      <th>indxgrp</th>\n",
              "      <th>indxgrp2</th>\n",
              "      <th>dnn_bar_pass_prediction</th>\n",
              "      <th>gpa</th>\n",
              "    </tr>\n",
              "  </thead>\n",
              "  <tbody>\n",
              "    <tr>\n",
              "      <th>21077</th>\n",
              "      <td>10.0</td>\n",
              "      <td>9.0</td>\n",
              "      <td>16729</td>\n",
              "      <td>10.0</td>\n",
              "      <td>2.0</td>\n",
              "      <td>7.0</td>\n",
              "      <td>1.0</td>\n",
              "      <td>37.0</td>\n",
              "      <td>3.8</td>\n",
              "      <td>1.40</td>\n",
              "      <td>...</td>\n",
              "      <td>0</td>\n",
              "      <td>1</td>\n",
              "      <td>a Passed 1st time</td>\n",
              "      <td>True</td>\n",
              "      <td>4.0</td>\n",
              "      <td>806.315771</td>\n",
              "      <td>g 700+</td>\n",
              "      <td>h 760-820</td>\n",
              "      <td>0.999698</td>\n",
              "      <td>3.8</td>\n",
              "    </tr>\n",
              "    <tr>\n",
              "      <th>9705</th>\n",
              "      <td>9.0</td>\n",
              "      <td>10.0</td>\n",
              "      <td>17712</td>\n",
              "      <td>9.0</td>\n",
              "      <td>1.0</td>\n",
              "      <td>7.0</td>\n",
              "      <td>3.0</td>\n",
              "      <td>34.0</td>\n",
              "      <td>3.6</td>\n",
              "      <td>1.22</td>\n",
              "      <td>...</td>\n",
              "      <td>0</td>\n",
              "      <td>1</td>\n",
              "      <td>a Passed 1st time</td>\n",
              "      <td>True</td>\n",
              "      <td>3.0</td>\n",
              "      <td>738.947352</td>\n",
              "      <td>g 700+</td>\n",
              "      <td>g 700-760</td>\n",
              "      <td>0.999319</td>\n",
              "      <td>3.6</td>\n",
              "    </tr>\n",
              "    <tr>\n",
              "      <th>13897</th>\n",
              "      <td>9.0</td>\n",
              "      <td>9.0</td>\n",
              "      <td>5099</td>\n",
              "      <td>9.0</td>\n",
              "      <td>2.0</td>\n",
              "      <td>7.0</td>\n",
              "      <td>6.0</td>\n",
              "      <td>35.0</td>\n",
              "      <td>3.7</td>\n",
              "      <td>1.10</td>\n",
              "      <td>...</td>\n",
              "      <td>0</td>\n",
              "      <td>1</td>\n",
              "      <td>a Passed 1st time</td>\n",
              "      <td>True</td>\n",
              "      <td>1.0</td>\n",
              "      <td>764.736825</td>\n",
              "      <td>g 700+</td>\n",
              "      <td>h 760-820</td>\n",
              "      <td>0.983144</td>\n",
              "      <td>3.7</td>\n",
              "    </tr>\n",
              "    <tr>\n",
              "      <th>345</th>\n",
              "      <td>6.0</td>\n",
              "      <td>2.0</td>\n",
              "      <td>4990</td>\n",
              "      <td>6.0</td>\n",
              "      <td>2.0</td>\n",
              "      <td>7.0</td>\n",
              "      <td>3.0</td>\n",
              "      <td>37.0</td>\n",
              "      <td>3.5</td>\n",
              "      <td>0.11</td>\n",
              "      <td>...</td>\n",
              "      <td>0</td>\n",
              "      <td>1</td>\n",
              "      <td>b Passed 2nd time</td>\n",
              "      <td>True</td>\n",
              "      <td>3.0</td>\n",
              "      <td>776.315771</td>\n",
              "      <td>g 700+</td>\n",
              "      <td>h 760-820</td>\n",
              "      <td>0.979804</td>\n",
              "      <td>3.5</td>\n",
              "    </tr>\n",
              "    <tr>\n",
              "      <th>3502</th>\n",
              "      <td>10.0</td>\n",
              "      <td>10.0</td>\n",
              "      <td>20619</td>\n",
              "      <td>10.0</td>\n",
              "      <td>1.0</td>\n",
              "      <td>7.0</td>\n",
              "      <td>5.0</td>\n",
              "      <td>42.0</td>\n",
              "      <td>3.4</td>\n",
              "      <td>1.75</td>\n",
              "      <td>...</td>\n",
              "      <td>0</td>\n",
              "      <td>1</td>\n",
              "      <td>a Passed 1st time</td>\n",
              "      <td>True</td>\n",
              "      <td>6.0</td>\n",
              "      <td>845.263136</td>\n",
              "      <td>g 700+</td>\n",
              "      <td>i 820+</td>\n",
              "      <td>0.998464</td>\n",
              "      <td>3.4</td>\n",
              "    </tr>\n",
              "    <tr>\n",
              "      <th>...</th>\n",
              "      <td>...</td>\n",
              "      <td>...</td>\n",
              "      <td>...</td>\n",
              "      <td>...</td>\n",
              "      <td>...</td>\n",
              "      <td>...</td>\n",
              "      <td>...</td>\n",
              "      <td>...</td>\n",
              "      <td>...</td>\n",
              "      <td>...</td>\n",
              "      <td>...</td>\n",
              "      <td>...</td>\n",
              "      <td>...</td>\n",
              "      <td>...</td>\n",
              "      <td>...</td>\n",
              "      <td>...</td>\n",
              "      <td>...</td>\n",
              "      <td>...</td>\n",
              "      <td>...</td>\n",
              "      <td>...</td>\n",
              "      <td>...</td>\n",
              "    </tr>\n",
              "    <tr>\n",
              "      <th>7886</th>\n",
              "      <td>5.0</td>\n",
              "      <td>2.0</td>\n",
              "      <td>23467</td>\n",
              "      <td>6.0</td>\n",
              "      <td>2.0</td>\n",
              "      <td>6.0</td>\n",
              "      <td>4.0</td>\n",
              "      <td>37.0</td>\n",
              "      <td>3.2</td>\n",
              "      <td>0.05</td>\n",
              "      <td>...</td>\n",
              "      <td>0</td>\n",
              "      <td>1</td>\n",
              "      <td>a Passed 1st time</td>\n",
              "      <td>True</td>\n",
              "      <td>5.0</td>\n",
              "      <td>746.315771</td>\n",
              "      <td>g 700+</td>\n",
              "      <td>g 700-760</td>\n",
              "      <td>0.996526</td>\n",
              "      <td>3.2</td>\n",
              "    </tr>\n",
              "    <tr>\n",
              "      <th>6131</th>\n",
              "      <td>4.0</td>\n",
              "      <td>4.0</td>\n",
              "      <td>24886</td>\n",
              "      <td>4.0</td>\n",
              "      <td>1.0</td>\n",
              "      <td>3.0</td>\n",
              "      <td>6.0</td>\n",
              "      <td>28.5</td>\n",
              "      <td>2.2</td>\n",
              "      <td>-0.31</td>\n",
              "      <td>...</td>\n",
              "      <td>0</td>\n",
              "      <td>0</td>\n",
              "      <td>c Failed</td>\n",
              "      <td>False</td>\n",
              "      <td>1.0</td>\n",
              "      <td>512.105251</td>\n",
              "      <td>c 460-520</td>\n",
              "      <td>c 460-520</td>\n",
              "      <td>0.890770</td>\n",
              "      <td>2.2</td>\n",
              "    </tr>\n",
              "    <tr>\n",
              "      <th>442</th>\n",
              "      <td>3.0</td>\n",
              "      <td>3.0</td>\n",
              "      <td>6424</td>\n",
              "      <td>4.0</td>\n",
              "      <td>1.0</td>\n",
              "      <td>8.0</td>\n",
              "      <td>1.0</td>\n",
              "      <td>30.0</td>\n",
              "      <td>3.5</td>\n",
              "      <td>-0.47</td>\n",
              "      <td>...</td>\n",
              "      <td>0</td>\n",
              "      <td>1</td>\n",
              "      <td>a Passed 1st time</td>\n",
              "      <td>True</td>\n",
              "      <td>4.0</td>\n",
              "      <td>665.789460</td>\n",
              "      <td>f 640-700</td>\n",
              "      <td>f 640-700</td>\n",
              "      <td>0.979804</td>\n",
              "      <td>3.5</td>\n",
              "    </tr>\n",
              "    <tr>\n",
              "      <th>21007</th>\n",
              "      <td>7.0</td>\n",
              "      <td>8.0</td>\n",
              "      <td>14850</td>\n",
              "      <td>7.0</td>\n",
              "      <td>2.0</td>\n",
              "      <td>8.0</td>\n",
              "      <td>3.0</td>\n",
              "      <td>26.5</td>\n",
              "      <td>3.8</td>\n",
              "      <td>0.35</td>\n",
              "      <td>...</td>\n",
              "      <td>0</td>\n",
              "      <td>1</td>\n",
              "      <td>a Passed 1st time</td>\n",
              "      <td>True</td>\n",
              "      <td>3.0</td>\n",
              "      <td>640.526305</td>\n",
              "      <td>f 640-700</td>\n",
              "      <td>f 640-700</td>\n",
              "      <td>0.999698</td>\n",
              "      <td>3.8</td>\n",
              "    </tr>\n",
              "    <tr>\n",
              "      <th>1653</th>\n",
              "      <td>7.0</td>\n",
              "      <td>5.0</td>\n",
              "      <td>23615</td>\n",
              "      <td>7.0</td>\n",
              "      <td>1.0</td>\n",
              "      <td>5.0</td>\n",
              "      <td>4.0</td>\n",
              "      <td>37.0</td>\n",
              "      <td>3.5</td>\n",
              "      <td>0.29</td>\n",
              "      <td>...</td>\n",
              "      <td>0</td>\n",
              "      <td>1</td>\n",
              "      <td>b Passed 2nd time</td>\n",
              "      <td>True</td>\n",
              "      <td>5.0</td>\n",
              "      <td>776.315771</td>\n",
              "      <td>g 700+</td>\n",
              "      <td>h 760-820</td>\n",
              "      <td>0.979804</td>\n",
              "      <td>3.5</td>\n",
              "    </tr>\n",
              "  </tbody>\n",
              "</table>\n",
              "<p>1000 rows × 39 columns</p>\n",
              "</div>\n",
              "    <div class=\"colab-df-buttons\">\n",
              "\n",
              "  <div class=\"colab-df-container\">\n",
              "    <button class=\"colab-df-convert\" onclick=\"convertToInteractive('df-e4802654-28b4-4c57-9680-f38399e696fc')\"\n",
              "            title=\"Convert this dataframe to an interactive table.\"\n",
              "            style=\"display:none;\">\n",
              "\n",
              "  <svg xmlns=\"http://www.w3.org/2000/svg\" height=\"24px\" viewBox=\"0 -960 960 960\">\n",
              "    <path d=\"M120-120v-720h720v720H120Zm60-500h600v-160H180v160Zm220 220h160v-160H400v160Zm0 220h160v-160H400v160ZM180-400h160v-160H180v160Zm440 0h160v-160H620v160ZM180-180h160v-160H180v160Zm440 0h160v-160H620v160Z\"/>\n",
              "  </svg>\n",
              "    </button>\n",
              "\n",
              "  <style>\n",
              "    .colab-df-container {\n",
              "      display:flex;\n",
              "      gap: 12px;\n",
              "    }\n",
              "\n",
              "    .colab-df-convert {\n",
              "      background-color: #E8F0FE;\n",
              "      border: none;\n",
              "      border-radius: 50%;\n",
              "      cursor: pointer;\n",
              "      display: none;\n",
              "      fill: #1967D2;\n",
              "      height: 32px;\n",
              "      padding: 0 0 0 0;\n",
              "      width: 32px;\n",
              "    }\n",
              "\n",
              "    .colab-df-convert:hover {\n",
              "      background-color: #E2EBFA;\n",
              "      box-shadow: 0px 1px 2px rgba(60, 64, 67, 0.3), 0px 1px 3px 1px rgba(60, 64, 67, 0.15);\n",
              "      fill: #174EA6;\n",
              "    }\n",
              "\n",
              "    .colab-df-buttons div {\n",
              "      margin-bottom: 4px;\n",
              "    }\n",
              "\n",
              "    [theme=dark] .colab-df-convert {\n",
              "      background-color: #3B4455;\n",
              "      fill: #D2E3FC;\n",
              "    }\n",
              "\n",
              "    [theme=dark] .colab-df-convert:hover {\n",
              "      background-color: #434B5C;\n",
              "      box-shadow: 0px 1px 3px 1px rgba(0, 0, 0, 0.15);\n",
              "      filter: drop-shadow(0px 1px 2px rgba(0, 0, 0, 0.3));\n",
              "      fill: #FFFFFF;\n",
              "    }\n",
              "  </style>\n",
              "\n",
              "    <script>\n",
              "      const buttonEl =\n",
              "        document.querySelector('#df-e4802654-28b4-4c57-9680-f38399e696fc button.colab-df-convert');\n",
              "      buttonEl.style.display =\n",
              "        google.colab.kernel.accessAllowed ? 'block' : 'none';\n",
              "\n",
              "      async function convertToInteractive(key) {\n",
              "        const element = document.querySelector('#df-e4802654-28b4-4c57-9680-f38399e696fc');\n",
              "        const dataTable =\n",
              "          await google.colab.kernel.invokeFunction('convertToInteractive',\n",
              "                                                    [key], {});\n",
              "        if (!dataTable) return;\n",
              "\n",
              "        const docLinkHtml = 'Like what you see? Visit the ' +\n",
              "          '<a target=\"_blank\" href=https://colab.research.google.com/notebooks/data_table.ipynb>data table notebook</a>'\n",
              "          + ' to learn more about interactive tables.';\n",
              "        element.innerHTML = '';\n",
              "        dataTable['output_type'] = 'display_data';\n",
              "        await google.colab.output.renderOutput(dataTable, element);\n",
              "        const docLink = document.createElement('div');\n",
              "        docLink.innerHTML = docLinkHtml;\n",
              "        element.appendChild(docLink);\n",
              "      }\n",
              "    </script>\n",
              "  </div>\n",
              "\n",
              "\n",
              "<div id=\"df-bc87e542-ca84-490a-a970-900fc5e82848\">\n",
              "  <button class=\"colab-df-quickchart\" onclick=\"quickchart('df-bc87e542-ca84-490a-a970-900fc5e82848')\"\n",
              "            title=\"Suggest charts\"\n",
              "            style=\"display:none;\">\n",
              "\n",
              "<svg xmlns=\"http://www.w3.org/2000/svg\" height=\"24px\"viewBox=\"0 0 24 24\"\n",
              "     width=\"24px\">\n",
              "    <g>\n",
              "        <path d=\"M19 3H5c-1.1 0-2 .9-2 2v14c0 1.1.9 2 2 2h14c1.1 0 2-.9 2-2V5c0-1.1-.9-2-2-2zM9 17H7v-7h2v7zm4 0h-2V7h2v10zm4 0h-2v-4h2v4z\"/>\n",
              "    </g>\n",
              "</svg>\n",
              "  </button>\n",
              "\n",
              "<style>\n",
              "  .colab-df-quickchart {\n",
              "      --bg-color: #E8F0FE;\n",
              "      --fill-color: #1967D2;\n",
              "      --hover-bg-color: #E2EBFA;\n",
              "      --hover-fill-color: #174EA6;\n",
              "      --disabled-fill-color: #AAA;\n",
              "      --disabled-bg-color: #DDD;\n",
              "  }\n",
              "\n",
              "  [theme=dark] .colab-df-quickchart {\n",
              "      --bg-color: #3B4455;\n",
              "      --fill-color: #D2E3FC;\n",
              "      --hover-bg-color: #434B5C;\n",
              "      --hover-fill-color: #FFFFFF;\n",
              "      --disabled-bg-color: #3B4455;\n",
              "      --disabled-fill-color: #666;\n",
              "  }\n",
              "\n",
              "  .colab-df-quickchart {\n",
              "    background-color: var(--bg-color);\n",
              "    border: none;\n",
              "    border-radius: 50%;\n",
              "    cursor: pointer;\n",
              "    display: none;\n",
              "    fill: var(--fill-color);\n",
              "    height: 32px;\n",
              "    padding: 0;\n",
              "    width: 32px;\n",
              "  }\n",
              "\n",
              "  .colab-df-quickchart:hover {\n",
              "    background-color: var(--hover-bg-color);\n",
              "    box-shadow: 0 1px 2px rgba(60, 64, 67, 0.3), 0 1px 3px 1px rgba(60, 64, 67, 0.15);\n",
              "    fill: var(--button-hover-fill-color);\n",
              "  }\n",
              "\n",
              "  .colab-df-quickchart-complete:disabled,\n",
              "  .colab-df-quickchart-complete:disabled:hover {\n",
              "    background-color: var(--disabled-bg-color);\n",
              "    fill: var(--disabled-fill-color);\n",
              "    box-shadow: none;\n",
              "  }\n",
              "\n",
              "  .colab-df-spinner {\n",
              "    border: 2px solid var(--fill-color);\n",
              "    border-color: transparent;\n",
              "    border-bottom-color: var(--fill-color);\n",
              "    animation:\n",
              "      spin 1s steps(1) infinite;\n",
              "  }\n",
              "\n",
              "  @keyframes spin {\n",
              "    0% {\n",
              "      border-color: transparent;\n",
              "      border-bottom-color: var(--fill-color);\n",
              "      border-left-color: var(--fill-color);\n",
              "    }\n",
              "    20% {\n",
              "      border-color: transparent;\n",
              "      border-left-color: var(--fill-color);\n",
              "      border-top-color: var(--fill-color);\n",
              "    }\n",
              "    30% {\n",
              "      border-color: transparent;\n",
              "      border-left-color: var(--fill-color);\n",
              "      border-top-color: var(--fill-color);\n",
              "      border-right-color: var(--fill-color);\n",
              "    }\n",
              "    40% {\n",
              "      border-color: transparent;\n",
              "      border-right-color: var(--fill-color);\n",
              "      border-top-color: var(--fill-color);\n",
              "    }\n",
              "    60% {\n",
              "      border-color: transparent;\n",
              "      border-right-color: var(--fill-color);\n",
              "    }\n",
              "    80% {\n",
              "      border-color: transparent;\n",
              "      border-right-color: var(--fill-color);\n",
              "      border-bottom-color: var(--fill-color);\n",
              "    }\n",
              "    90% {\n",
              "      border-color: transparent;\n",
              "      border-bottom-color: var(--fill-color);\n",
              "    }\n",
              "  }\n",
              "</style>\n",
              "\n",
              "  <script>\n",
              "    async function quickchart(key) {\n",
              "      const quickchartButtonEl =\n",
              "        document.querySelector('#' + key + ' button');\n",
              "      quickchartButtonEl.disabled = true;  // To prevent multiple clicks.\n",
              "      quickchartButtonEl.classList.add('colab-df-spinner');\n",
              "      try {\n",
              "        const charts = await google.colab.kernel.invokeFunction(\n",
              "            'suggestCharts', [key], {});\n",
              "      } catch (error) {\n",
              "        console.error('Error during call to suggestCharts:', error);\n",
              "      }\n",
              "      quickchartButtonEl.classList.remove('colab-df-spinner');\n",
              "      quickchartButtonEl.classList.add('colab-df-quickchart-complete');\n",
              "    }\n",
              "    (() => {\n",
              "      let quickchartButtonEl =\n",
              "        document.querySelector('#df-bc87e542-ca84-490a-a970-900fc5e82848 button');\n",
              "      quickchartButtonEl.style.display =\n",
              "        google.colab.kernel.accessAllowed ? 'block' : 'none';\n",
              "    })();\n",
              "  </script>\n",
              "</div>\n",
              "    </div>\n",
              "  </div>\n"
            ]
          },
          "metadata": {},
          "execution_count": 70
        }
      ]
    },
    {
      "cell_type": "code",
      "source": [
        "passed = sp_df[sp_df['pass_bar'] == 1]\n",
        "len(passed)"
      ],
      "metadata": {
        "colab": {
          "base_uri": "https://localhost:8080/"
        },
        "id": "-lmOg_WUqFL2",
        "outputId": "85243a2b-9ab5-4c46-8db4-b87e8cadf7c1"
      },
      "execution_count": null,
      "outputs": [
        {
          "output_type": "execute_result",
          "data": {
            "text/plain": [
              "960"
            ]
          },
          "metadata": {},
          "execution_count": 71
        }
      ]
    },
    {
      "cell_type": "code",
      "source": [
        "grad = sp_df[sp_df['grad'] == 'Y']\n",
        "len(grad)"
      ],
      "metadata": {
        "colab": {
          "base_uri": "https://localhost:8080/"
        },
        "id": "Xou4q2QI269n",
        "outputId": "e80309b3-329c-46dd-b765-2a3499c2c47f"
      },
      "execution_count": null,
      "outputs": [
        {
          "output_type": "execute_result",
          "data": {
            "text/plain": [
              "1000"
            ]
          },
          "metadata": {},
          "execution_count": 72
        }
      ]
    },
    {
      "cell_type": "code",
      "execution_count": null,
      "metadata": {
        "id": "dejgeaSfK_Gy"
      },
      "outputs": [],
      "source": [
        "# Choose the features to be used\n",
        "cols = ['tier', 'race', 'sex', 'ugpa', 'lsat', 'fulltime', 'fam_inc']\n",
        "X = sp_df[cols]\n",
        "y = sp_df['pass_bar']"
      ]
    },
    {
      "cell_type": "code",
      "execution_count": null,
      "metadata": {
        "id": "mBPmwqhm2aYN"
      },
      "outputs": [],
      "source": [
        "# preprocess data\n",
        "from sklearn.preprocessing import StandardScaler, RobustScaler\n",
        "\n",
        "scaler = StandardScaler()\n",
        "# scaler = RobustScaler()\n",
        "scaler.fit(X)\n",
        "X = scaler.transform(X)"
      ]
    },
    {
      "cell_type": "code",
      "execution_count": null,
      "metadata": {
        "id": "loBCBTIT2aYM"
      },
      "outputs": [],
      "source": [
        "clf = LogisticRegression(solver='lbfgs', max_iter=100).fit(X, y)"
      ]
    },
    {
      "cell_type": "code",
      "source": [
        "X_white = sp_white[cols]\n",
        "y_white = sp_white['pass_bar']\n",
        "X_other = sp_other[cols]\n",
        "y_other = sp_other['pass_bar']\n",
        "\n",
        "X_white.shape"
      ],
      "metadata": {
        "colab": {
          "base_uri": "https://localhost:8080/"
        },
        "id": "MM8vxjD63PqK",
        "outputId": "f8c63afc-4275-4ea3-876d-1fe4736243d3"
      },
      "execution_count": null,
      "outputs": [
        {
          "output_type": "execute_result",
          "data": {
            "text/plain": [
              "(950, 7)"
            ]
          },
          "metadata": {},
          "execution_count": 76
        }
      ]
    },
    {
      "cell_type": "code",
      "execution_count": null,
      "metadata": {
        "colab": {
          "base_uri": "https://localhost:8080/"
        },
        "outputId": "85a11212-632e-426f-aabd-a210422af9cf",
        "id": "30EtsXYF2aYM"
      },
      "outputs": [
        {
          "output_type": "stream",
          "name": "stderr",
          "text": [
            "/usr/local/lib/python3.10/dist-packages/sklearn/base.py:432: UserWarning: X has feature names, but LogisticRegression was fitted without feature names\n",
            "  warnings.warn(\n"
          ]
        },
        {
          "output_type": "execute_result",
          "data": {
            "text/plain": [
              "0.9673684210526315"
            ]
          },
          "metadata": {},
          "execution_count": 77
        }
      ],
      "source": [
        "accuracy_score(y_white, clf.predict(X_white))"
      ]
    },
    {
      "cell_type": "code",
      "source": [
        "accuracy_score(y_other, clf.predict(X_other))"
      ],
      "metadata": {
        "colab": {
          "base_uri": "https://localhost:8080/"
        },
        "id": "ePnMa24O5YVp",
        "outputId": "0a21aa38-2d06-4a59-ab36-b154b9d0a166"
      },
      "execution_count": null,
      "outputs": [
        {
          "output_type": "stream",
          "name": "stderr",
          "text": [
            "/usr/local/lib/python3.10/dist-packages/sklearn/base.py:432: UserWarning: X has feature names, but LogisticRegression was fitted without feature names\n",
            "  warnings.warn(\n"
          ]
        },
        {
          "output_type": "execute_result",
          "data": {
            "text/plain": [
              "0.82"
            ]
          },
          "metadata": {},
          "execution_count": 78
        }
      ]
    },
    {
      "cell_type": "code",
      "source": [
        "from sklearn.metrics import confusion_matrix\n",
        "\n",
        "?confusion_matrix"
      ],
      "metadata": {
        "id": "DpU2zpsOFOZJ"
      },
      "execution_count": null,
      "outputs": []
    },
    {
      "cell_type": "code",
      "source": [
        "cm_white = confusion_matrix(y_white, clf.predict(X_white))\n",
        "cm_white"
      ],
      "metadata": {
        "colab": {
          "base_uri": "https://localhost:8080/"
        },
        "id": "gkN3RG1zE__x",
        "outputId": "e55385a2-bf84-43dd-f3a4-2c8f2ad29728"
      },
      "execution_count": null,
      "outputs": [
        {
          "output_type": "stream",
          "name": "stderr",
          "text": [
            "/usr/local/lib/python3.10/dist-packages/sklearn/base.py:432: UserWarning: X has feature names, but LogisticRegression was fitted without feature names\n",
            "  warnings.warn(\n"
          ]
        },
        {
          "output_type": "execute_result",
          "data": {
            "text/plain": [
              "array([[  0,  31],\n",
              "       [  0, 919]])"
            ]
          },
          "metadata": {},
          "execution_count": 80
        }
      ]
    },
    {
      "cell_type": "code",
      "source": [
        "TPR_white =  cm_white.ravel()[3] / (cm_white.ravel()[3] + cm_white.ravel()[2] )                               #TPR = TP / P = TP / (TP + FN)\n",
        "print('TPR is: %.4f' % TPR_white)\n",
        "\n",
        "FPR_white = cm_white.ravel()[1] / (cm_white.ravel()[1] + cm_white.ravel()[0] )                         #FPR = FP / N = FP / (FP + TN)\n",
        "print('FPR is: %.4f' % FPR_white)"
      ],
      "metadata": {
        "colab": {
          "base_uri": "https://localhost:8080/"
        },
        "id": "Ic7wHBVAFgSO",
        "outputId": "7b5d0813-209d-4957-b02d-653ed53b5f61"
      },
      "execution_count": null,
      "outputs": [
        {
          "output_type": "stream",
          "name": "stdout",
          "text": [
            "TPR is: 1.0000\n",
            "FPR is: 1.0000\n"
          ]
        }
      ]
    },
    {
      "cell_type": "code",
      "source": [
        "cm_other = confusion_matrix(y_other, clf.predict(X_other))\n",
        "cm_other"
      ],
      "metadata": {
        "colab": {
          "base_uri": "https://localhost:8080/"
        },
        "outputId": "e4e0e8fa-6ad3-4a31-9942-cef81ae802f9",
        "id": "-NfvQFM-FzFJ"
      },
      "execution_count": null,
      "outputs": [
        {
          "output_type": "stream",
          "name": "stderr",
          "text": [
            "/usr/local/lib/python3.10/dist-packages/sklearn/base.py:432: UserWarning: X has feature names, but LogisticRegression was fitted without feature names\n",
            "  warnings.warn(\n"
          ]
        },
        {
          "output_type": "execute_result",
          "data": {
            "text/plain": [
              "array([[ 0,  9],\n",
              "       [ 0, 41]])"
            ]
          },
          "metadata": {},
          "execution_count": 82
        }
      ]
    },
    {
      "cell_type": "code",
      "source": [
        "TPR_other =  cm_other.ravel()[3] / (cm_other.ravel()[3] + cm_other.ravel()[2] )                               #TPR = TP / P = TP / (TP + FN)\n",
        "print('TPR is: %.4f' % TPR_white)\n",
        "\n",
        "FPR_other = cm_other.ravel()[1] / (cm_other.ravel()[1] + cm_other.ravel()[0] )                         #FPR = FP / N = FP / (FP + TN)\n",
        "print('FPR is: %.4f' % FPR_white)"
      ],
      "metadata": {
        "colab": {
          "base_uri": "https://localhost:8080/"
        },
        "outputId": "afb17171-e344-4a62-b0b3-787b9efe36ea",
        "id": "1vs9HbcUFzFK"
      },
      "execution_count": null,
      "outputs": [
        {
          "output_type": "stream",
          "name": "stdout",
          "text": [
            "TPR is: 1.0000\n",
            "FPR is: 1.0000\n"
          ]
        }
      ]
    },
    {
      "cell_type": "markdown",
      "source": [
        "# Breast Cancer"
      ],
      "metadata": {
        "id": "tOIkpqZUj9j1"
      }
    },
    {
      "cell_type": "code",
      "execution_count": null,
      "metadata": {
        "id": "g_flsgY8AwjV"
      },
      "outputs": [],
      "source": [
        "from sklearn.datasets import load_breast_cancer"
      ]
    },
    {
      "cell_type": "code",
      "execution_count": null,
      "metadata": {
        "id": "9zPwhrZvh0G4"
      },
      "outputs": [],
      "source": [
        "# load breast cancer data\n",
        "X, y = load_breast_cancer(return_X_y=True)"
      ]
    },
    {
      "cell_type": "code",
      "execution_count": null,
      "metadata": {
        "id": "fo6dV3zxsbBy"
      },
      "outputs": [],
      "source": [
        "# preprocess data\n",
        "from sklearn.preprocessing import StandardScaler, RobustScaler\n",
        "\n",
        "scaler = StandardScaler()\n",
        "# scaler = RobustScaler()\n",
        "scaler.fit(X)\n",
        "X = scaler.transform(X)"
      ]
    },
    {
      "cell_type": "code",
      "execution_count": null,
      "metadata": {
        "colab": {
          "base_uri": "https://localhost:8080/",
          "height": 350
        },
        "id": "NW_2RtvCs_J1",
        "outputId": "a97ed242-9b53-492c-f277-38b329a3b92b"
      },
      "outputs": [
        {
          "output_type": "execute_result",
          "data": {
            "text/plain": [
              "                 0             1             2             3             4   \\\n",
              "count  5.690000e+02  5.690000e+02  5.690000e+02  5.690000e+02  5.690000e+02   \n",
              "mean  -3.153111e-15 -6.568462e-15 -6.993039e-16 -8.553985e-16  6.081447e-15   \n",
              "std    1.000880e+00  1.000880e+00  1.000880e+00  1.000880e+00  1.000880e+00   \n",
              "min   -2.029648e+00 -2.229249e+00 -1.984504e+00 -1.454443e+00 -3.112085e+00   \n",
              "25%   -6.893853e-01 -7.259631e-01 -6.919555e-01 -6.671955e-01 -7.109628e-01   \n",
              "50%   -2.150816e-01 -1.046362e-01 -2.359800e-01 -2.951869e-01 -3.489108e-02   \n",
              "75%    4.693926e-01  5.841756e-01  4.996769e-01  3.635073e-01  6.361990e-01   \n",
              "max    3.971288e+00  4.651889e+00  3.976130e+00  5.250529e+00  4.770911e+00   \n",
              "\n",
              "                 5             6             7             8             9   \\\n",
              "count  5.690000e+02  5.690000e+02  5.690000e+02  5.690000e+02  5.690000e+02   \n",
              "mean  -1.136369e-15 -2.997017e-16  1.023981e-15 -1.860648e-15 -1.504752e-15   \n",
              "std    1.000880e+00  1.000880e+00  1.000880e+00  1.000880e+00  1.000880e+00   \n",
              "min   -1.610136e+00 -1.114873e+00 -1.261820e+00 -2.744117e+00 -1.819865e+00   \n",
              "25%   -7.470860e-01 -7.437479e-01 -7.379438e-01 -7.032397e-01 -7.226392e-01   \n",
              "50%   -2.219405e-01 -3.422399e-01 -3.977212e-01 -7.162650e-02 -1.782793e-01   \n",
              "75%    4.938569e-01  5.260619e-01  6.469351e-01  5.307792e-01  4.709834e-01   \n",
              "max    4.568425e+00  4.243589e+00  3.927930e+00  4.484751e+00  4.910919e+00   \n",
              "\n",
              "       ...            20            21            22            23  \\\n",
              "count  ...  5.690000e+02  5.690000e+02  5.690000e+02  5.690000e+02   \n",
              "mean   ... -2.297713e-15  1.742016e-15 -1.198807e-15  6.118909e-16   \n",
              "std    ...  1.000880e+00  1.000880e+00  1.000880e+00  1.000880e+00   \n",
              "min    ... -1.726901e+00 -2.223994e+00 -1.693361e+00 -1.222423e+00   \n",
              "25%    ... -6.749213e-01 -7.486293e-01 -6.895783e-01 -6.421359e-01   \n",
              "50%    ... -2.690395e-01 -4.351564e-02 -2.859802e-01 -3.411812e-01   \n",
              "75%    ...  5.220158e-01  6.583411e-01  5.402790e-01  3.575891e-01   \n",
              "max    ...  4.094189e+00  3.885905e+00  4.287337e+00  5.930172e+00   \n",
              "\n",
              "                 24            25            26            27            28  \\\n",
              "count  5.690000e+02  5.690000e+02  5.690000e+02  5.690000e+02  5.690000e+02   \n",
              "mean  -5.094929e-15 -2.122887e-15  6.118909e-16 -1.998011e-16 -2.422589e-15   \n",
              "std    1.000880e+00  1.000880e+00  1.000880e+00  1.000880e+00  1.000880e+00   \n",
              "min   -2.682695e+00 -1.443878e+00 -1.305831e+00 -1.745063e+00 -2.160960e+00   \n",
              "25%   -6.912304e-01 -6.810833e-01 -7.565142e-01 -7.563999e-01 -6.418637e-01   \n",
              "50%   -4.684277e-02 -2.695009e-01 -2.182321e-01 -2.234689e-01 -1.274095e-01   \n",
              "75%    5.975448e-01  5.396688e-01  5.311411e-01  7.125100e-01  4.501382e-01   \n",
              "max    3.955374e+00  5.112877e+00  4.700669e+00  2.685877e+00  6.046041e+00   \n",
              "\n",
              "                 29  \n",
              "count  5.690000e+02  \n",
              "mean   2.497514e-15  \n",
              "std    1.000880e+00  \n",
              "min   -1.601839e+00  \n",
              "25%   -6.919118e-01  \n",
              "50%   -2.164441e-01  \n",
              "75%    4.507624e-01  \n",
              "max    6.846856e+00  \n",
              "\n",
              "[8 rows x 30 columns]"
            ],
            "text/html": [
              "\n",
              "  <div id=\"df-9e8ff90e-4efe-4d3b-b64c-a02e05061655\" class=\"colab-df-container\">\n",
              "    <div>\n",
              "<style scoped>\n",
              "    .dataframe tbody tr th:only-of-type {\n",
              "        vertical-align: middle;\n",
              "    }\n",
              "\n",
              "    .dataframe tbody tr th {\n",
              "        vertical-align: top;\n",
              "    }\n",
              "\n",
              "    .dataframe thead th {\n",
              "        text-align: right;\n",
              "    }\n",
              "</style>\n",
              "<table border=\"1\" class=\"dataframe\">\n",
              "  <thead>\n",
              "    <tr style=\"text-align: right;\">\n",
              "      <th></th>\n",
              "      <th>0</th>\n",
              "      <th>1</th>\n",
              "      <th>2</th>\n",
              "      <th>3</th>\n",
              "      <th>4</th>\n",
              "      <th>5</th>\n",
              "      <th>6</th>\n",
              "      <th>7</th>\n",
              "      <th>8</th>\n",
              "      <th>9</th>\n",
              "      <th>...</th>\n",
              "      <th>20</th>\n",
              "      <th>21</th>\n",
              "      <th>22</th>\n",
              "      <th>23</th>\n",
              "      <th>24</th>\n",
              "      <th>25</th>\n",
              "      <th>26</th>\n",
              "      <th>27</th>\n",
              "      <th>28</th>\n",
              "      <th>29</th>\n",
              "    </tr>\n",
              "  </thead>\n",
              "  <tbody>\n",
              "    <tr>\n",
              "      <th>count</th>\n",
              "      <td>5.690000e+02</td>\n",
              "      <td>5.690000e+02</td>\n",
              "      <td>5.690000e+02</td>\n",
              "      <td>5.690000e+02</td>\n",
              "      <td>5.690000e+02</td>\n",
              "      <td>5.690000e+02</td>\n",
              "      <td>5.690000e+02</td>\n",
              "      <td>5.690000e+02</td>\n",
              "      <td>5.690000e+02</td>\n",
              "      <td>5.690000e+02</td>\n",
              "      <td>...</td>\n",
              "      <td>5.690000e+02</td>\n",
              "      <td>5.690000e+02</td>\n",
              "      <td>5.690000e+02</td>\n",
              "      <td>5.690000e+02</td>\n",
              "      <td>5.690000e+02</td>\n",
              "      <td>5.690000e+02</td>\n",
              "      <td>5.690000e+02</td>\n",
              "      <td>5.690000e+02</td>\n",
              "      <td>5.690000e+02</td>\n",
              "      <td>5.690000e+02</td>\n",
              "    </tr>\n",
              "    <tr>\n",
              "      <th>mean</th>\n",
              "      <td>-3.153111e-15</td>\n",
              "      <td>-6.568462e-15</td>\n",
              "      <td>-6.993039e-16</td>\n",
              "      <td>-8.553985e-16</td>\n",
              "      <td>6.081447e-15</td>\n",
              "      <td>-1.136369e-15</td>\n",
              "      <td>-2.997017e-16</td>\n",
              "      <td>1.023981e-15</td>\n",
              "      <td>-1.860648e-15</td>\n",
              "      <td>-1.504752e-15</td>\n",
              "      <td>...</td>\n",
              "      <td>-2.297713e-15</td>\n",
              "      <td>1.742016e-15</td>\n",
              "      <td>-1.198807e-15</td>\n",
              "      <td>6.118909e-16</td>\n",
              "      <td>-5.094929e-15</td>\n",
              "      <td>-2.122887e-15</td>\n",
              "      <td>6.118909e-16</td>\n",
              "      <td>-1.998011e-16</td>\n",
              "      <td>-2.422589e-15</td>\n",
              "      <td>2.497514e-15</td>\n",
              "    </tr>\n",
              "    <tr>\n",
              "      <th>std</th>\n",
              "      <td>1.000880e+00</td>\n",
              "      <td>1.000880e+00</td>\n",
              "      <td>1.000880e+00</td>\n",
              "      <td>1.000880e+00</td>\n",
              "      <td>1.000880e+00</td>\n",
              "      <td>1.000880e+00</td>\n",
              "      <td>1.000880e+00</td>\n",
              "      <td>1.000880e+00</td>\n",
              "      <td>1.000880e+00</td>\n",
              "      <td>1.000880e+00</td>\n",
              "      <td>...</td>\n",
              "      <td>1.000880e+00</td>\n",
              "      <td>1.000880e+00</td>\n",
              "      <td>1.000880e+00</td>\n",
              "      <td>1.000880e+00</td>\n",
              "      <td>1.000880e+00</td>\n",
              "      <td>1.000880e+00</td>\n",
              "      <td>1.000880e+00</td>\n",
              "      <td>1.000880e+00</td>\n",
              "      <td>1.000880e+00</td>\n",
              "      <td>1.000880e+00</td>\n",
              "    </tr>\n",
              "    <tr>\n",
              "      <th>min</th>\n",
              "      <td>-2.029648e+00</td>\n",
              "      <td>-2.229249e+00</td>\n",
              "      <td>-1.984504e+00</td>\n",
              "      <td>-1.454443e+00</td>\n",
              "      <td>-3.112085e+00</td>\n",
              "      <td>-1.610136e+00</td>\n",
              "      <td>-1.114873e+00</td>\n",
              "      <td>-1.261820e+00</td>\n",
              "      <td>-2.744117e+00</td>\n",
              "      <td>-1.819865e+00</td>\n",
              "      <td>...</td>\n",
              "      <td>-1.726901e+00</td>\n",
              "      <td>-2.223994e+00</td>\n",
              "      <td>-1.693361e+00</td>\n",
              "      <td>-1.222423e+00</td>\n",
              "      <td>-2.682695e+00</td>\n",
              "      <td>-1.443878e+00</td>\n",
              "      <td>-1.305831e+00</td>\n",
              "      <td>-1.745063e+00</td>\n",
              "      <td>-2.160960e+00</td>\n",
              "      <td>-1.601839e+00</td>\n",
              "    </tr>\n",
              "    <tr>\n",
              "      <th>25%</th>\n",
              "      <td>-6.893853e-01</td>\n",
              "      <td>-7.259631e-01</td>\n",
              "      <td>-6.919555e-01</td>\n",
              "      <td>-6.671955e-01</td>\n",
              "      <td>-7.109628e-01</td>\n",
              "      <td>-7.470860e-01</td>\n",
              "      <td>-7.437479e-01</td>\n",
              "      <td>-7.379438e-01</td>\n",
              "      <td>-7.032397e-01</td>\n",
              "      <td>-7.226392e-01</td>\n",
              "      <td>...</td>\n",
              "      <td>-6.749213e-01</td>\n",
              "      <td>-7.486293e-01</td>\n",
              "      <td>-6.895783e-01</td>\n",
              "      <td>-6.421359e-01</td>\n",
              "      <td>-6.912304e-01</td>\n",
              "      <td>-6.810833e-01</td>\n",
              "      <td>-7.565142e-01</td>\n",
              "      <td>-7.563999e-01</td>\n",
              "      <td>-6.418637e-01</td>\n",
              "      <td>-6.919118e-01</td>\n",
              "    </tr>\n",
              "    <tr>\n",
              "      <th>50%</th>\n",
              "      <td>-2.150816e-01</td>\n",
              "      <td>-1.046362e-01</td>\n",
              "      <td>-2.359800e-01</td>\n",
              "      <td>-2.951869e-01</td>\n",
              "      <td>-3.489108e-02</td>\n",
              "      <td>-2.219405e-01</td>\n",
              "      <td>-3.422399e-01</td>\n",
              "      <td>-3.977212e-01</td>\n",
              "      <td>-7.162650e-02</td>\n",
              "      <td>-1.782793e-01</td>\n",
              "      <td>...</td>\n",
              "      <td>-2.690395e-01</td>\n",
              "      <td>-4.351564e-02</td>\n",
              "      <td>-2.859802e-01</td>\n",
              "      <td>-3.411812e-01</td>\n",
              "      <td>-4.684277e-02</td>\n",
              "      <td>-2.695009e-01</td>\n",
              "      <td>-2.182321e-01</td>\n",
              "      <td>-2.234689e-01</td>\n",
              "      <td>-1.274095e-01</td>\n",
              "      <td>-2.164441e-01</td>\n",
              "    </tr>\n",
              "    <tr>\n",
              "      <th>75%</th>\n",
              "      <td>4.693926e-01</td>\n",
              "      <td>5.841756e-01</td>\n",
              "      <td>4.996769e-01</td>\n",
              "      <td>3.635073e-01</td>\n",
              "      <td>6.361990e-01</td>\n",
              "      <td>4.938569e-01</td>\n",
              "      <td>5.260619e-01</td>\n",
              "      <td>6.469351e-01</td>\n",
              "      <td>5.307792e-01</td>\n",
              "      <td>4.709834e-01</td>\n",
              "      <td>...</td>\n",
              "      <td>5.220158e-01</td>\n",
              "      <td>6.583411e-01</td>\n",
              "      <td>5.402790e-01</td>\n",
              "      <td>3.575891e-01</td>\n",
              "      <td>5.975448e-01</td>\n",
              "      <td>5.396688e-01</td>\n",
              "      <td>5.311411e-01</td>\n",
              "      <td>7.125100e-01</td>\n",
              "      <td>4.501382e-01</td>\n",
              "      <td>4.507624e-01</td>\n",
              "    </tr>\n",
              "    <tr>\n",
              "      <th>max</th>\n",
              "      <td>3.971288e+00</td>\n",
              "      <td>4.651889e+00</td>\n",
              "      <td>3.976130e+00</td>\n",
              "      <td>5.250529e+00</td>\n",
              "      <td>4.770911e+00</td>\n",
              "      <td>4.568425e+00</td>\n",
              "      <td>4.243589e+00</td>\n",
              "      <td>3.927930e+00</td>\n",
              "      <td>4.484751e+00</td>\n",
              "      <td>4.910919e+00</td>\n",
              "      <td>...</td>\n",
              "      <td>4.094189e+00</td>\n",
              "      <td>3.885905e+00</td>\n",
              "      <td>4.287337e+00</td>\n",
              "      <td>5.930172e+00</td>\n",
              "      <td>3.955374e+00</td>\n",
              "      <td>5.112877e+00</td>\n",
              "      <td>4.700669e+00</td>\n",
              "      <td>2.685877e+00</td>\n",
              "      <td>6.046041e+00</td>\n",
              "      <td>6.846856e+00</td>\n",
              "    </tr>\n",
              "  </tbody>\n",
              "</table>\n",
              "<p>8 rows × 30 columns</p>\n",
              "</div>\n",
              "    <div class=\"colab-df-buttons\">\n",
              "\n",
              "  <div class=\"colab-df-container\">\n",
              "    <button class=\"colab-df-convert\" onclick=\"convertToInteractive('df-9e8ff90e-4efe-4d3b-b64c-a02e05061655')\"\n",
              "            title=\"Convert this dataframe to an interactive table.\"\n",
              "            style=\"display:none;\">\n",
              "\n",
              "  <svg xmlns=\"http://www.w3.org/2000/svg\" height=\"24px\" viewBox=\"0 -960 960 960\">\n",
              "    <path d=\"M120-120v-720h720v720H120Zm60-500h600v-160H180v160Zm220 220h160v-160H400v160Zm0 220h160v-160H400v160ZM180-400h160v-160H180v160Zm440 0h160v-160H620v160ZM180-180h160v-160H180v160Zm440 0h160v-160H620v160Z\"/>\n",
              "  </svg>\n",
              "    </button>\n",
              "\n",
              "  <style>\n",
              "    .colab-df-container {\n",
              "      display:flex;\n",
              "      gap: 12px;\n",
              "    }\n",
              "\n",
              "    .colab-df-convert {\n",
              "      background-color: #E8F0FE;\n",
              "      border: none;\n",
              "      border-radius: 50%;\n",
              "      cursor: pointer;\n",
              "      display: none;\n",
              "      fill: #1967D2;\n",
              "      height: 32px;\n",
              "      padding: 0 0 0 0;\n",
              "      width: 32px;\n",
              "    }\n",
              "\n",
              "    .colab-df-convert:hover {\n",
              "      background-color: #E2EBFA;\n",
              "      box-shadow: 0px 1px 2px rgba(60, 64, 67, 0.3), 0px 1px 3px 1px rgba(60, 64, 67, 0.15);\n",
              "      fill: #174EA6;\n",
              "    }\n",
              "\n",
              "    .colab-df-buttons div {\n",
              "      margin-bottom: 4px;\n",
              "    }\n",
              "\n",
              "    [theme=dark] .colab-df-convert {\n",
              "      background-color: #3B4455;\n",
              "      fill: #D2E3FC;\n",
              "    }\n",
              "\n",
              "    [theme=dark] .colab-df-convert:hover {\n",
              "      background-color: #434B5C;\n",
              "      box-shadow: 0px 1px 3px 1px rgba(0, 0, 0, 0.15);\n",
              "      filter: drop-shadow(0px 1px 2px rgba(0, 0, 0, 0.3));\n",
              "      fill: #FFFFFF;\n",
              "    }\n",
              "  </style>\n",
              "\n",
              "    <script>\n",
              "      const buttonEl =\n",
              "        document.querySelector('#df-9e8ff90e-4efe-4d3b-b64c-a02e05061655 button.colab-df-convert');\n",
              "      buttonEl.style.display =\n",
              "        google.colab.kernel.accessAllowed ? 'block' : 'none';\n",
              "\n",
              "      async function convertToInteractive(key) {\n",
              "        const element = document.querySelector('#df-9e8ff90e-4efe-4d3b-b64c-a02e05061655');\n",
              "        const dataTable =\n",
              "          await google.colab.kernel.invokeFunction('convertToInteractive',\n",
              "                                                    [key], {});\n",
              "        if (!dataTable) return;\n",
              "\n",
              "        const docLinkHtml = 'Like what you see? Visit the ' +\n",
              "          '<a target=\"_blank\" href=https://colab.research.google.com/notebooks/data_table.ipynb>data table notebook</a>'\n",
              "          + ' to learn more about interactive tables.';\n",
              "        element.innerHTML = '';\n",
              "        dataTable['output_type'] = 'display_data';\n",
              "        await google.colab.output.renderOutput(dataTable, element);\n",
              "        const docLink = document.createElement('div');\n",
              "        docLink.innerHTML = docLinkHtml;\n",
              "        element.appendChild(docLink);\n",
              "      }\n",
              "    </script>\n",
              "  </div>\n",
              "\n",
              "\n",
              "<div id=\"df-52386e9c-600e-40e1-aa0f-b95aa41a0134\">\n",
              "  <button class=\"colab-df-quickchart\" onclick=\"quickchart('df-52386e9c-600e-40e1-aa0f-b95aa41a0134')\"\n",
              "            title=\"Suggest charts\"\n",
              "            style=\"display:none;\">\n",
              "\n",
              "<svg xmlns=\"http://www.w3.org/2000/svg\" height=\"24px\"viewBox=\"0 0 24 24\"\n",
              "     width=\"24px\">\n",
              "    <g>\n",
              "        <path d=\"M19 3H5c-1.1 0-2 .9-2 2v14c0 1.1.9 2 2 2h14c1.1 0 2-.9 2-2V5c0-1.1-.9-2-2-2zM9 17H7v-7h2v7zm4 0h-2V7h2v10zm4 0h-2v-4h2v4z\"/>\n",
              "    </g>\n",
              "</svg>\n",
              "  </button>\n",
              "\n",
              "<style>\n",
              "  .colab-df-quickchart {\n",
              "      --bg-color: #E8F0FE;\n",
              "      --fill-color: #1967D2;\n",
              "      --hover-bg-color: #E2EBFA;\n",
              "      --hover-fill-color: #174EA6;\n",
              "      --disabled-fill-color: #AAA;\n",
              "      --disabled-bg-color: #DDD;\n",
              "  }\n",
              "\n",
              "  [theme=dark] .colab-df-quickchart {\n",
              "      --bg-color: #3B4455;\n",
              "      --fill-color: #D2E3FC;\n",
              "      --hover-bg-color: #434B5C;\n",
              "      --hover-fill-color: #FFFFFF;\n",
              "      --disabled-bg-color: #3B4455;\n",
              "      --disabled-fill-color: #666;\n",
              "  }\n",
              "\n",
              "  .colab-df-quickchart {\n",
              "    background-color: var(--bg-color);\n",
              "    border: none;\n",
              "    border-radius: 50%;\n",
              "    cursor: pointer;\n",
              "    display: none;\n",
              "    fill: var(--fill-color);\n",
              "    height: 32px;\n",
              "    padding: 0;\n",
              "    width: 32px;\n",
              "  }\n",
              "\n",
              "  .colab-df-quickchart:hover {\n",
              "    background-color: var(--hover-bg-color);\n",
              "    box-shadow: 0 1px 2px rgba(60, 64, 67, 0.3), 0 1px 3px 1px rgba(60, 64, 67, 0.15);\n",
              "    fill: var(--button-hover-fill-color);\n",
              "  }\n",
              "\n",
              "  .colab-df-quickchart-complete:disabled,\n",
              "  .colab-df-quickchart-complete:disabled:hover {\n",
              "    background-color: var(--disabled-bg-color);\n",
              "    fill: var(--disabled-fill-color);\n",
              "    box-shadow: none;\n",
              "  }\n",
              "\n",
              "  .colab-df-spinner {\n",
              "    border: 2px solid var(--fill-color);\n",
              "    border-color: transparent;\n",
              "    border-bottom-color: var(--fill-color);\n",
              "    animation:\n",
              "      spin 1s steps(1) infinite;\n",
              "  }\n",
              "\n",
              "  @keyframes spin {\n",
              "    0% {\n",
              "      border-color: transparent;\n",
              "      border-bottom-color: var(--fill-color);\n",
              "      border-left-color: var(--fill-color);\n",
              "    }\n",
              "    20% {\n",
              "      border-color: transparent;\n",
              "      border-left-color: var(--fill-color);\n",
              "      border-top-color: var(--fill-color);\n",
              "    }\n",
              "    30% {\n",
              "      border-color: transparent;\n",
              "      border-left-color: var(--fill-color);\n",
              "      border-top-color: var(--fill-color);\n",
              "      border-right-color: var(--fill-color);\n",
              "    }\n",
              "    40% {\n",
              "      border-color: transparent;\n",
              "      border-right-color: var(--fill-color);\n",
              "      border-top-color: var(--fill-color);\n",
              "    }\n",
              "    60% {\n",
              "      border-color: transparent;\n",
              "      border-right-color: var(--fill-color);\n",
              "    }\n",
              "    80% {\n",
              "      border-color: transparent;\n",
              "      border-right-color: var(--fill-color);\n",
              "      border-bottom-color: var(--fill-color);\n",
              "    }\n",
              "    90% {\n",
              "      border-color: transparent;\n",
              "      border-bottom-color: var(--fill-color);\n",
              "    }\n",
              "  }\n",
              "</style>\n",
              "\n",
              "  <script>\n",
              "    async function quickchart(key) {\n",
              "      const quickchartButtonEl =\n",
              "        document.querySelector('#' + key + ' button');\n",
              "      quickchartButtonEl.disabled = true;  // To prevent multiple clicks.\n",
              "      quickchartButtonEl.classList.add('colab-df-spinner');\n",
              "      try {\n",
              "        const charts = await google.colab.kernel.invokeFunction(\n",
              "            'suggestCharts', [key], {});\n",
              "      } catch (error) {\n",
              "        console.error('Error during call to suggestCharts:', error);\n",
              "      }\n",
              "      quickchartButtonEl.classList.remove('colab-df-spinner');\n",
              "      quickchartButtonEl.classList.add('colab-df-quickchart-complete');\n",
              "    }\n",
              "    (() => {\n",
              "      let quickchartButtonEl =\n",
              "        document.querySelector('#df-52386e9c-600e-40e1-aa0f-b95aa41a0134 button');\n",
              "      quickchartButtonEl.style.display =\n",
              "        google.colab.kernel.accessAllowed ? 'block' : 'none';\n",
              "    })();\n",
              "  </script>\n",
              "</div>\n",
              "    </div>\n",
              "  </div>\n"
            ]
          },
          "metadata": {},
          "execution_count": 87
        }
      ],
      "source": [
        "df = pd.DataFrame(X).describe()\n",
        "\n",
        "df"
      ]
    },
    {
      "cell_type": "code",
      "source": [
        "X_mal = X[y == 0]\n",
        "X_ben = X[y == 1]\n",
        "\n",
        "# Display the shapes of the resulting subsets\n",
        "print(\"Shape of X for malignant:\", X_mal.shape)\n",
        "print(\"Shape of X for benign:\", X_ben.shape)"
      ],
      "metadata": {
        "colab": {
          "base_uri": "https://localhost:8080/"
        },
        "id": "qPB2q9K78mAJ",
        "outputId": "b7c05897-8c80-4af2-fdc2-4dbaaaa6efdc"
      },
      "execution_count": null,
      "outputs": [
        {
          "output_type": "stream",
          "name": "stdout",
          "text": [
            "Shape of X for malignant: (212, 30)\n",
            "Shape of X for benign: (357, 30)\n"
          ]
        }
      ]
    },
    {
      "cell_type": "code",
      "source": [
        "mal = 15\n",
        "total = 300\n",
        "X_mal_sp = pd.DataFrame(X_mal[:mal, :])\n",
        "X_ben_sp = pd.DataFrame(X_ben[:total - mal, :])\n",
        "y_mal_sp = pd.DataFrame(np.ones(mal))\n",
        "y_ben_sp = pd.DataFrame(np.zeros(total - mal))"
      ],
      "metadata": {
        "id": "8YJOg6aD9dMD"
      },
      "execution_count": null,
      "outputs": []
    },
    {
      "cell_type": "code",
      "source": [
        "X_sp = pd.concat([X_mal_sp, X_ben_sp])\n",
        "y_sp = pd.concat([y_mal_sp, y_ben_sp])"
      ],
      "metadata": {
        "id": "ag8naUQY-Q8C"
      },
      "execution_count": null,
      "outputs": []
    },
    {
      "cell_type": "code",
      "source": [
        "clf = LogisticRegression(solver='lbfgs', max_iter=100).fit(X_sp, np.squeeze(y_sp))"
      ],
      "metadata": {
        "id": "qtWtQ8s5_JXn"
      },
      "execution_count": null,
      "outputs": []
    },
    {
      "cell_type": "code",
      "execution_count": null,
      "metadata": {
        "colab": {
          "base_uri": "https://localhost:8080/"
        },
        "outputId": "1db3182b-2107-47d5-de54-ad3c8cdb10be",
        "id": "pCQC4nId_mKq"
      },
      "outputs": [
        {
          "output_type": "execute_result",
          "data": {
            "text/plain": [
              "0.8666666666666667"
            ]
          },
          "metadata": {},
          "execution_count": 105
        }
      ],
      "source": [
        "accuracy_score(y_mal_sp, clf.predict(X_mal_sp))"
      ]
    },
    {
      "cell_type": "code",
      "source": [
        "accuracy_score(y_ben_sp, clf.predict(X_ben_sp))"
      ],
      "metadata": {
        "colab": {
          "base_uri": "https://localhost:8080/"
        },
        "outputId": "4a59119b-6231-4aa1-b8c6-2302cd201fb8",
        "id": "KgrZnQFU_mKq"
      },
      "execution_count": null,
      "outputs": [
        {
          "output_type": "execute_result",
          "data": {
            "text/plain": [
              "1.0"
            ]
          },
          "metadata": {},
          "execution_count": 106
        }
      ]
    },
    {
      "cell_type": "code",
      "source": [
        "cm_mal = confusion_matrix(y_mal_sp, clf.predict(X_mal_sp))\n",
        "cm_mal"
      ],
      "metadata": {
        "colab": {
          "base_uri": "https://localhost:8080/"
        },
        "outputId": "f1683d1d-4d88-4a01-92fa-3ca1fb8b3794",
        "id": "oF2eEo5pGoRM"
      },
      "execution_count": null,
      "outputs": [
        {
          "output_type": "execute_result",
          "data": {
            "text/plain": [
              "array([[ 0,  0],\n",
              "       [ 2, 13]])"
            ]
          },
          "metadata": {},
          "execution_count": 107
        }
      ]
    },
    {
      "cell_type": "code",
      "source": [
        "TPR_mal =  cm_mal.ravel()[3] / (cm_mal.ravel()[3] + cm_mal.ravel()[2] )                               #TPR = TP / P = TP / (TP + FN)\n",
        "print('TPR is: %.4f' % TPR_mal)\n",
        "\n",
        "FPR_mal = cm_mal.ravel()[1] / (cm_mal.ravel()[1] + cm_mal.ravel()[0] )                         #FPR = FP / N = FP / (FP + TN)\n",
        "print('FPR is: %.4f' % FPR_mal)"
      ],
      "metadata": {
        "colab": {
          "base_uri": "https://localhost:8080/"
        },
        "outputId": "ea7d0aa6-0360-4672-c04a-fa162a08a2ad",
        "id": "r5dzXwk3GoRM"
      },
      "execution_count": null,
      "outputs": [
        {
          "output_type": "stream",
          "name": "stdout",
          "text": [
            "TPR is: 0.8667\n",
            "FPR is: nan\n"
          ]
        },
        {
          "output_type": "stream",
          "name": "stderr",
          "text": [
            "<ipython-input-108-0bbe9d53c9e6>:4: RuntimeWarning: invalid value encountered in long_scalars\n",
            "  FPR_mal = cm_mal.ravel()[1] / (cm_mal.ravel()[1] + cm_mal.ravel()[0] )                         #FPR = FP / N = FP / (FP + TN)\n"
          ]
        }
      ]
    },
    {
      "cell_type": "code",
      "source": [
        "cm = confusion_matrix(y_sp, clf.predict(X_sp))\n",
        "cm"
      ],
      "metadata": {
        "colab": {
          "base_uri": "https://localhost:8080/"
        },
        "outputId": "6e2dd37c-ba0e-4183-f9eb-97bba30921bf",
        "id": "8cnWW4QoJPwE"
      },
      "execution_count": null,
      "outputs": [
        {
          "output_type": "execute_result",
          "data": {
            "text/plain": [
              "array([[285,   0],\n",
              "       [  2,  13]])"
            ]
          },
          "metadata": {},
          "execution_count": 109
        }
      ]
    },
    {
      "cell_type": "code",
      "source": [
        "TPR =  cm.ravel()[3] / (cm.ravel()[3] + cm.ravel()[2] )                               #TPR = TP / P = TP / (TP + FN)\n",
        "print('TPR is: %.4f' % TPR)\n",
        "\n",
        "FPR = cm.ravel()[1] / (cm.ravel()[1] + cm.ravel()[0] )                         #FPR = FP / N = FP / (FP + TN)\n",
        "print('FPR is: %.4f' % FPR)"
      ],
      "metadata": {
        "colab": {
          "base_uri": "https://localhost:8080/"
        },
        "outputId": "10d9037d-00e3-4030-eb68-d56a359fe77e",
        "id": "-r50rw5gJPwX"
      },
      "execution_count": null,
      "outputs": [
        {
          "output_type": "stream",
          "name": "stdout",
          "text": [
            "TPR is: 0.8667\n",
            "FPR is: 0.0000\n"
          ]
        }
      ]
    }
  ]
}