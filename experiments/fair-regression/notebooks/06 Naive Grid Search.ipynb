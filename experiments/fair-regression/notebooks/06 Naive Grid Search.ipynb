{
  "nbformat": 4,
  "nbformat_minor": 0,
  "metadata": {
    "colab": {
      "provenance": [],
      "authorship_tag": "ABX9TyNdZ9iKIxasJ9fGh/Vclq0w",
      "include_colab_link": true
    },
    "kernelspec": {
      "name": "python3",
      "display_name": "Python 3"
    },
    "language_info": {
      "name": "python"
    }
  },
  "cells": [
    {
      "cell_type": "markdown",
      "metadata": {
        "id": "view-in-github",
        "colab_type": "text"
      },
      "source": [
        "<a href=\"https://colab.research.google.com/github/Cumberkid/Learning-the-Optimal-Solution-Path/blob/main/experiments/fair-regression/notebooks/06%20Naive%20Grid%20Search.ipynb\" target=\"_parent\"><img src=\"https://colab.research.google.com/assets/colab-badge.svg\" alt=\"Open In Colab\"/></a>"
      ]
    },
    {
      "cell_type": "markdown",
      "metadata": {
        "jp-MarkdownHeadingCollapsed": true,
        "id": "ZrpyuxcPuBMC"
      },
      "source": [
        "# Import necessary libraries"
      ]
    },
    {
      "cell_type": "code",
      "execution_count": null,
      "metadata": {
        "colab": {
          "base_uri": "https://localhost:8080/"
        },
        "outputId": "92784a63-1107-4b39-acf4-2d8409268ddd",
        "id": "c69qsdzouBMK"
      },
      "outputs": [
        {
          "output_type": "stream",
          "name": "stdout",
          "text": [
            "Using device: cpu\n"
          ]
        }
      ],
      "source": [
        "import numpy as np\n",
        "import torch\n",
        "from torch.utils.data import DataLoader  #for creating the dataset\n",
        "\n",
        "\n",
        "device = (\n",
        "    \"cuda\"\n",
        "    if torch.cuda.is_available()\n",
        "    else \"mps\"\n",
        "    if torch.backends.mps.is_available()\n",
        "    else \"cpu\"\n",
        ")\n",
        "print(f\"Using device: {device}\")"
      ]
    },
    {
      "cell_type": "code",
      "execution_count": null,
      "metadata": {
        "id": "nKiZrvI3uBMK"
      },
      "outputs": [],
      "source": [
        "import pandas as pd"
      ]
    },
    {
      "cell_type": "code",
      "execution_count": null,
      "metadata": {
        "id": "ilgp28V6EXJO"
      },
      "outputs": [],
      "source": [
        "import matplotlib.pyplot as plt\n",
        "import matplotlib as mpl"
      ]
    },
    {
      "cell_type": "code",
      "execution_count": null,
      "metadata": {
        "id": "n5rQ2Zl4tpi9"
      },
      "outputs": [],
      "source": [
        "# import importlib"
      ]
    },
    {
      "cell_type": "markdown",
      "source": [
        "## Import our own modules"
      ],
      "metadata": {
        "id": "YyNwiMwJeCKC"
      }
    },
    {
      "cell_type": "code",
      "source": [
        "# !rm -r Learning-the-Optimal-Solution-Path\n",
        "!git clone https://github.com/Cumberkid/Learning-the-Optimal-Solution-Path.git"
      ],
      "metadata": {
        "colab": {
          "base_uri": "https://localhost:8080/"
        },
        "id": "dZ5lkHsABfe5",
        "outputId": "9c13cf3d-b1a7-4706-e7ab-e9fbfa20e5fc"
      },
      "execution_count": null,
      "outputs": [
        {
          "output_type": "stream",
          "name": "stdout",
          "text": [
            "Cloning into 'Learning-the-Optimal-Solution-Path'...\n",
            "remote: Enumerating objects: 542, done.\u001b[K\n",
            "remote: Counting objects: 100% (352/352), done.\u001b[K\n",
            "remote: Compressing objects: 100% (239/239), done.\u001b[K\n",
            "remote: Total 542 (delta 199), reused 180 (delta 105), pack-reused 190\u001b[K\n",
            "Receiving objects: 100% (542/542), 10.99 MiB | 24.96 MiB/s, done.\n",
            "Resolving deltas: 100% (295/295), done.\n"
          ]
        }
      ]
    },
    {
      "cell_type": "markdown",
      "source": [
        "(Using Colab)"
      ],
      "metadata": {
        "id": "dPaWbXNvOah1"
      }
    },
    {
      "cell_type": "code",
      "source": [
        "import sys"
      ],
      "metadata": {
        "id": "0Fc72mLtNfKO"
      },
      "execution_count": null,
      "outputs": []
    },
    {
      "cell_type": "code",
      "source": [
        "# Add the parent directory to sys.path\n",
        "sys.path.append('/content/Learning-the-Optimal-Solution-Path')"
      ],
      "metadata": {
        "id": "lVU2ohV1NFVX"
      },
      "execution_count": null,
      "outputs": []
    },
    {
      "cell_type": "code",
      "source": [
        "import lib\n",
        "# importlib.reload(lib)"
      ],
      "metadata": {
        "id": "vZuer2csD23g"
      },
      "execution_count": null,
      "outputs": []
    },
    {
      "cell_type": "code",
      "execution_count": null,
      "metadata": {
        "id": "i1wokCiguBMK"
      },
      "outputs": [],
      "source": [
        "from lib.utils_data import Regression_Data\n",
        "from lib.ngs.naive_grid_search import naive_grid_search\n",
        "from lib.ngs.utils_ngs import get_sup_error"
      ]
    },
    {
      "cell_type": "markdown",
      "source": [
        "# Load data"
      ],
      "metadata": {
        "id": "m3L-U5TOhH2n"
      }
    },
    {
      "cell_type": "code",
      "source": [
        "# file path for Colab. May need to change this\n",
        "X_df = pd.read_csv('/content/Learning-the-Optimal-Solution-Path/experiments/fair-regression/data/X_processed.csv')\n",
        "y_df = pd.read_csv('/content/Learning-the-Optimal-Solution-Path/experiments/fair-regression/data/y_processed.csv')"
      ],
      "metadata": {
        "id": "xz01m9n3-PiU"
      },
      "execution_count": null,
      "outputs": []
    },
    {
      "cell_type": "code",
      "source": [
        "X = np.array(X_df)\n",
        "y = np.array(y_df).squeeze()"
      ],
      "metadata": {
        "id": "Ev2RodgeMIwF"
      },
      "execution_count": null,
      "outputs": []
    },
    {
      "cell_type": "code",
      "execution_count": null,
      "metadata": {
        "id": "oolBYZdQM1gM"
      },
      "outputs": [],
      "source": [
        "full_data = Regression_Data(X, y)\n",
        "# full gradient descent uses all data points\n",
        "GD_data_loader = DataLoader(full_data, batch_size=len(full_data), shuffle=True, )\n",
        "# stochastic gradient descent uses mini-batch\n",
        "SGD_data_loader = DataLoader(full_data, batch_size=20, shuffle=True, )\n",
        "# test data\n",
        "test_data_loader = DataLoader(full_data, batch_size=len(full_data), shuffle=False, )"
      ]
    },
    {
      "cell_type": "code",
      "execution_count": null,
      "metadata": {
        "id": "moE99v-9M1gV"
      },
      "outputs": [],
      "source": [
        "lam_max = 1\n",
        "lam_min = 0\n",
        "input_dim = X.shape[1]\n",
        "criterion=torch.nn.BCELoss()"
      ]
    },
    {
      "cell_type": "markdown",
      "source": [
        "# Naive Grid Search"
      ],
      "metadata": {
        "id": "057CxqrOob_M"
      }
    },
    {
      "cell_type": "code",
      "execution_count": null,
      "metadata": {
        "colab": {
          "base_uri": "https://localhost:8080/"
        },
        "id": "q2ZoGv-0d7Ut",
        "outputId": "f7b12c87-e3c7-48fa-9757-0f25dcad1662"
      },
      "outputs": [
        {
          "output_type": "stream",
          "name": "stdout",
          "text": [
            "Mounted at /content/drive\n"
          ]
        }
      ],
      "source": [
        "from google.colab import drive\n",
        "drive.mount('/content/drive')"
      ]
    },
    {
      "cell_type": "code",
      "execution_count": null,
      "metadata": {
        "id": "NLC1gSkVn3R0"
      },
      "outputs": [],
      "source": [
        "import time"
      ]
    },
    {
      "cell_type": "markdown",
      "metadata": {
        "id": "vzX_1TpIIdq2"
      },
      "source": [
        "# Exact Gradient Oracle Constant LR"
      ]
    },
    {
      "cell_type": "markdown",
      "source": [
        "Use the previously tuned lr = 2."
      ],
      "metadata": {
        "id": "gQwFylHsomTi"
      }
    },
    {
      "cell_type": "code",
      "execution_count": null,
      "metadata": {
        "id": "IWlUFaEhRwkV"
      },
      "outputs": [],
      "source": [
        "lam_max = 1\n",
        "lam_min = 0\n",
        "lr = 2\n",
        "max_epochs = 5000\n",
        "# a list of solution accuracy delta wish to be achieved\n",
        "delta_list = 0.5 ** np.arange(3, 9, 0.2)"
      ]
    },
    {
      "cell_type": "code",
      "execution_count": null,
      "metadata": {
        "colab": {
          "base_uri": "https://localhost:8080/"
        },
        "outputId": "f535be00-9c7e-4a4e-f25f-96c142cb5471",
        "id": "OeqDDvsFRwkW"
      },
      "outputs": [
        {
          "output_type": "stream",
          "name": "stdout",
          "text": [
            "grid #: 28\t total iteration #: 280\t sup error: 0.1113289073109627\t Execution time: 4.930688858032227 seconds\n",
            "grid #: 30\t total iteration #: 300\t sup error: 0.10846743732690821\t Execution time: 4.830096960067749 seconds\n",
            "grid #: 32\t total iteration #: 320\t sup error: 0.10319911688566209\t Execution time: 5.339426755905151 seconds\n",
            "grid #: 35\t total iteration #: 350\t sup error: 0.09907814860343937\t Execution time: 6.709510564804077 seconds\n",
            "grid #: 37\t total iteration #: 370\t sup error: 0.09513391554355624\t Execution time: 6.984997749328613 seconds\n",
            "grid #: 40\t total iteration #: 400\t sup error: 0.090820286422968\t Execution time: 7.541378021240234 seconds\n",
            "grid #: 43\t total iteration #: 440\t sup error: 0.06058480218052872\t Execution time: 8.763097047805786 seconds\n",
            "grid #: 46\t total iteration #: 470\t sup error: 0.05893441289663324\t Execution time: 8.892436504364014 seconds\n",
            "grid #: 49\t total iteration #: 520\t sup error: 0.0589468628168107\t Execution time: 10.050185918807983 seconds\n",
            "grid #: 53\t total iteration #: 590\t sup error: 0.042423721402883544\t Execution time: 10.998936653137207 seconds\n",
            "grid #: 57\t total iteration #: 670\t sup error: 0.04276850074529657\t Execution time: 11.803951740264893 seconds\n",
            "grid #: 61\t total iteration #: 770\t sup error: 0.03445832431316379\t Execution time: 13.845747232437134 seconds\n",
            "grid #: 65\t total iteration #: 890\t sup error: 0.03458654507994659\t Execution time: 16.62899351119995 seconds\n",
            "grid #: 70\t total iteration #: 1060\t sup error: 0.029180653393268592\t Execution time: 18.447768926620483 seconds\n",
            "grid #: 75\t total iteration #: 1260\t sup error: 0.024368569254875246\t Execution time: 22.9057834148407 seconds\n",
            "grid #: 80\t total iteration #: 1490\t sup error: 0.021718330681324033\t Execution time: 26.81126618385315 seconds\n",
            "grid #: 86\t total iteration #: 1800\t sup error: 0.02104589063674219\t Execution time: 33.18642234802246 seconds\n",
            "grid #: 92\t total iteration #: 2160\t sup error: 0.018100112676620532\t Execution time: 40.090492486953735 seconds\n",
            "grid #: 98\t total iteration #: 2600\t sup error: 0.018100112676620532\t Execution time: 47.968871116638184 seconds\n",
            "grid #: 106\t total iteration #: 3160\t sup error: 0.01810011453926568\t Execution time: 61.20997333526611 seconds\n",
            "grid #: 113\t total iteration #: 3790\t sup error: 0.015232234261930029\t Execution time: 73.51863932609558 seconds\n",
            "grid #: 121\t total iteration #: 4590\t sup error: 0.012937934137880842\t Execution time: 87.4483904838562 seconds\n",
            "grid #: 130\t total iteration #: 5530\t sup error: 0.01293793786317114\t Execution time: 100.68067765235901 seconds\n",
            "grid #: 139\t total iteration #: 6650\t sup error: 0.010043371468782515\t Execution time: 119.5744833946228 seconds\n",
            "grid #: 149\t total iteration #: 7980\t sup error: 0.010043371468782515\t Execution time: 143.41447925567627 seconds\n",
            "grid #: 160\t total iteration #: 9570\t sup error: 0.009173311293125243\t Execution time: 172.3321225643158 seconds\n",
            "grid #: 171\t total iteration #: 11450\t sup error: 0.009173311293125243\t Execution time: 219.85665273666382 seconds\n",
            "grid #: 184\t total iteration #: 13650\t sup error: 0.008773960173130126\t Execution time: 250.97451496124268 seconds\n",
            "grid #: 197\t total iteration #: 16140\t sup error: 0.005897515453398326\t Execution time: 293.3847997188568 seconds\n",
            "grid #: 211\t total iteration #: 19020\t sup error: 0.005628848448395827\t Execution time: 343.59854197502136 seconds\n"
          ]
        }
      ],
      "source": [
        "total_itr_list = []\n",
        "sup_error_list = []\n",
        "for delta in delta_list:\n",
        "    # number of grids according to 1/sqrt(delta)\n",
        "    num_grid = round(10 / np.sqrt(delta))\n",
        "\n",
        "    start_time = time.time()\n",
        "    total_itr, reg_params, intercepts, weights = naive_grid_search(lam_min=lam_min, lam_max=lam_max,\n",
        "                                num_grid=num_grid, epochs=max_epochs, loss_fn=criterion,\n",
        "                                trainDataLoader=GD_data_loader,\n",
        "                                data_input_dim=input_dim, obj='fairness',\n",
        "                                lr=lr, SGD=False, testDataLoader=test_data_loader,\n",
        "                                true_loss_list=true_losses, stopping_criterion=delta)\n",
        "\n",
        "    end_time = time.time()\n",
        "    execution_time = end_time - start_time\n",
        "\n",
        "    total_itr_list.append(total_itr)\n",
        "\n",
        "    sup_error = get_sup_error(lam_min, lam_max, true_losses, intercepts,\n",
        "                                  weights, reg_params, test_data_loader, criterion, obj='fairness')\n",
        "\n",
        "    sup_error_list.append(sup_error)\n",
        "\n",
        "    print(f\"grid #: {num_grid}\\t total iteration #: {total_itr}\\t sup error: {sup_error}\\t Execution time: {execution_time} seconds\")\n",
        "\n",
        "total_itr_list = np.array(total_itr_list)\n",
        "sup_error_list = np.array(sup_error_list)"
      ]
    },
    {
      "cell_type": "code",
      "source": [
        "df = pd.DataFrame(np.column_stack((total_itr_list, sup_error_list)), columns=['num_itr', 'sup_err'])\n",
        "\n",
        "# Save the DataFrame to a CSV file\n",
        "df.to_csv('NGS_results_exact.csv', index=False)\n",
        "\n",
        "# Read the CSV file into a DataFrame\n",
        "df = pd.read_csv('NGS_results_exact.csv')"
      ],
      "metadata": {
        "id": "xPrqppGKfs8S"
      },
      "execution_count": null,
      "outputs": []
    },
    {
      "cell_type": "code",
      "execution_count": null,
      "metadata": {
        "id": "CQ36HU41XmbT"
      },
      "outputs": [],
      "source": [
        "# import csv\n",
        "\n",
        "# csv_file_path = '/content/drive/MyDrive/Experiments/NGS_results_exact.csv'\n",
        "\n",
        "# # Open the CSV file for writing\n",
        "# with open(csv_file_path, 'w', newline='') as csv_file:\n",
        "#     # Create a CSV writer\n",
        "#     csv_writer = csv.writer(csv_file)\n",
        "\n",
        "#     # Write the headers\n",
        "#     csv_writer.writerow(['num_itr', 'sup_err'])\n",
        "\n",
        "#     # Write the data from your lists\n",
        "#     for i in range(len(total_itr_list)):\n",
        "#         csv_writer.writerow([total_itr_list[i], sup_error_list[i]])"
      ]
    },
    {
      "cell_type": "code",
      "execution_count": null,
      "metadata": {
        "id": "naJMPWNiNotQ"
      },
      "outputs": [],
      "source": [
        "# for i in range(len(sup_error_list)):\n",
        "#     sup_error_list[i] = np.min(sup_error_list[:i+1])"
      ]
    },
    {
      "cell_type": "code",
      "execution_count": null,
      "metadata": {
        "colab": {
          "base_uri": "https://localhost:8080/",
          "height": 887
        },
        "id": "alq5bqxb-Z6F",
        "outputId": "2aa4d84b-9116-466d-d7a1-8c016d1b0cdf"
      },
      "outputs": [
        {
          "output_type": "stream",
          "name": "stderr",
          "text": [
            "WARNING:matplotlib.legend:No artists with labels found to put in legend.  Note that artists whose label start with an underscore are ignored when legend() is called with no argument.\n"
          ]
        },
        {
          "output_type": "display_data",
          "data": {
            "text/plain": [
              "<Figure size 1000x1000 with 1 Axes>"
            ],
            "image/png": "[encoded data removed]"
          },
          "metadata": {}
        }
      ],
      "source": [
        "# plot result of learning the solution path\n",
        "plt.figure(figsize=(10,10))\n",
        "plt.plot(total_itr_list, np.log(sup_error_list), '--o')\n",
        "plt.xlabel('# of Gradient Calls')\n",
        "plt.ylabel('$\\\\log\\\\epsilon$')\n",
        "plt.legend()\n",
        "plt.grid(True)"
      ]
    },
    {
      "cell_type": "markdown",
      "metadata": {
        "id": "hF5n908EJUtF"
      },
      "source": [
        "# Noisy Gradient Oracle Diminishing LR"
      ]
    },
    {
      "cell_type": "markdown",
      "source": [
        "Use the previously tuned diminishing factor $\\alpha = 8$ where lr = $\\alpha/T$."
      ],
      "metadata": {
        "id": "jidU8xc9ovVE"
      }
    },
    {
      "cell_type": "code",
      "execution_count": null,
      "metadata": {
        "id": "jLEjAd4_j_in"
      },
      "outputs": [],
      "source": [
        "lam_max = 1\n",
        "lam_min = 0\n",
        "alpha = 2**3\n",
        "max_epochs = 5000\n",
        "# a list of solution accuracy delta wish to be achieved\n",
        "delta_list = 0.5 ** np.arange(3, 7, 0.125)"
      ]
    },
    {
      "cell_type": "code",
      "execution_count": null,
      "metadata": {
        "id": "st7L0qITijep",
        "outputId": "2a339d30-c3a8-4738-b657-be161dba1292"
      },
      "outputs": [
        {
          "name": "stdout",
          "output_type": "stream",
          "text": [
            "grid #: 28\t total iteration #: 340\t sup error: 0.12806227803230294\t Execution time: 58.33738088607788 seconds\n",
            "grid #: 30\t total iteration #: 380\t sup error: 0.11760282516479492\t Execution time: 59.871182441711426 seconds\n",
            "grid #: 31\t total iteration #: 370\t sup error: 0.09389710426330569\t Execution time: 57.774436712265015 seconds\n",
            "grid #: 32\t total iteration #: 370\t sup error: 0.0984701961278916\t Execution time: 60.3169903755188 seconds\n",
            "grid #: 34\t total iteration #: 430\t sup error: 0.09169669449329376\t Execution time: 71.76477837562561 seconds\n",
            "grid #: 35\t total iteration #: 490\t sup error: 0.08168046176433572\t Execution time: 81.55543899536133 seconds\n",
            "grid #: 37\t total iteration #: 510\t sup error: 0.07611775398254395\t Execution time: 85.14778065681458 seconds\n",
            "grid #: 38\t total iteration #: 590\t sup error: 0.07992149144411095\t Execution time: 98.72878527641296 seconds\n",
            "grid #: 40\t total iteration #: 620\t sup error: 0.06609161198139196\t Execution time: 99.22847747802734 seconds\n",
            "grid #: 42\t total iteration #: 630\t sup error: 0.0641807913780213\t Execution time: 78.28628492355347 seconds\n",
            "grid #: 44\t total iteration #: 760\t sup error: 0.061380662024021204\t Execution time: 87.01392459869385 seconds\n",
            "grid #: 46\t total iteration #: 760\t sup error: 0.05327448248863223\t Execution time: 82.63922238349915 seconds\n",
            "grid #: 48\t total iteration #: 800\t sup error: 0.045917853713035583\t Execution time: 93.15181016921997 seconds\n",
            "grid #: 50\t total iteration #: 900\t sup error: 0.04806776344776162\t Execution time: 151.35720205307007 seconds\n",
            "grid #: 52\t total iteration #: 940\t sup error: 0.041905418038368225\t Execution time: 156.15699768066406 seconds\n",
            "grid #: 54\t total iteration #: 1040\t sup error: 0.03901779651641846\t Execution time: 154.9037868976593 seconds\n",
            "grid #: 57\t total iteration #: 1140\t sup error: 0.040266245603561485\t Execution time: 139.7137050628662 seconds\n",
            "grid #: 59\t total iteration #: 1120\t sup error: 0.03541731834411625\t Execution time: 164.44131588935852 seconds\n",
            "grid #: 62\t total iteration #: 1360\t sup error: 0.03020796179771429\t Execution time: 217.46665287017822 seconds\n",
            "grid #: 64\t total iteration #: 1440\t sup error: 0.0326992422342301\t Execution time: 240.40946221351624 seconds\n",
            "grid #: 67\t total iteration #: 1570\t sup error: 0.027239590883255047\t Execution time: 244.64052367210388 seconds\n",
            "grid #: 70\t total iteration #: 1840\t sup error: 0.026233166456222617\t Execution time: 187.3123631477356 seconds\n",
            "grid #: 73\t total iteration #: 1860\t sup error: 0.024964157491922455\t Execution time: 236.44527673721313 seconds\n",
            "grid #: 77\t total iteration #: 2100\t sup error: 0.02208518981933602\t Execution time: 315.1772360801697 seconds\n",
            "grid #: 80\t total iteration #: 2210\t sup error: 0.024043835699558327\t Execution time: 352.57377433776855 seconds\n",
            "grid #: 84\t total iteration #: 2400\t sup error: 0.02302107587456704\t Execution time: 390.30643343925476 seconds\n",
            "grid #: 87\t total iteration #: 2730\t sup error: 0.019552918151021045\t Execution time: 374.34943890571594 seconds\n",
            "grid #: 91\t total iteration #: 3360\t sup error: 0.01840786729007967\t Execution time: 476.6494541168213 seconds\n",
            "grid #: 95\t total iteration #: 3650\t sup error: 0.018516940064728336\t Execution time: 540.5020868778229 seconds\n",
            "grid #: 99\t total iteration #: 4080\t sup error: 0.018433272838592543\t Execution time: 574.3490843772888 seconds\n",
            "grid #: 104\t total iteration #: 14940\t sup error: 0.01704341173171997\t Execution time: 2273.6664068698883 seconds\n",
            "grid #: 108\t total iteration #: 15120\t sup error: 0.018344670534133925\t Execution time: 2124.964356660843 seconds\n"
          ]
        }
      ],
      "source": [
        "total_itr_list = []\n",
        "sup_error_list = []\n",
        "np.random.seed(8675309)\n",
        "torch.manual_seed(8675309)\n",
        "for delta in delta_list:\n",
        "    # number of grids according to 1/sqrt(delta)\n",
        "    num_grid = round(10 / np.sqrt(delta))\n",
        "\n",
        "    start_time = time.time()\n",
        "    total_itr, reg_params, intercepts, weights = naive_grid_search(lam_min=lam_min, lam_max=lam_max,\n",
        "                                num_grid=num_grid, epochs=max_epochs, loss_fn=criterion,\n",
        "                                trainDataLoader=SGD_data_loader, data_input_dim=input_dim, obj='fairness',\n",
        "                                alpha=alpha, init_lr = 1, SGD=True, testDataLoader=test_data_loader,\n",
        "                                true_loss_list=true_losses, stopping_criterion=delta)\n",
        "\n",
        "    end_time = time.time()\n",
        "    execution_time = end_time - start_time\n",
        "\n",
        "    total_itr_list.append(total_itr)\n",
        "\n",
        "    sup_error = get_sup_error(lam_min, lam_max, true_losses, intercepts,\n",
        "                                  weights, reg_params, test_data_loader, criterion, obj='fairness')\n",
        "\n",
        "    sup_error_list.append(sup_error)\n",
        "\n",
        "    print(f\"grid #: {num_grid}\\t total iteration #: {total_itr}\\t sup error: {sup_error}\\t Execution time: {execution_time} seconds\")\n",
        "\n",
        "total_itr_list = np.array(total_itr_list)\n",
        "sup_error_list = np.array(sup_error_list)"
      ]
    },
    {
      "cell_type": "code",
      "source": [
        "df = pd.DataFrame(np.column_stack((total_itr_list, sup_error_list)), columns=['num_itr', 'sup_err'])\n",
        "\n",
        "# Save the DataFrame to a CSV file\n",
        "df.to_csv('NGS_results_noisy.csv', index=False)\n",
        "\n",
        "# Read the CSV file into a DataFrame\n",
        "df = pd.read_csv('NGS_results_noisy.csv')"
      ],
      "metadata": {
        "id": "jG8sNfeTpKDz"
      },
      "execution_count": null,
      "outputs": []
    },
    {
      "cell_type": "code",
      "execution_count": null,
      "metadata": {
        "id": "6DrcC1WuKcnz"
      },
      "outputs": [],
      "source": [
        "# # plot result of learning the solution path\n",
        "# plt.figure(figsize=(10,10))\n",
        "# plt.plot(total_itr_list, np.log(sup_error_list), '--o', )\n",
        "# plt.ylabel('# of Gradient Calls')\n",
        "# plt.xlabel('$\\\\log\\\\epsilon$')\n",
        "# plt.legend()\n",
        "# plt.grid(True)"
      ]
    }
  ]
}